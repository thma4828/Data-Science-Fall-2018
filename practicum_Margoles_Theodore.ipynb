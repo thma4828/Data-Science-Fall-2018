{
 "cells": [
  {
   "cell_type": "markdown",
   "metadata": {},
   "source": [
    "<a id='top'></a>\n",
    "\n",
    "# CSCI 3022: Intro to Data Science - Fall 2018 Practicum \n",
    "***\n",
    "\n",
    "This practicum is due on Moodle by **11:55pm on Wednesday December 12**. Your solutions to theoretical questions should be done in Markdown/MathJax directly below the associated question.  Your solutions to computational questions should include any specified Python code and results as well as written commentary on your conclusions.  \n",
    "\n",
    "**Here are the rules:** \n",
    "\n",
    "1. All work, code and analysis, must be your own. \n",
    "1. You may use your course notes, posted lecture slides, textbooks, in-class notebooks, and homework solutions as resources.  You may also search online for answers to general knowledge questions like the form of a probability distribution function or how to perform a particular operation in Python/Pandas. \n",
    "1. This is meant to be like a coding portion of your final exam. So, the instructional team will be much less helpful than we typically are with homework. For example, we will not check answers, help debug your code, and so on.\n",
    "1. If something is left open-ended, it is because we want to see how you approach the kinds of problems you will encounter in the wild, where it will not always be clear what sort of tests/methods should be applied. Feel free to ask clarifying questions though.\n",
    "2. You may **NOT** post to message boards or other online resources asking for help.\n",
    "3. You may **NOT** copy-paste solutions *from anywhere*.\n",
    "4. You may **NOT** collaborate with classmates or anyone else.\n",
    "5. In short, **your work must be your own**. It really is that simple.\n",
    "\n",
    "Violation of the above rules will result in an immediate academic sanction (*at the very least*, you will receive a 0 on the practicum or an F in the course, depending on severity), and a trip to the Honor Code Council.\n",
    "\n",
    "**By submitting this assignment, you agree to abide by the rules given above.**\n",
    "\n",
    "***\n",
    "\n",
    "**Name**:  Theodore Margoles\n",
    "\n",
    "***\n",
    "\n",
    "\n",
    "**NOTES**: \n",
    "\n",
    "- You may not use late days on the practicum nor can you drop your practicum grade. \n",
    "- If you have a question for us, post it as a **PRIVATE** message on Piazza.  If we decide that the question is appropriate for the entire class, then we will add it to a Practicum clarifications thread. \n",
    "- Do **NOT** load or use any Python packages that are not available in Anaconda 3.6. \n",
    "- Some problems with code may be autograded.  If we provide a function API **do not** change it.  If we do not provide a function API then you're free to structure your code however you like. \n",
    "- Submit only this Jupyter notebook to Moodle.  Do not compress it using tar, rar, zip, etc. \n",
    "- This should go without saying, but... For any question that asks you to calculate something, you **must show all work to receive credit**. Sparse or nonexistent work will receive sparse or nonexistent credit.\n",
    "\n",
    "---\n",
    "**Shortcuts:**  [Problem 1](#p1) | [Problem 2](#p2) | [Problem 3](#p3)\n",
    "\n",
    "---"
   ]
  },
  {
   "cell_type": "code",
   "execution_count": 1,
   "metadata": {},
   "outputs": [],
   "source": [
    "from scipy import stats\n",
    "import numpy as np \n",
    "import statsmodels.api as sm\n",
    "import pandas as pd\n",
    "import matplotlib.pyplot as plt\n",
    "%matplotlib inline"
   ]
  },
  {
   "cell_type": "markdown",
   "metadata": {},
   "source": [
    "<br>\n",
    "\n",
    "---\n",
    "[Back to top](#top)\n",
    "<a id='p1'></a>\n",
    "\n",
    "### [35 points] Problem 1: Yahtzee!"
   ]
  },
  {
   "cell_type": "markdown",
   "metadata": {},
   "source": [
    "**Part A:** You are playing [Yahtzee](https://en.wikipedia.org/wiki/Yahtzee) with your friends. A player's turn in Yahtzee consists of rolling a set of 5 dice. Then the player is given two additional rolls, where they are allowed to re-roll any number of the dice, including potentially all of them or none of them. The goal is to obtain certain combinations of the dice values resulting after the third roll. Different combinations are worth different amounts of points, and the goal of the game is to get as many points as possible.\n",
    "\n",
    "This game of Yahtzee is a bit unlike any you have ever played before, however. This is because Darth Ketelsen is back, and with her she brought her famous **5-sided dice**. These are fair dice with sides numbered 1-5. So, you are playing Yahtzee with a Sith Lord with 5-sided dice. Indeed, things just got real.\n",
    "\n",
    "A **straight** in Darth Ketelsen's game consists of 5 values all in a row. For example, the outcome $[1,2,3,4,5]$ is a  straight but the outcome $[1,2,3,4,4]$ is not.\n",
    "\n",
    "**Do two things:**\n",
    "1. Compute by hand the probability of rolling a straight in a single roll of all 5 dice. Show all work.\n",
    "2. Write a simulation to verify the probability that you computed. Run at least 10,000 simulations. "
   ]
  },
  {
   "cell_type": "markdown",
   "metadata": {},
   "source": [
    "rolling 5 dice at once is equivalent to taking 5 bernouli trials, so we can think about just rolling a dice 5 times and think about the probability of this being a straight.\n",
    "\n",
    "\n",
    "The sample space of 5 rolls consists of a total of $5^5 =  3125$ possible outcomes\n",
    "\n",
    "the event consists of {[1,2,3,4,5] ,  [5,4,3,2,1],} which is only 2 possible outcomes...\n",
    "\n",
    "so the probability of rolling a straight then is: $\\frac{2}{3125} = 0.00064$"
   ]
  },
  {
   "cell_type": "code",
   "execution_count": 22,
   "metadata": {},
   "outputs": [
    {
     "name": "stdout",
     "output_type": "stream",
     "text": [
      "estimated probability of getting a straight with 5 sided dice:  0.0007\n",
      "error from calculated probability:  5.999999999999994e-05\n"
     ]
    }
   ],
   "source": [
    "def is_A_Straight(five_rolls): #definately finds all the straights!\n",
    "    lastNum = five_rolls[0]\n",
    "    AscendingCount = 0\n",
    "    for index, item in iter(enumerate(five_rolls)): #this loop finds ascending straights (iter enumerate for the win!)\n",
    "        if index != 0:\n",
    "            if item == lastNum + 1:\n",
    "                AscendingCount += 1     \n",
    "        lastNum = item\n",
    "    lastNum = five_rolls[0]\n",
    "    DescendingCount = 0\n",
    "    for index, item in iter(enumerate(five_rolls)): #this loop finds descending straights\n",
    "        if index != 0:\n",
    "            if item == lastNum -1:\n",
    "                DescendingCount += 1\n",
    "        lastNum = item\n",
    "    if AscendingCount == 4 or DescendingCount == 4: #due to zero base indexing\n",
    "        return 1\n",
    "    else:\n",
    "        return 0\n",
    "                \n",
    "\n",
    "def yahtzee_simulator(numtrials):\n",
    "    rolls_data = []\n",
    "    die = [1,2,3,4,5]\n",
    "    for _ in range(1, numtrials + 1):\n",
    "        five_rolls = []\n",
    "        for __ in range(1, 6):\n",
    "            five_rolls.append(np.random.choice(die, size=1, replace=True)) #make a die roll 5 times \n",
    "        val = is_A_Straight(five_rolls)\n",
    "        rolls_data.append(val)\n",
    "    return np.mean(rolls_data) #return the means of 0s and 1s which gives us the probability as estimated by numtrials trials\n",
    "\n",
    "meanval = yahtzee_simulator(100000)\n",
    "print(\"estimated probability of getting a straight with 5 sided dice: \", meanval)\n",
    "print(\"error from calculated probability: \", np.abs(meanval - 0.00064))"
   ]
  },
  {
   "cell_type": "markdown",
   "metadata": {},
   "source": [
    "**Part B:** The goal of this problem is to compute the probability of getting a straight using all three of your rolls, instead of just the single roll approach that you computed in Part A. Here, we'll need to implement a strategy so that after the first roll and after the second roll, we keep the dice that get us closer to a straight and re-roll the dice that are not useful for our straight.\n",
    "\n",
    "For instance, suppose your first roll comes up $[1,2,3,3,3]$. You really want to get that straight! So, you would follow the strategy of saving the $[1,2,3]$ and re-roll two of the threes, hoping for a 4 and 5 to get the straight. Then, for your third roll, you would save as many of the dice as possible that would be part of a straight, and re-roll any remaining dice.\n",
    "\n",
    "Finish the function below called `dire_straights` to simulate many complete 3-roll turns, and computes the probability of ending your turn with a straight. The only input to the function should be `ntrial`, an integer for the number of turns to simulate. Remember, each turn consists of 3 rolls.\n",
    "\n",
    "Then, use your function to estimate the probability of a straight after a full turn of Yahtzee. Use at least 10,000 simulations, and comment on the results."
   ]
  },
  {
   "cell_type": "code",
   "execution_count": 28,
   "metadata": {},
   "outputs": [
    {
     "name": "stdout",
     "output_type": "stream",
     "text": [
      "after a full 3 rolls of yahtzee the odds of getting a straight are:  0.4586\n"
     ]
    }
   ],
   "source": [
    " def retain_best_first_cards(hand):\n",
    "    newhand = []\n",
    "    ascending_indices = []\n",
    "    for index, item in iter(enumerate(hand)):\n",
    "        if index != 0:\n",
    "            if item == hand[index-1] + 1 :\n",
    "                ascending_indices.append(index)\n",
    "        else:\n",
    "            if item == hand[index+1] - 1:\n",
    "                ascending_indices.append(index)\n",
    "    descending_indices = []             \n",
    "    for index, item in iter(enumerate(hand)):\n",
    "        if index != 0:\n",
    "            if item == hand[index-1] - 1:\n",
    "                descending_indices.append(index)\n",
    "        else:\n",
    "            if item == hand[index+1] + 1:\n",
    "                descending_indices.append(index)\n",
    "    if len(ascending_indices) >= len(descending_indices):            \n",
    "        for i in ascending_indices:\n",
    "            newhand.append(hand[i])\n",
    "    else:\n",
    "        for j in descending_indices:\n",
    "            newhand.append(hand[j])\n",
    "        \n",
    "    return newhand\n",
    "            \n",
    " \n",
    " def dire_straights(ntrial):\n",
    "    die = [1,2,3,4,5]\n",
    "    results = []\n",
    "    for trial in range(ntrial):\n",
    "        hand = []\n",
    "        first_draw = np.random.choice(die, size=5, replace=True)\n",
    "        best_straight = retain_best_first_cards(first_draw)\n",
    "        turn = 0\n",
    "        gotStraight = False\n",
    "        while turn <= 2 and not gotStraight:\n",
    "            if len(best_straight) == 5:\n",
    "                gotStraight = True\n",
    "            else:\n",
    "                newcards = np.random.choice(die, size=5, replace=True)\n",
    "                if len(best_straight) > 0:\n",
    "                    upper = max(best_straight)\n",
    "                else:\n",
    "                    upper = 0\n",
    "                appendthese = []\n",
    "                for card in newcards:\n",
    "                    if card > upper and len(best_straight) < 5:\n",
    "                        best_straight.append(card)\n",
    "                if is_A_Straight(best_straight):\n",
    "                    gotStraight = True\n",
    "            turn += 1\n",
    "        if gotStraight is True:\n",
    "            results.append(1)\n",
    "        else:\n",
    "            results.append(0)\n",
    "    return results\n",
    "            \n",
    "            \n",
    "print(\"after a full 3 rolls of yahtzee the odds of getting a straight are: \", np.mean(dire_straights(10000)))"
   ]
  },
  {
   "cell_type": "markdown",
   "metadata": {},
   "source": [
    "**my resuls are that there is about a 46% chance of getting a straight in your three rolls, \n",
    "this is actually slightly lower than my intuition would lead me to expect so it makes sense in the context of being a cleverly designed game! However I also wonder if my simulation is missing any cases.**"
   ]
  },
  {
   "cell_type": "markdown",
   "metadata": {},
   "source": [
    "**Part C:** Write a simulation to estimate the probability of obtaining a straight if the first roll contains exactly three distinct unique values. For example, a valid first roll could be $[1,5,3,3,3]$ but not $[1,3,3,4,5]$. You are still using the set of 5-sided dice."
   ]
  },
  {
   "cell_type": "markdown",
   "metadata": {},
   "source": [
    "After $10,000$ iterations my simulation predicts:  $0.447444352844188$"
   ]
  },
  {
   "cell_type": "code",
   "execution_count": 95,
   "metadata": {},
   "outputs": [
    {
     "name": "stdout",
     "output_type": "stream",
     "text": [
      "estimated prob:  0.447444352844188\n"
     ]
    }
   ],
   "source": [
    "def is_only_three(hand):\n",
    "    hashTable = {}\n",
    "    hashTable[1] = 0\n",
    "    hashTable[2] = 0\n",
    "    hashTable[3] = 0\n",
    "    hashTable[4] = 0\n",
    "    hashTable[5] = 0\n",
    "    \n",
    "    for card in hand:\n",
    "        hashTable[card] += 1\n",
    "    \n",
    "    ucount = 0\n",
    "    for key in hashTable:\n",
    "        if hashTable[key] > 0:\n",
    "            ucount += 1\n",
    "        \n",
    "    if ucount == 3:\n",
    "        return 1\n",
    "    else:\n",
    "        return 0\n",
    "\n",
    "def three_on_first(ntrials):\n",
    "    die = [1,2,3,4,5]\n",
    "    results_three_unique = []\n",
    "    for trial in range(ntrials):\n",
    "        isThree = False\n",
    "        hand = []\n",
    "        first_draw = np.random.choice(die, size=5, replace=True)\n",
    "        if is_only_three(first_draw) == 1:\n",
    "            isThree = True\n",
    "        best_straight = retain_best_first_cards(first_draw)\n",
    "        turn = 0\n",
    "        gotStraight = False\n",
    "        while turn < 2 and not gotStraight:\n",
    "            if len(best_straight) == 5:\n",
    "                gotStraight = True\n",
    "            else:\n",
    "                newcards = []\n",
    "                for p in range(5):\n",
    "                    newcards.append(np.random.choice(die, size=1, replace=True))\n",
    "                if len(best_straight) > 0:\n",
    "                    upper = max(best_straight)\n",
    "                else:\n",
    "                    upper = 0\n",
    "                appendthese = []\n",
    "                for card in newcards:\n",
    "                    if card > upper and len(best_straight) < 5:\n",
    "                        best_straight.append(card)\n",
    "                if is_A_Straight(best_straight):\n",
    "                    gotStraight = True\n",
    "            turn += 1\n",
    "        if isThree is True and gotStraight is True:\n",
    "            results_three_unique.append(1)\n",
    "        elif isThree is True and gotStraight is False:\n",
    "            results_three_unique.append(0)\n",
    "    return np.mean(results_three_unique)\n",
    "\n",
    "            \n",
    "            \n",
    "print(\"estimated prob: \", three_on_first(10000))"
   ]
  },
  {
   "cell_type": "markdown",
   "metadata": {},
   "source": [
    "**Part D:** Verify your calculation from Part C by hand. Show all work, and comment on whether the two agree.\n",
    "\n",
    "*Hint: you will need to consider a variety of different cases - what are all the ways you could end up with a straight, given that your first roll contained exactly 3 unique values?*"
   ]
  },
  {
   "cell_type": "markdown",
   "metadata": {},
   "source": [
    "Lets begin by considering how many ways you could end up with 3 unique values in your hand of 5 cards.\n",
    "\n",
    "This should be $5\\choose{3}$ = $\\frac{5!}{(3!)(2!)}$ because this is the number of ways we can select 3 values from 5. \n",
    "\n",
    "$\\frac{5!}{(3!)(2!)}$ = $10$\n",
    "\n",
    "now we need to consider for each of these cases how many ways there are to then get a straight.\n",
    "\n",
    "If we have 3 unique values out of 5 this implies that over the next 2 rolls, we must only pick up 2 unique values from the remaining 10 cards (2 draws) we have to get a straight. \n",
    "\n",
    "There are therefore $10\\choose{2}$ = $45$ ways we could get 2 cards out of the remaining 10, and only 2 of these cases should satisfy the rest of the straight, \n",
    "\n",
    "so we have $\\frac{2}{45}$ x $\\frac{10}{1}$ = $\\frac{20}{45}$ = $0.4444$\n",
    "\n",
    "yes my calculation is very very close to the simulation! \n",
    "\n",
    "the simulated value: $0.447$ and the the actual value: $0.4444$\n",
    "\n",
    "which is close enough for me!"
   ]
  },
  {
   "cell_type": "code",
   "execution_count": 36,
   "metadata": {},
   "outputs": [
    {
     "name": "stdout",
     "output_type": "stream",
     "text": [
      "45.0\n",
      "0.0016999999999999793\n"
     ]
    }
   ],
   "source": [
    "def factorial(n):\n",
    "    if n == 1 or n == 0:\n",
    "        return 1\n",
    "    else:\n",
    "        return n*factorial(n-1)\n",
    "\n",
    "def n_choose_r(n, r):\n",
    "    return (factorial(n))/(factorial(r)*factorial(n-r))\n",
    "\n",
    "print(n_choose_r(10, 2))\n",
    "print(0.4461-0.4444)"
   ]
  },
  {
   "cell_type": "markdown",
   "metadata": {},
   "source": [
    "**Part E:**  Your friend offers you the following deal. Each time your Yahtzee turn (i.e., all three rolls) results in a 5-of-a-kind, she will give you \\$5. Each time your Yahtzee turn results in a straight, she will give you \\$3. But, she will charge you \\$1 for each turn (where a turn includes all 3 rolls of the five 5-sided dice). Should you take this deal? Fully justify your answer using calculations that include expected values. You may include some simulations to estimate relevant probabilities. Clearly state any assumptions you are making in your modeling choices."
   ]
  },
  {
   "cell_type": "markdown",
   "metadata": {},
   "source": [
    "**each time I roll either a straight of 5 of a kind I will have a straight so hypothetically the upper bound payout I will recieve is 3\\$. Further the calculated probability of such an event is 0.44 so that would be a 44% chance of recieving 3\\$ and a 100% chance of paying out 1\\$. **\n",
    "\n",
    "**the assumption here is that my calculated probability of 0.44 is the correct ratio of times that you would get a straight. Something in my intution still thinks that this number should be higher, however that would mean it would be even more profitable that my simulation, therefore I think I am safe in saying that I will take this deal. **\n",
    "\n",
    "**my python simulations seam to solidly support my conclusion.**"
   ]
  },
  {
   "cell_type": "code",
   "execution_count": 40,
   "metadata": {},
   "outputs": [
    {
     "name": "stdout",
     "output_type": "stream",
     "text": [
      "After 100 turns playing your net money gained is:  29\n",
      "After 1100 turns playing your net money gained is:  316\n",
      "After 11100 turns playing your net money gained is:  3204\n"
     ]
    }
   ],
   "source": [
    "ps = [0.56, 0.44]\n",
    "choice = [\"no straight\", \"straight\"]\n",
    "\n",
    "netMoney = 0\n",
    "for i in range(100):\n",
    "    c = np.random.choice(choice,replace=True,p=ps,size=1)\n",
    "    if c == \"straight\":\n",
    "        netMoney += 3\n",
    "    netMoney -= 1\n",
    "print(\"After 100 turns playing your net money gained is: \", netMoney)\n",
    "    \n",
    "for i in range(1000):\n",
    "    c = np.random.choice(choice,replace=True,p=ps,size=1)\n",
    "    if c == \"straight\":\n",
    "        netMoney += 3\n",
    "    netMoney -= 1    \n",
    "    \n",
    "print(\"After 1100 turns playing your net money gained is: \", netMoney)\n",
    "    \n",
    "for i in range(10000):\n",
    "    c = np.random.choice(choice,replace=True,p=ps,size=1)\n",
    "    if c == \"straight\":\n",
    "        netMoney += 3\n",
    "    netMoney -= 1 \n",
    "    \n",
    "print(\"After 11100 turns playing your net money gained is: \", netMoney)\n",
    "    \n",
    "    "
   ]
  },
  {
   "cell_type": "markdown",
   "metadata": {},
   "source": [
    "<br>\n",
    "\n",
    "---\n",
    "[Back to top](#top)\n",
    "<a id='p2'></a>\n",
    "\n",
    "### [30 points] Problem 2: Sharknado Prediction"
   ]
  },
  {
   "cell_type": "markdown",
   "metadata": {},
   "source": [
    "Governor Hickenlooper has charged you with the task of assessing the factors associated with sharknado risk in Colorado. As everyone knows, sharknadoes are a leading cause of sharknado-related illness, and you are a world-renowned data/shark scientist.\n",
    "\n",
    "You decide to use multiple linear regression to understand and predict what factors lead to increased sharknado hazard. Your lead scientist, aptly named Fin, has collected lots of relevant data at a local sharknado hotspot, the Boulder Reservoir[\\*](#footnote). The data cover a variety of sharknado-related environmental and other conditions, and you'll find this data in the file `sharknadoes.csv`. \n",
    "\n",
    "**Response**: \n",
    "\n",
    "- $\\texttt{sharknado hazard}$: the hazard of a sharknado, where 1 is very unlikely and 100 is highly likely\n",
    "\n",
    "**Features**: \n",
    "\n",
    "- $\\texttt{taunts}$: the number of times over the past year that someone has taunted a shark\n",
    "- $\\texttt{clouds}$: what percentage of the sky was covered by clouds (fraction, 0-1)\n",
    "- $\\texttt{precipitation}$: amount of precipitation in the past 72 hours (inches)\n",
    "- $\\texttt{earthquake}$: the intensity of the most recent earthquake measured in the continental United States\n",
    "- $\\texttt{shark attacks}$: the number of shark attacks within 72 hours prior to the observation\n",
    "- $\\texttt{ice cream sold}$: the number of units of ice cream sold at the beach concession stand \n",
    "- $\\texttt{misery index}$: an economic indicator for how miserable the average United States citizen is, based on the unemployment rate and the inflation rate. More [here](https://www.stuffyoushouldknow.com/podcasts/whats-the-misery-index.htm) and [here](https://en.wikipedia.org/wiki/Misery_index_(economics)). Higher values correspond to more miserable citizens.\n",
    "- $\\texttt{temperature}$: the outside temperature, measured in degrees Fahrenheit\n",
    "- $\\texttt{humidity}$: relative humidity (percent, 0-100)\n",
    "- $\\texttt{pizzas sold}$: the number of pizzas sold at the beach concession stand in the past year\n",
    "- $\\texttt{pressure}$: local air pressure (millibar) \n",
    "- $\\texttt{octopuses}$: the number of octupuses in the vicinity on the day of the observation\n",
    "- $\\texttt{Dan's shoe size}$: the size of the shoes Dan was wearing when the observation was made\n",
    "- $\\texttt{Tony's shoe size}$: the size of the shoes Tony was wearing when the observation was made"
   ]
  },
  {
   "cell_type": "markdown",
   "metadata": {},
   "source": [
    "**Part A**: Read the data from `sharknadoes.csv` into a Pandas DataFrame.  Note that since we will be doing a multiple linear regression we will need all of the features, so you should drop any row in the DataFrame that is missing data. "
   ]
  },
  {
   "cell_type": "code",
   "execution_count": 47,
   "metadata": {},
   "outputs": [
    {
     "data": {
      "text/html": [
       "<div>\n",
       "<style scoped>\n",
       "    .dataframe tbody tr th:only-of-type {\n",
       "        vertical-align: middle;\n",
       "    }\n",
       "\n",
       "    .dataframe tbody tr th {\n",
       "        vertical-align: top;\n",
       "    }\n",
       "\n",
       "    .dataframe thead th {\n",
       "        text-align: right;\n",
       "    }\n",
       "</style>\n",
       "<table border=\"1\" class=\"dataframe\">\n",
       "  <thead>\n",
       "    <tr style=\"text-align: right;\">\n",
       "      <th></th>\n",
       "      <th>clouds</th>\n",
       "      <th>earthquake</th>\n",
       "      <th>pizzas sold</th>\n",
       "      <th>taunts</th>\n",
       "      <th>pressure</th>\n",
       "      <th>shark attacks</th>\n",
       "      <th>octopuses</th>\n",
       "      <th>precipitation</th>\n",
       "      <th>misery index</th>\n",
       "      <th>ice cream sold</th>\n",
       "      <th>humidity</th>\n",
       "      <th>temperature</th>\n",
       "      <th>Dans shoe size</th>\n",
       "      <th>Tonys shoe size</th>\n",
       "      <th>sharknado hazard</th>\n",
       "    </tr>\n",
       "  </thead>\n",
       "  <tbody>\n",
       "    <tr>\n",
       "      <th>0</th>\n",
       "      <td>1.00</td>\n",
       "      <td>7.1</td>\n",
       "      <td>5560.0</td>\n",
       "      <td>15.0</td>\n",
       "      <td>847.12</td>\n",
       "      <td>2.0</td>\n",
       "      <td>7.0</td>\n",
       "      <td>0.824059</td>\n",
       "      <td>12.987180</td>\n",
       "      <td>273.0</td>\n",
       "      <td>86.41</td>\n",
       "      <td>78.0</td>\n",
       "      <td>42.0</td>\n",
       "      <td>9.0</td>\n",
       "      <td>40.22</td>\n",
       "    </tr>\n",
       "    <tr>\n",
       "      <th>1</th>\n",
       "      <td>1.00</td>\n",
       "      <td>7.4</td>\n",
       "      <td>5179.0</td>\n",
       "      <td>20.0</td>\n",
       "      <td>844.34</td>\n",
       "      <td>4.0</td>\n",
       "      <td>5.0</td>\n",
       "      <td>0.993296</td>\n",
       "      <td>16.765435</td>\n",
       "      <td>184.0</td>\n",
       "      <td>96.67</td>\n",
       "      <td>89.0</td>\n",
       "      <td>42.0</td>\n",
       "      <td>9.5</td>\n",
       "      <td>36.42</td>\n",
       "    </tr>\n",
       "    <tr>\n",
       "      <th>2</th>\n",
       "      <td>1.00</td>\n",
       "      <td>7.0</td>\n",
       "      <td>5227.0</td>\n",
       "      <td>0.0</td>\n",
       "      <td>839.48</td>\n",
       "      <td>9.0</td>\n",
       "      <td>2.0</td>\n",
       "      <td>1.173342</td>\n",
       "      <td>16.494518</td>\n",
       "      <td>141.0</td>\n",
       "      <td>53.85</td>\n",
       "      <td>65.0</td>\n",
       "      <td>9.5</td>\n",
       "      <td>9.0</td>\n",
       "      <td>19.54</td>\n",
       "    </tr>\n",
       "    <tr>\n",
       "      <th>3</th>\n",
       "      <td>0.13</td>\n",
       "      <td>7.9</td>\n",
       "      <td>5226.0</td>\n",
       "      <td>34.0</td>\n",
       "      <td>851.28</td>\n",
       "      <td>2.0</td>\n",
       "      <td>6.0</td>\n",
       "      <td>0.919291</td>\n",
       "      <td>8.277176</td>\n",
       "      <td>146.0</td>\n",
       "      <td>88.72</td>\n",
       "      <td>36.0</td>\n",
       "      <td>9.5</td>\n",
       "      <td>10.0</td>\n",
       "      <td>85.00</td>\n",
       "    </tr>\n",
       "    <tr>\n",
       "      <th>4</th>\n",
       "      <td>1.00</td>\n",
       "      <td>7.5</td>\n",
       "      <td>5491.0</td>\n",
       "      <td>6.0</td>\n",
       "      <td>852.67</td>\n",
       "      <td>2.0</td>\n",
       "      <td>4.0</td>\n",
       "      <td>1.729127</td>\n",
       "      <td>5.904750</td>\n",
       "      <td>178.0</td>\n",
       "      <td>63.08</td>\n",
       "      <td>72.0</td>\n",
       "      <td>42.0</td>\n",
       "      <td>9.0</td>\n",
       "      <td>56.34</td>\n",
       "    </tr>\n",
       "  </tbody>\n",
       "</table>\n",
       "</div>"
      ],
      "text/plain": [
       "   clouds  earthquake  pizzas sold  taunts  pressure  shark attacks  \\\n",
       "0    1.00         7.1       5560.0    15.0    847.12            2.0   \n",
       "1    1.00         7.4       5179.0    20.0    844.34            4.0   \n",
       "2    1.00         7.0       5227.0     0.0    839.48            9.0   \n",
       "3    0.13         7.9       5226.0    34.0    851.28            2.0   \n",
       "4    1.00         7.5       5491.0     6.0    852.67            2.0   \n",
       "\n",
       "   octopuses  precipitation  misery index  ice cream sold  humidity  \\\n",
       "0        7.0       0.824059     12.987180           273.0     86.41   \n",
       "1        5.0       0.993296     16.765435           184.0     96.67   \n",
       "2        2.0       1.173342     16.494518           141.0     53.85   \n",
       "3        6.0       0.919291      8.277176           146.0     88.72   \n",
       "4        4.0       1.729127      5.904750           178.0     63.08   \n",
       "\n",
       "   temperature  Dans shoe size  Tonys shoe size  sharknado hazard  \n",
       "0         78.0            42.0              9.0             40.22  \n",
       "1         89.0            42.0              9.5             36.42  \n",
       "2         65.0             9.5              9.0             19.54  \n",
       "3         36.0             9.5             10.0             85.00  \n",
       "4         72.0            42.0              9.0             56.34  "
      ]
     },
     "execution_count": 47,
     "metadata": {},
     "output_type": "execute_result"
    }
   ],
   "source": [
    "dfSharkys = pd.read_csv(\"data/sharknadoes.csv\")\n",
    "dfClean = dfSharkys.dropna(axis=0)\n",
    "Y = dfClean['sharknado hazard'] #response\n",
    "X = dfClean.iloc[:,:-1] #all features\n",
    "\n",
    "dfClean.head()"
   ]
  },
  {
   "cell_type": "markdown",
   "metadata": {},
   "source": [
    "**Part B**: Perform the appropriate statistical test at the $\\alpha = 0.01$ significance level to determine if _at least one_ of the features is related to the the response $y$.  Clearly describe your methodology and show all computations in Python. "
   ]
  },
  {
   "cell_type": "markdown",
   "metadata": {},
   "source": [
    "We will perform an $F$-test for ML-regression at the $\\alpha = 0.01$ confidence level. \n",
    "\n",
    "First we recall that the F-statistic is caluclated by: \n",
    "\n",
    "$\\frac{Explained \\space Variance}{Unexplained \\space Variance}$==$\\frac{MSM}{MSE}$ \n",
    "\n",
    "where $MSM$ = $\\frac{SSM}{DFM}$ \n",
    "\n",
    "and where $MSE$ = $\\frac{SSE}{DFE}$\n",
    "\n",
    "now lets break it down to each piece:\n",
    "\n",
    "$SSM$ = Sum of squared differences between the model and the mean. \n",
    "$DFM$ = correct degrees of freedome for the model, = $p-1$ = $15-1$ = $14$\n",
    "\n",
    "$SSE$ = Sum of squared errors, this is the sum of differences between the actual data and the model. \n",
    "$DFE$ = degrees of freedome for error = $n-p$ = $72-15$ = $57$.\n",
    "\n",
    "\n",
    "so new we can setup the following equations to solve:\n",
    "\n",
    "$MSM$ = $\\frac{SSM}{14}$ \n",
    "\n",
    "$MSE$ = $\\frac{SSE}{57}$\n",
    "\n",
    "so, $F$ = $\\frac{\\frac{SSM}{14}}{\\frac{SSE}{57}}$ = 179.4 as shown by python below, \n",
    "\n",
    "this gives us a **p-value of 9.60e-42** which is well below our **alpha level of 0.01**, so we can **reject the null hypothesis\n",
    "and instead conclude that there is at least one feature that has a slope $B_{j}$ $\\ne $ $0$. **\n",
    "\n",
    "that is, at least one of the features in the feature set is relevant to the result; the hazard of sharknadoes. "
   ]
  },
  {
   "cell_type": "code",
   "execution_count": 48,
   "metadata": {},
   "outputs": [
    {
     "name": "stdout",
     "output_type": "stream",
     "text": [
      "179.35849974932614\n",
      "9.599519434024341e-42\n"
     ]
    },
    {
     "data": {
      "text/html": [
       "<table class=\"simpletable\">\n",
       "<caption>OLS Regression Results</caption>\n",
       "<tr>\n",
       "  <th>Dep. Variable:</th>    <td>sharknado hazard</td> <th>  R-squared:         </th> <td>   0.978</td>\n",
       "</tr>\n",
       "<tr>\n",
       "  <th>Model:</th>                   <td>OLS</td>       <th>  Adj. R-squared:    </th> <td>   0.972</td>\n",
       "</tr>\n",
       "<tr>\n",
       "  <th>Method:</th>             <td>Least Squares</td>  <th>  F-statistic:       </th> <td>   179.4</td>\n",
       "</tr>\n",
       "<tr>\n",
       "  <th>Date:</th>             <td>Wed, 12 Dec 2018</td> <th>  Prob (F-statistic):</th> <td>9.60e-42</td>\n",
       "</tr>\n",
       "<tr>\n",
       "  <th>Time:</th>                 <td>09:45:33</td>     <th>  Log-Likelihood:    </th> <td> -174.23</td>\n",
       "</tr>\n",
       "<tr>\n",
       "  <th>No. Observations:</th>      <td>    72</td>      <th>  AIC:               </th> <td>   378.5</td>\n",
       "</tr>\n",
       "<tr>\n",
       "  <th>Df Residuals:</th>          <td>    57</td>      <th>  BIC:               </th> <td>   412.6</td>\n",
       "</tr>\n",
       "<tr>\n",
       "  <th>Df Model:</th>              <td>    14</td>      <th>                     </th>     <td> </td>   \n",
       "</tr>\n",
       "<tr>\n",
       "  <th>Covariance Type:</th>      <td>nonrobust</td>    <th>                     </th>     <td> </td>   \n",
       "</tr>\n",
       "</table>\n",
       "<table class=\"simpletable\">\n",
       "<tr>\n",
       "         <td></td>            <th>coef</th>     <th>std err</th>      <th>t</th>      <th>P>|t|</th>  <th>[0.025</th>    <th>0.975]</th>  \n",
       "</tr>\n",
       "<tr>\n",
       "  <th>const</th>           <td>-2549.8985</td> <td>   67.605</td> <td>  -37.718</td> <td> 0.000</td> <td>-2685.275</td> <td>-2414.522</td>\n",
       "</tr>\n",
       "<tr>\n",
       "  <th>clouds</th>          <td>   -1.5106</td> <td>    2.566</td> <td>   -0.589</td> <td> 0.558</td> <td>   -6.650</td> <td>    3.628</td>\n",
       "</tr>\n",
       "<tr>\n",
       "  <th>earthquake</th>      <td>    2.5079</td> <td>    0.467</td> <td>    5.367</td> <td> 0.000</td> <td>    1.572</td> <td>    3.444</td>\n",
       "</tr>\n",
       "<tr>\n",
       "  <th>pizzas sold</th>     <td>   -0.0006</td> <td>    0.002</td> <td>   -0.373</td> <td> 0.711</td> <td>   -0.004</td> <td>    0.003</td>\n",
       "</tr>\n",
       "<tr>\n",
       "  <th>taunts</th>          <td>    0.3117</td> <td>    0.042</td> <td>    7.447</td> <td> 0.000</td> <td>    0.228</td> <td>    0.396</td>\n",
       "</tr>\n",
       "<tr>\n",
       "  <th>pressure</th>        <td>    3.0688</td> <td>    0.079</td> <td>   38.850</td> <td> 0.000</td> <td>    2.911</td> <td>    3.227</td>\n",
       "</tr>\n",
       "<tr>\n",
       "  <th>shark attacks</th>   <td>   -0.1151</td> <td>    0.144</td> <td>   -0.797</td> <td> 0.429</td> <td>   -0.404</td> <td>    0.174</td>\n",
       "</tr>\n",
       "<tr>\n",
       "  <th>octopuses</th>       <td>   -0.0749</td> <td>    0.143</td> <td>   -0.524</td> <td> 0.602</td> <td>   -0.361</td> <td>    0.211</td>\n",
       "</tr>\n",
       "<tr>\n",
       "  <th>precipitation</th>   <td>    1.3982</td> <td>    0.930</td> <td>    1.503</td> <td> 0.138</td> <td>   -0.464</td> <td>    3.261</td>\n",
       "</tr>\n",
       "<tr>\n",
       "  <th>misery index</th>    <td>    0.0273</td> <td>    0.080</td> <td>    0.340</td> <td> 0.735</td> <td>   -0.133</td> <td>    0.188</td>\n",
       "</tr>\n",
       "<tr>\n",
       "  <th>ice cream sold</th>  <td>    0.0096</td> <td>    0.008</td> <td>    1.193</td> <td> 0.238</td> <td>   -0.007</td> <td>    0.026</td>\n",
       "</tr>\n",
       "<tr>\n",
       "  <th>humidity</th>        <td>    0.0188</td> <td>    0.027</td> <td>    0.706</td> <td> 0.483</td> <td>   -0.035</td> <td>    0.072</td>\n",
       "</tr>\n",
       "<tr>\n",
       "  <th>temperature</th>     <td>   -0.4426</td> <td>    0.053</td> <td>   -8.396</td> <td> 0.000</td> <td>   -0.548</td> <td>   -0.337</td>\n",
       "</tr>\n",
       "<tr>\n",
       "  <th>Dans shoe size</th>  <td>    0.0271</td> <td>    0.023</td> <td>    1.175</td> <td> 0.245</td> <td>   -0.019</td> <td>    0.073</td>\n",
       "</tr>\n",
       "<tr>\n",
       "  <th>Tonys shoe size</th> <td>    0.2814</td> <td>    1.273</td> <td>    0.221</td> <td> 0.826</td> <td>   -2.268</td> <td>    2.831</td>\n",
       "</tr>\n",
       "</table>\n",
       "<table class=\"simpletable\">\n",
       "<tr>\n",
       "  <th>Omnibus:</th>       <td> 0.821</td> <th>  Durbin-Watson:     </th> <td>   2.225</td>\n",
       "</tr>\n",
       "<tr>\n",
       "  <th>Prob(Omnibus):</th> <td> 0.663</td> <th>  Jarque-Bera (JB):  </th> <td>   0.300</td>\n",
       "</tr>\n",
       "<tr>\n",
       "  <th>Skew:</th>          <td> 0.005</td> <th>  Prob(JB):          </th> <td>   0.861</td>\n",
       "</tr>\n",
       "<tr>\n",
       "  <th>Kurtosis:</th>      <td> 3.316</td> <th>  Cond. No.          </th> <td>1.03e+06</td>\n",
       "</tr>\n",
       "</table><br/><br/>Warnings:<br/>[1] Standard Errors assume that the covariance matrix of the errors is correctly specified.<br/>[2] The condition number is large, 1.03e+06. This might indicate that there are<br/>strong multicollinearity or other numerical problems."
      ],
      "text/plain": [
       "<class 'statsmodels.iolib.summary.Summary'>\n",
       "\"\"\"\n",
       "                            OLS Regression Results                            \n",
       "==============================================================================\n",
       "Dep. Variable:       sharknado hazard   R-squared:                       0.978\n",
       "Model:                            OLS   Adj. R-squared:                  0.972\n",
       "Method:                 Least Squares   F-statistic:                     179.4\n",
       "Date:                Wed, 12 Dec 2018   Prob (F-statistic):           9.60e-42\n",
       "Time:                        09:45:33   Log-Likelihood:                -174.23\n",
       "No. Observations:                  72   AIC:                             378.5\n",
       "Df Residuals:                      57   BIC:                             412.6\n",
       "Df Model:                          14                                         \n",
       "Covariance Type:            nonrobust                                         \n",
       "===================================================================================\n",
       "                      coef    std err          t      P>|t|      [0.025      0.975]\n",
       "-----------------------------------------------------------------------------------\n",
       "const           -2549.8985     67.605    -37.718      0.000   -2685.275   -2414.522\n",
       "clouds             -1.5106      2.566     -0.589      0.558      -6.650       3.628\n",
       "earthquake          2.5079      0.467      5.367      0.000       1.572       3.444\n",
       "pizzas sold        -0.0006      0.002     -0.373      0.711      -0.004       0.003\n",
       "taunts              0.3117      0.042      7.447      0.000       0.228       0.396\n",
       "pressure            3.0688      0.079     38.850      0.000       2.911       3.227\n",
       "shark attacks      -0.1151      0.144     -0.797      0.429      -0.404       0.174\n",
       "octopuses          -0.0749      0.143     -0.524      0.602      -0.361       0.211\n",
       "precipitation       1.3982      0.930      1.503      0.138      -0.464       3.261\n",
       "misery index        0.0273      0.080      0.340      0.735      -0.133       0.188\n",
       "ice cream sold      0.0096      0.008      1.193      0.238      -0.007       0.026\n",
       "humidity            0.0188      0.027      0.706      0.483      -0.035       0.072\n",
       "temperature        -0.4426      0.053     -8.396      0.000      -0.548      -0.337\n",
       "Dans shoe size      0.0271      0.023      1.175      0.245      -0.019       0.073\n",
       "Tonys shoe size     0.2814      1.273      0.221      0.826      -2.268       2.831\n",
       "==============================================================================\n",
       "Omnibus:                        0.821   Durbin-Watson:                   2.225\n",
       "Prob(Omnibus):                  0.663   Jarque-Bera (JB):                0.300\n",
       "Skew:                           0.005   Prob(JB):                        0.861\n",
       "Kurtosis:                       3.316   Cond. No.                     1.03e+06\n",
       "==============================================================================\n",
       "\n",
       "Warnings:\n",
       "[1] Standard Errors assume that the covariance matrix of the errors is correctly specified.\n",
       "[2] The condition number is large, 1.03e+06. This might indicate that there are\n",
       "strong multicollinearity or other numerical problems.\n",
       "\"\"\""
      ]
     },
     "execution_count": 48,
     "metadata": {},
     "output_type": "execute_result"
    }
   ],
   "source": [
    "#I use python to do the heavy lifting and just look at my fvalue and pvalue for the f-statistic\n",
    "x = sm.add_constant(X) \n",
    "model = sm.OLS(Y, x).fit() \n",
    "print(model.fvalue)\n",
    "print(model.f_pvalue)\n",
    "model.summary()"
   ]
  },
  {
   "cell_type": "markdown",
   "metadata": {},
   "source": [
    "**Part C**: Write a function `backward_select(df, resp_str, maxsse)` that takes in the DataFrame (`df`), the name of the column corresponding to the response (`resp_str`), and the maximum desired sum of squared errors (`maxsse`), and returns a list of feature names corresponding to the most important features via backward selection.  Use your code to determine the reduced MLR model with the minimal number of features such that the SSE of the reduced model is less than 570. At each stage in backward selection you should remove the feature that has the highest p-value associated with the hypothesis test for the given slope coefficient $\\beta_k \\neq 0$.\n",
    "\n",
    "Your code should clearly indicate which feature was removed in each stage, and the SSE associated with the model fit before the feature's removal. _Specifically, please write your code to print the name of the feature that is going to be removed and the SSE before its removal_. Afterward, be sure to report all of the retained features and the SSE of the reduced model.\n",
    "\n",
    "**Note**: The point of this exercise is to see if you can implement **backward_select** yourself.  You may of course use canned routines like statmodels OLS, but you may not call any Python method that explicitly performs backward selection."
   ]
  },
  {
   "cell_type": "code",
   "execution_count": 49,
   "metadata": {},
   "outputs": [
    {
     "name": "stdout",
     "output_type": "stream",
     "text": [
      "backward select is dropping the feature:  pizzas sold  from the data!!!\n",
      "backward select is dropping the feature:  ice cream sold  from the data!!!\n",
      "backward select is dropping the feature:  humidity  from the data!!!\n",
      "backward select is dropping the feature:  misery index  from the data!!!\n",
      "backward select is dropping the feature:  Dans shoe size  from the data!!!\n",
      "backward select is dropping the feature:  shark attacks  from the data!!!\n",
      "backward select is dropping the feature:  octopuses  from the data!!!\n",
      "backward select is dropping the feature:  taunts  from the data!!!\n",
      "backward select is dropping the feature:  precipitation  from the data!!!\n",
      "backward select is dropping the feature:  temperature  from the data!!!\n",
      "backward select is dropping the feature:  Tonys shoe size  from the data!!!\n",
      "backward select is dropping the feature:  pressure  from the data!!!\n",
      "oldsse:  23477.74879453735\n",
      "newsse:  5531.396369760583\n",
      "===remaining features and their slopes!===\n",
      "const         22.671217\n",
      "clouds       -19.644575\n",
      "earthquake     7.593021\n",
      "dtype: float64\n"
     ]
    }
   ],
   "source": [
    "def backward_select(df, resp_str, maxsse):\n",
    "    Y = df[resp_str] #response\n",
    "    X = df.iloc[:,:-1] #all features except the response initially\n",
    "    X = sm.add_constant(X) #add the initial constant\n",
    "    model = sm.OLS(Y, X).fit() #make the initial fit\n",
    "\n",
    "    params = model.params #get the initial parameters\n",
    "    indices = params.index #get all initial variables.... etc etc\n",
    "    pvalue = model.f_pvalue\n",
    "    fvalue = model.fvalue\n",
    "    sse = oldsse = model.ess\n",
    "    numparamsleft = 14\n",
    "    while sse >= maxsse and numparamsleft > 1: #while we have not optimized enough and while we still have features to remove with backward select\n",
    "        worstSlopeSeen = max(np.abs(params))\n",
    "        worstSlopeCol = 'null'\n",
    "        for index, param in iter(enumerate(params)):\n",
    "            #print(index, param, indices[index])\n",
    "            if np.abs(param) < worstSlopeSeen and indices[index] != 'const': #find feature with the least slope\n",
    "                worstSlopeSeen = np.abs(param)\n",
    "                worstSlopeCol = indices[index]\n",
    "        print(\"backward select is dropping the feature: \", worstSlopeCol, \" from the data!!!\")\n",
    "        df = df.drop(axis=1, labels=[worstSlopeCol])\n",
    "        X = df.iloc[:,:-1] #all features except the response initially\n",
    "        X = sm.add_constant(X) \n",
    "        model = sm.OLS(Y, X).fit() #update all variables and models with new params!\n",
    "        params = model.params\n",
    "        indices = params.index\n",
    "        pvalue = model.f_pvalue\n",
    "        fvalue = model.fvalue\n",
    "        sse = model.ess\n",
    "        numparamsleft -= 1\n",
    "    print(\"oldsse: \", oldsse)\n",
    "    print(\"newsse: \", sse)\n",
    "    print(\"===remaining features and their slopes!===\")\n",
    "    print(model.params)\n",
    "    return df, model, model.params, oldsse, sse\n",
    "    \n",
    "dfCurr, modelnew, paramList, oldsse, newsse = backward_select(dfClean, \"sharknado hazard\", 6000)"
   ]
  },
  {
   "cell_type": "code",
   "execution_count": null,
   "metadata": {},
   "outputs": [],
   "source": []
  },
  {
   "cell_type": "markdown",
   "metadata": {},
   "source": [
    "**Part D**: Write down the multiple linear regression model, including estimated parameters, obtained by your backward selection process. "
   ]
  },
  {
   "cell_type": "markdown",
   "metadata": {},
   "source": [
    "$y_{i} = B_0 +B_{1}X_1 + B_{2}X_2$\n",
    "\n",
    "\n",
    "$y_{i} = 22.67 -19.64X_{1i} + 7.593021X_{2i}$\n",
    "\n",
    "where $X_1$ is the cloud data and $X_2$ is the earthquake data. "
   ]
  },
  {
   "cell_type": "markdown",
   "metadata": {},
   "source": [
    "**Part E**: Perform the appropriate statistical test at the $\\alpha = 0.01$ significance level to determine whether there is a statistically significant difference between the full model with all features and the reduced model obtained by backward selection in **Part D**. You may use output from your model fit above, but all calculations should be set up in Markdown/MathJax."
   ]
  },
  {
   "cell_type": "markdown",
   "metadata": {},
   "source": [
    "now we want to see if we really made a difference by removing all those features from the data, \n",
    "\n",
    "so we must set up an f-statistic of the following form: \n",
    "\n",
    "$F$ = $\\frac{\\frac{(SSE_{full} - SSE_{red})}{p-k}}{\\frac{SSE_{full}}{(n-p-1)}}$\n",
    "\n",
    "\n",
    "== $F$ = $\\frac{\\frac{23477.75 - 5531.396}{p-k}}{\\frac{5531.396}{(n-p-1)}}$\n",
    "== $F$ = $\\frac{\\frac{23477.75 - 5531.396}{2}}{\\frac{5531.396}{(14)}}$ == $22.7$\n",
    "\n",
    "so $p-k$ represents the degrees of freedom of reduced, and n-p-1 is the degrees of freedom of the full so \n",
    "we have \n",
    "$p-k$ = 2\n",
    "$n-p-1$ = 14\n",
    "\n",
    "Now, the pvalue from the f-test is:\n",
    "$1$ - $stats.f.cdf(22.7, 2, 14)$ = $4.040090883750125e-05$ which is below our alpha level of $0.01$, \n",
    "\n",
    "therefore we can reject the null hypothesis and conclude that there is a significant difference between the $SSE_{full}$ and the $SSE_{red}$ and therefore a statistically significant difference between the full and reduced model, namely that the reduced model is actually better since the Sum of Squared Error is lower. \n"
   ]
  },
  {
   "cell_type": "code",
   "execution_count": 51,
   "metadata": {},
   "outputs": [
    {
     "name": "stdout",
     "output_type": "stream",
     "text": [
      "SSEfull:  23477.74879453735 \n",
      " SSEred:  5531.396369760583\n"
     ]
    },
    {
     "data": {
      "text/plain": [
       "4.040090883750125e-05"
      ]
     },
     "execution_count": 51,
     "metadata": {},
     "output_type": "execute_result"
    }
   ],
   "source": [
    "print(\"SSEfull: \", oldsse, \"\\n SSEred: \", newsse)\n",
    "model.summary()\n",
    "\n",
    "1 - stats.f.cdf(22.7, 2, 14)"
   ]
  },
  {
   "cell_type": "markdown",
   "metadata": {},
   "source": [
    "**Part F**: Based on your conclusions in **Part E**, use the _better_ of the two models to predict the sharknado hazard when the following features are observed: \n",
    "\n",
    "- $\\texttt{taunts}$: 47\n",
    "- $\\texttt{clouds}$: 0.8\n",
    "- $\\texttt{precipitation}$: 1 inch\n",
    "- $\\texttt{earthquake}$: 5\n",
    "- $\\texttt{shark attacks}$: 11\n",
    "- $\\texttt{ice cream sold}$: 120\n",
    "- $\\texttt{misery index}$: 15\n",
    "- $\\texttt{temperature}$: 70 degrees F\n",
    "- $\\texttt{humidity}$: 83\n",
    "- $\\texttt{pizzas sold}$: 5500\n",
    "- $\\texttt{pressure}$: 850 millibar \n",
    "- $\\texttt{octopuses}$: 6\n",
    "- $\\texttt{Dan's shoe size}$: 9.5\n",
    "- $\\texttt{Tony's shoe size}$: 9"
   ]
  },
  {
   "cell_type": "code",
   "execution_count": 44,
   "metadata": {},
   "outputs": [
    {
     "name": "stdout",
     "output_type": "stream",
     "text": [
      "linear regression model predicts:  44.9231\n"
     ]
    }
   ],
   "source": [
    "clouds = 0.8\n",
    "earthquake = 5\n",
    "\n",
    "print(\"linear regression model predicts: \", 22.67 - (19.64*0.8) + (7.59302*5))"
   ]
  },
  {
   "cell_type": "markdown",
   "metadata": {},
   "source": [
    "# The linear Regression Model is:\n",
    "\n",
    "$y_{i} = 22.67 -19.64X_{1i} + 7.593021X_{2i}$\n",
    "\n",
    "where $X_1$ is the cloud data and $X_2$ is the earthquake data. \n",
    "\n",
    "\n",
    "for the input data we have clouds = $0.8$ and earthquake = $5$ which when plugged into the formula above\n",
    "\n",
    "gives us: $44.9231$ = **Predicted Sharknado Hazard**"
   ]
  },
  {
   "cell_type": "markdown",
   "metadata": {},
   "source": [
    "**Part G:** Consider the model you used in Part E, and consider the fact that you are trying to predict **sharknado hazard**. What is one critical drawback to the MLR model (or any MLR model) for predicting shardnado hazard? What are some modifications that could improve on this issue?"
   ]
  },
  {
   "cell_type": "markdown",
   "metadata": {},
   "source": [
    "**Although MLR gives us a good model if we imagine that all the variables are independent, and all have their own slope to be found distinct and non-dependent on any other variable, in some datasets many features may be codependent; they may be complicated functions of eachother to some degree and to some degree be random or independent from one another, the MLR model gives us no way of letting the slopes be dependent on eachother; this assumption of independence is built in. **\n",
    "\n",
    "**Therefore, if we could analyze each slope vs each other slope and try to find codependencies there we might be able to have a far more accurate model with less overall error since it addresses the complex nature of the data at hand!**"
   ]
  },
  {
   "cell_type": "markdown",
   "metadata": {},
   "source": [
    "<br>\n",
    "\n",
    "---\n",
    "[Back to top](#top)\n",
    "<a id='p3'></a>\n",
    "\n",
    "### [35 points] Problem 3: FlipMaster5000"
   ]
  },
  {
   "cell_type": "markdown",
   "metadata": {},
   "source": [
    "In the file `flips.csv` you'll find the results of an experiment that was conducted with Stella O'Flaherty (the famous octopus data scientist) flipping coins. Her experiment was as follows. \n",
    "\n",
    "1. She reaches into her coin purse and grabs one of two coins, labeled $x$ and $y$. \n",
    "2. She flips her coin until it comes up heads 8 times, and records the coin ID and the number of flips it took to get 8 heads. \n",
    "3. She then replaces the coin in her coin purse and repeats the experiment. "
   ]
  },
  {
   "cell_type": "markdown",
   "metadata": {},
   "source": [
    "**Part A:**\n",
    "\n",
    "By considering the total number of flips and the total number of \"heads\" in the data file for each coin, estimate the bias of each coin $p_x$ and $p_y$, and use an appropriate statistical test to determine whether the coins have the same bias, i.e. whether $p_x$ and $p_y$ are the same. Perform your test at a significance level that will mistakenly reject the null hypothesis _when that null hypothesis is actually true_ 5% of the time. Report a p-value for your test, and clearly state your conclusions."
   ]
  },
  {
   "cell_type": "markdown",
   "metadata": {},
   "source": [
    "**my method for estimating the paramters will be to take the proportion of the rolls that were heads to the number flips for each coin in total:\n",
    "so we just have to add up 8 times however many times we saw each coin out of the total number of coin flips that coin has been flipped!**\n",
    "\n",
    "note that $\\alpha$ = $0.05$\n",
    "\n",
    "so we get:\n",
    "\n",
    "\n",
    "$p_x$ = $\\frac{24}{9+13+12}$\n",
    "$p_y$ = $\\frac{16}{12+20}$\n",
    "\n",
    "$p_x$ = $\\frac{24}{34}$ = $0.7059$\n",
    "$p_y$ = $\\frac{16}{32}$ = $0.5$\n",
    "\n",
    "$n_x$ = $34$ flips for x\n",
    "\n",
    "and $n_y$ = $32$ flips for y\n",
    "\n",
    "each sample group actually has more than 30 total flips or more so we can use a z-distribution to represent the difference in sample proportions, \n",
    "$p_x$ - $p_y$\n",
    "\n",
    "# Calculating the p-value and what it tells us about our Test!\n",
    "\n",
    "Z = $\\frac{0.2059}{\\sqrt{\\frac{0.7059(1-0.7059)}{34} + \\frac{0.25}{32}}}$ = $1.74526$\n",
    "\n",
    "now to get the p-value we take:\n",
    "\n",
    "($1$ - **stats.norm.cdf**$(1.74526))x(2)$  = $0.08094$ which is MORE than our $\\alpha = 0.05$ \n",
    "\n",
    "the reason we are multiplying by 2 is because we need the probability for both tails of the test!\n",
    "\n",
    "so we cannot reject $H_o$ and we cannot claim that $P_x$ is really any different from $P_y$.\n",
    "\n"
   ]
  },
  {
   "cell_type": "code",
   "execution_count": 93,
   "metadata": {},
   "outputs": [
    {
     "name": "stdout",
     "output_type": "stream",
     "text": [
      "  Coin ID\\tFlips Required\n",
      "0                    x\\t9\n",
      "1                   x\\t13\n",
      "2                   x\\t12\n",
      "3                   y\\t12\n",
      "4                   y\\t20\n",
      "ts flipped:  9\n",
      "ts flipped:  13\n",
      "ts flipped:  12\n",
      "ts flipped:  12\n",
      "ts flipped:  20\n",
      "11.333333333333334 16.0\n",
      "120.0\n",
      "-0.025334608257501112 0.4371346082575011 0.2312346082575011\n",
      "z is:  1.7452577840363506  \n",
      " pval is:  0.08094000686110525\n"
     ]
    }
   ],
   "source": [
    "dfFlips = pd.read_csv(\"data/flips.csv\")\n",
    "print(dfFlips.head())\n",
    "x =[]\n",
    "y =[]\n",
    "isfirstp = True\n",
    "for lame_dataframe_row in dfFlips.values:\n",
    "    row = list(lame_dataframe_row[0])\n",
    "    coin = row[0]\n",
    "    if not isfirstp:\n",
    "        times_flipped = row[2] + row[3]\n",
    "        \n",
    "    else:\n",
    "        isfirstp = False\n",
    "        times_flipped = row[2]\n",
    "    if coin == 'x':\n",
    "        print(\"ts flipped: \", times_flipped)\n",
    "        x.append(int(times_flipped))\n",
    "    else:\n",
    "        print(\"ts flipped: \", times_flipped)\n",
    "        y.append(int(times_flipped))\n",
    "mean_flips_thx = np.mean(x)\n",
    "mean_flips_thy = np.mean(y)\n",
    "\n",
    "print(mean_flips_thx, mean_flips_thy)\n",
    "print(n_choose_r(10, 7))\n",
    "stats.norm.ppf(1-(0.05/2))\n",
    "\n",
    "term = 1.96*(np.sqrt(((0.7059*(1-0.7059))/34)+ (0.25/32)))\n",
    "\n",
    "print\n",
    "\n",
    "upper = .2059 + term\n",
    "lower = .2059 - term\n",
    "print(lower, upper, term)\n",
    "\n",
    "\n",
    "z = 0.2059/(np.sqrt((((0.7059)*(1-0.7059))/34) + (0.25/32)))\n",
    "pval = (1 - stats.norm.cdf(z))*2\n",
    "\n",
    "print(\"z is: \", z, \" \\n pval is: \", pval)"
   ]
  },
  {
   "cell_type": "markdown",
   "metadata": {},
   "source": [
    "**Part B:** \n",
    "\n",
    "You learn that, actually, the coin $x$ is from a manufacturer that produces coins whose biases follow some statistical regularity. In particular, the bias of the $x$ coin is in the set $$p_x \\in \\{0.1, 0.2, 0.3, \\dots, 0.9\\}.$$ Furthermore, these biases all occur with equal probability. In other words, $\\tfrac{1}{9}$ of coins have bias $p_x=0.1$, $\\tfrac{1}{9}$ of coins have bias $p_x=0.2$, and so on. \n",
    "\n",
    "For each possible value of $p_x$, compute the probability that Stella's $x$ coin has bias of $p_x$, given the data in her data file. \n",
    "\n",
    "Plot your results with $p_x$ on the horizontal axis and $Pr(p_x \\mid \\text{data})$ on the vertical axis. Make the points or lines that you plot blue. Plots without axis labels will receive zero credit.\n",
    "\n",
    "_Hint_: We have done problems like this before! Think back to how you solved the problem on the midterm where you determined the probability that someone had ESP, given that they guessed the cards correctly. There was a \"rule\", and maybe a \"law\" involved in your calculation..."
   ]
  },
  {
   "cell_type": "markdown",
   "metadata": {},
   "source": [
    "first lets use bayes rule to get a hold on this problem! we will also need law of total prob!\n",
    "\n",
    "let the event $(X_p == 0.1)$ represent the probability that the proportion of the x coin is 0.1\n",
    "\n",
    "let the event $(\\frac{24}{34}H)$ represent the probability that we flipped the x coin 24/34 times as a head OVERALL\n",
    "\n",
    "ok so what we are trying to compute for each $\\hat{X_p} $ = ${.1,.2,.3,.4,.5,...,.9}$ \n",
    "\n",
    "$P((X_p == \\hat{X_p}) \\mid (\\frac{24}{34}H))$ \n",
    "\n",
    "this is the term I will apply bayes rule to!\n",
    "\n",
    "applying bayes rule we get:\n",
    "\n",
    "$P((X_p == \\hat{X_p}) \\mid (\\frac{24}{34}H))$  = $\\frac{P((\\frac{24}{34}H)\\space \\mid \\space (X_p == \\hat{X_p}))P(X_p == \\hat{X_p})}{P(\\frac{24}{34}H)}$\n",
    "\n",
    "\n",
    "alright, we almost have the general term to calculate each and every probability for each $\\hat{X_p}$ in the set,\n",
    "\n",
    "why? because the term $P((\\frac{24}{34}H)\\space \\mid \\space (X_p == \\hat{X_p}))$ is just a negative binomial distribution with a specific r, k, and p values\n",
    "\n",
    "$P((\\frac{24}{34}H)\\space \\mid \\space (X_p == \\hat{X_p}))$ = ${r-1}\\choose{k-1}$$p^r$$(1-p)^{k-r}$ where r = 24, k = 34 and p = $\\hat{X_p}$, and we also know that $P(X_p == \\hat{X_p})$ = $\\frac{1}{9}$ for all values of $\\hat{X_p}$\n",
    "\n",
    "\n",
    "so the expression becomes:\n",
    "\n",
    "$\\frac{{{k-1}\\choose{r-1}}p^r(1-p)^{k-r}P(X_p == \\hat{X_p})}{P(\\frac{24}{34}H)}$\n",
    "\n",
    "$\\frac{{{33}\\choose{23}}(\\hat{X_p})^{24}(1-\\hat{X_p})^{10}\\frac{1}{9}}{P(\\frac{24}{34}H)}$\n",
    "\n",
    "\n",
    "now overall we have:\n",
    "\n",
    "$P((X_p == \\hat{X_p}) \\mid (\\frac{24}{34}H))$ = $\\frac{{{33}\\choose{23}}(\\hat{X_p})^{24}(1-\\hat{X_p})^{10}\\frac{1}{9}}{P(\\frac{24}{34}H)}$\n",
    "\n",
    "\n",
    "the next thing we have to do is to apply the law of total probability to the bottom of the fraction. \n",
    "\n",
    "\n",
    "the bottom of the fraction, $P(\\frac{24}{34}H)$ is really the sum of disjoint events in the probability space:\n",
    "\n",
    "that is $P(\\frac{24}{34}H)$ = $\\Sigma_{\\hat{X_p} \\in {0.1,...,0.9}}{P(\\frac{24}{34}H \\mid X_p=\\hat{X_p})\\frac{1}{9}}$\n",
    "\n",
    "\n",
    "so the final, general form equation to calculate the probability of each value in the set is:\n",
    "\n",
    "\n",
    "$P((X_p == \\hat{X_p}) \\mid (\\frac{24}{34}H))$ = $\\frac{{{33}\\choose{23}}(\\hat{X_p})^{24}(1-\\hat{X_p})^{10}\\frac{1}{9}}{\\Sigma_{\\hat{X_p} \\in {0.1,...,0.9}}{P(\\frac{24}{34}H \\mid X_p=\\hat{X_p})\\frac{1}{9}}}$\n",
    "\n",
    "the 1/9ths cancel and we get:\n",
    "\n",
    "$P((X_p == \\hat{X_p}) \\mid (\\frac{24}{34}H))$ = $\\frac{{{33}\\choose{23}}(\\hat{X_p})^{24}(1-\\hat{X_p})^{10}}{\\Sigma_{\\hat{X_p} \\in {0.1,...,0.9}}{P(\\frac{24}{34}H \\mid X_p=\\hat{X_p})}}$\n",
    "\n",
    "\n",
    "but $P(\\frac{24}{34}H \\mid X_p=\\hat{X_p})$ is just = ${{33}\\choose{23}}(\\hat{X_p})^{24}(1-\\hat{X_p})^{10}\\frac{1}{9}$\n",
    "\n",
    "so the formula then becomes:\n",
    "\n",
    "$P((X_p == \\hat{X_p}) \\mid (\\frac{24}{34}H))$ = $\\frac{{{33}\\choose{23}}(\\hat{X_p})^{24}(1-\\hat{X_p})^{10}}{\\Sigma_{\\hat{X_p} \\in {0.1,...,0.9}}{{{33}\\choose{23}}(\\hat{X_p})^{24}(1-\\hat{X_p})^{10}}}$\n",
    "\n",
    "\n",
    "now we can let python calculate the value for each value of $\\hat{X_p}$\n",
    "= all values from python in one array = [1.5997448017189437e-16, 8.265047980417788e-10, 3.6602953207363036e-06, 0.0007808685091131031, 0.026705810356336474, 0.22795836622095855, 0.5190283984622512, 0.22186319234853222, 0.003659702980982689]\n",
    "\n",
    "as python has so graciously calculated the values are:\n",
    "\n",
    "\n",
    "$P((X_p == 0.1) \\mid (\\frac{24}{34}H))$ = $1.5997448017189437e-16$\n",
    "\n",
    "\n",
    "$P((X_p == 0.2) \\mid (\\frac{24}{34}H))$ = $8.265047980417788e-10$\n",
    "\n",
    "\n",
    "$P((X_p == 0.3) \\mid (\\frac{24}{34}H))$ = $3.6602953207363036e-06$\n",
    "\n",
    "\n",
    "$P((X_p == 0.4) \\mid (\\frac{24}{34}H))$ = $0.0007808685091131031$\n",
    "\n",
    "\n",
    "$P((X_p == 0.5) \\mid (\\frac{24}{34}H))$ = $0.026705810356336474$\n",
    "\n",
    "\n",
    "$P((X_p == 0.6) \\mid (\\frac{24}{34}H))$ = $0.227958366220958554$\n",
    "\n",
    "\n",
    "$P((X_p == 0.7) \\mid (\\frac{24}{34}H))$ = $0.5190283984622512$\n",
    "\n",
    "\n",
    "$P((X_p == 0.8) \\mid (\\frac{24}{34}H))$ = $0.22186319234853222$\n",
    "\n",
    "\n",
    "$P((X_p == 0.9) \\mid (\\frac{24}{34}H))$ = $0.003659702980982689$\n",
    "\n",
    "\n",
    "\n"
   ]
  },
  {
   "cell_type": "code",
   "execution_count": 58,
   "metadata": {},
   "outputs": [
    {
     "name": "stdout",
     "output_type": "stream",
     "text": [
      "the respective values of xp:  [0.1, 0.2, 0.3, 0.4, 0.5, 0.6, 0.7, 0.8, 0.9] \n",
      "\n",
      "results indexed the same [1.5997448017189437e-16, 8.265047980417788e-10, 3.6602953207363036e-06, 0.0007808685091131031, 0.026705810356336474, 0.22795836622095855, 0.5190283984622512, 0.22186319234853222, 0.003659702980982689]\n"
     ]
    },
    {
     "data": {
      "image/png": "[encoded data removed]",
      "text/plain": [
       "<Figure size 432x288 with 1 Axes>"
      ]
     },
     "metadata": {},
     "output_type": "display_data"
    }
   ],
   "source": [
    "ps=[0.1,0.2,0.3,0.4,0.5,0.6,0.7,0.8,0.9]\n",
    "p = [1/9 for i in range(1, 10)]\n",
    "def get_pxp_given_kofrheads(xp, ps, k=34, r=24):\n",
    "    top_part = n_choose_r(33, 23)*(xp**24)*((1-xp)**10)\n",
    "    bot_part = sum([n_choose_r(33, 23)*(i**24)*((1-i)**10) for i in ps])\n",
    "    if top_part < bot_part:\n",
    "        return top_part / bot_part\n",
    "    else:\n",
    "        print(\"error: top of fraction somehow bigger than bottem of fraction....\")\n",
    "        print(\"top: \", top_part, \" bottom: \", bot_part)\n",
    "        return 0.0\n",
    "results_x = []\n",
    "for xp in ps:\n",
    "    results_x.append(get_pxp_given_kofrheads(xp, ps))\n",
    "    \n",
    "print(\"the respective values of xp: \", ps, \"\\n\\nresults indexed the same\",  results_x)\n",
    "\n",
    "plt.scatter(ps, results_x)\n",
    "plt.xlabel(\"values of Px\")\n",
    "plt.ylabel(\"probability of P(Px = Px | 24/34 heads\")\n",
    "plt.grid(True, color='g', linestyle='-', linewidth=0.25)\n",
    "plt.show()"
   ]
  },
  {
   "cell_type": "markdown",
   "metadata": {},
   "source": [
    "**Part C:**\n",
    "\n",
    "You learn that, actually, the coin $y$ is from a different manufacturer that produces coins whose biases follow some statistical regularity. In particular, the bias of the $y$ coin is in the set $$p_y \\in \\{0.1, 0.2, 0.3, \\dots, 0.9\\}.$$ Furthermore, these biases all occur with different probability. In particular, the probability that a coin has bias $p_y$ is proportional to $p_y$, which could be written as \n",
    "$$Pr(p_y) \\propto p_y \\quad \\text{for} \\quad p_y \\in \\{0.1, 0.2, 0.3, \\dots, 0.9\\}$$\n",
    "\n",
    "First, write clearly the PMF for $p_y$, based on the information above. \n",
    "\n",
    "Then, for each possible value of $p_y$, compute the probability that Stella's $y$ coin has bias of $p_y$, given the data in her data file. \n",
    "\n",
    "Plot your results with $p_y$ on the horizontal axis and $Pr(p_y \\mid \\text{data})$ on the vertical axis. Make the points or lines that you plot red. Plots without axis labels will receive zero credit."
   ]
  },
  {
   "cell_type": "markdown",
   "metadata": {},
   "source": [
    "let us agani apply bayes rule, remembering that for the y coin we had a total of 16 heads and flips overall. (implying also 16 tails)\n",
    "\n",
    "let $P(y_p = \\hat{y_p})$ signify the probability that the propotion of y is one of the values in the set. \n",
    "\n",
    "\n",
    "and let $P(\\frac{16H}{32})$ signify the probability that we got 16H out of 32 tries.\n",
    "\n",
    "let $S$ be the set with all values of $\\hat{y_p} \\in S$\n",
    "\n",
    "\n",
    "$P(y_p = \\hat{y_p} \\mid \\frac{16H}{32} ) = \\frac{P(\\frac{16H}{32} \\mid y_p = \\hat{y_p})P(y_p = \\hat{y_p})}{P(\\frac{16H}{32})}$\n",
    "\n",
    "first this time lets apply the law of total probability to the bottom of the fraction:\n",
    "\n",
    "\n",
    "we know that $P(\\frac{16H}{32})$ = $\\Sigma_{\\hat{y_p} \\in S}{P(\\frac{16H}{32} \\space |  \\space y_p = \\hat{y_p})P(y_p = \\hat{y_p})}$\n",
    "\n",
    "so now we have:\n",
    "\n",
    "$ = \\frac{P(\\frac{16H}{32} \\mid y_p = \\hat{y_p})P(y_p = \\hat{y_p})}{\\Sigma_{\\hat{y_p} \\in S}{P(\\frac{16H}{32} \\space |  \\space y_p = \\hat{y_p})P(y_p = \\hat{y_p})}}$\n",
    "\n",
    "now, we can use the negative binomial distribution again, to get values for $P(\\frac{16H}{32} \\mid y_p = \\hat{y_p})$\n",
    "\n",
    "for each value of $\\hat{y_p}$.\n",
    "\n",
    "\n",
    "$P(y_p = \\hat{y_p} \\mid \\frac{16H}{32} ) = \\frac{{{31}\\choose{15}}{\\hat{y_p}^{16}}{{(1-\\hat{y_p})}^{16}}P(y_p = \\hat{y_p})}{\\Sigma_{\\hat{y_p} \\in S}{P(\\frac{16H}{32} \\space |  \\space y_p = \\hat{y_p})P(y_p = \\hat{y_p})}}$\n",
    "\n",
    "\n",
    "\n",
    "now we can replace $P(y_p = \\hat{y_p})$ with $\\hat{y_p}$ since this is proportional the probability of it having that value\n",
    "\n",
    "now we can also resplace $P(\\frac{16H}{32} \\space |  \\space y_p = \\hat{y_p})$ in the denominator with:\n",
    "\n",
    "\n",
    "${{31}\\choose{15}}{\\hat{y_p}^{16}}{{(1-\\hat{y_p})}^{16}}$\n",
    "\n",
    "\n",
    "\n",
    "\n",
    "$P(y_p = \\hat{y_p} \\mid \\frac{16H}{32} ) = \\frac{{{31}\\choose{15}}{\\hat{y_p}^{16}}{{(1-\\hat{y_p})}^{16}}\\hat{y_p}}{\\Sigma_{\\hat{y_p} \\in S}{{{31}\\choose{15}}{\\hat{y_p}^{16}}{{(1-\\hat{y_p})}^{16}}\\hat{y_p}}}$\n",
    "\n",
    "\n",
    "now that I have the general form, I convert it to python with the code below and let python fill up my results array\n",
    "with all the probabilities that the Y coin has each bias given the data!\n",
    "\n",
    "my results array was: [7.351176475615182e-09, 0.00014636135310578625, 0.017025766312305384, 0.19227222693869797, 0.46183499800161, 0.2884083404080469, 0.039726788062046006, 0.0005854454124231425, 6.616058828053635e-08]\n",
    "\n",
    "which corresponds to my final results of:\n",
    "\n",
    "\n",
    "$P(y_p = 0.1 \\mid \\frac{16H}{32}) = 7.351176475615182e-09$\n",
    "\n",
    "\n",
    "$P(y_p = 0.2 \\mid \\frac{16H}{32}) = 0.00014636135310578625$\n",
    "\n",
    "\n",
    "$P(y_p = 0.3 \\mid \\frac{16H}{32}) = 0.017025766312305384$\n",
    "\n",
    "\n",
    "$P(y_p = 0.4 \\mid \\frac{16H}{32}) = 0.19227222693869797$\n",
    "\n",
    "\n",
    "$P(y_p = 0.5 \\mid \\frac{16H}{32}) = 0.46183499800161$\n",
    "\n",
    "\n",
    "\n",
    "$P(y_p = 0.6 \\mid \\frac{16H}{32}) = 0.2884083404080469$\n",
    "\n",
    "\n",
    "$P(y_p = 0.7 \\mid \\frac{16H}{32}) = 0.039726788062046006$\n",
    "\n",
    "\n",
    "$P(y_p = 0.8 \\mid \\frac{16H}{32}) = 0.0005854454124231425$\n",
    "\n",
    "\n",
    "\n",
    "$P(y_p = 0.9 \\mid \\frac{16H}{32}) = 6.616058828053635e-08$\n",
    "\n",
    "\n",
    "\n",
    "\n",
    "graph is plotted below!"
   ]
  },
  {
   "cell_type": "code",
   "execution_count": 56,
   "metadata": {},
   "outputs": [
    {
     "name": "stdout",
     "output_type": "stream",
     "text": [
      "[7.351176475615182e-09, 0.00014636135310578625, 0.017025766312305384, 0.19227222693869797, 0.46183499800161, 0.2884083404080469, 0.039726788062046006, 0.0005854454124231425, 6.616058828053635e-08]\n"
     ]
    },
    {
     "data": {
      "image/png": "[encoded data removed]",
      "text/plain": [
       "<Figure size 432x288 with 1 Axes>"
      ]
     },
     "metadata": {},
     "output_type": "display_data"
    }
   ],
   "source": [
    "def getProb(numHeads, numFlips, Yp, YpArray):\n",
    "    top_frac = n_choose_r(numFlips-1, numHeads-1)*(Yp**numHeads)*((1-Yp)**(numFlips-numHeads))*Yp\n",
    "    bottom_frac = sum([(n_choose_r(numFlips-1, numHeads-1)*(Yi**numHeads)*((1-Yi)**(numFlips-numHeads))*Yi) for Yi in YpArray])\n",
    "    return top_frac / bottom_frac\n",
    "\n",
    "YpArray = [0.1, 0.2, 0.3, 0.4, 0.5, 0.6, 0.7, 0.8, 0.9]\n",
    "results = [getProb(16, 32, Yval, YpArray) for Yval in YpArray]\n",
    "print(results)\n",
    "plt.scatter(YpArray, results)\n",
    "plt.xlabel(\"values of coin y's bias\")\n",
    "plt.ylabel(\"P(bias | data)\")\n",
    "plt.grid(True, color='g', linestyle='-', linewidth=0.25)\n",
    "plt.show()"
   ]
  },
  {
   "cell_type": "markdown",
   "metadata": {},
   "source": [
    "**Part D:**\n",
    "\n",
    "The information that you have about the manufacturer of coin $x$ and coin $y$ is called _prior information_ since it can influence the estimates of a coin's bias at which you arrive, given the data from the coin's flipping. We often call the distribution $Pr(p_x)$ or $Pr(p_y)$ a _prior distribution_, and call $Pr(p_x \\mid \\text{data})$ or $Pr(p_y \\mid \\text{data})$ a _posterior distribution_, since it represents the estimate that you arrive at after you have taken the data into account. \n",
    "\n",
    "You have already computed posterior distributions for each coin's bias. However, you'll now investigate the importance of the prior by _switching the priors for the two coins_.\n",
    "\n",
    "In other words, using the prior probabilities $Pr(p_x)$, what is your posterior distribution of $Pr(p_y \\mid \\text{data from y})$? Similarly, using the prior probabilities $Pr(p_y)$, what is your posterior distribution of $Pr(p_x \\mid \\text{data from x})$? \n",
    "\n",
    "Create two plots. \n",
    "\n",
    "1. In the first plot, show your results from Part B (the posterior distribution for $p_x$ with the correct prior) plotted with a blue solid line as well as your results from Part D for the posterior distribution for $p_x$ with the incorrect prior with a blue dashed line.  \n",
    "\n",
    "2. In the second plot, show your results from Part C (the posterior distribution for $p_y$ with the correct prior) with a red solid line as well as your results from Part D for the posterior distribution for $p_y$ with the incorrect prior with a red dashed line.  "
   ]
  },
  {
   "cell_type": "code",
   "execution_count": 77,
   "metadata": {},
   "outputs": [
    {
     "name": "stdout",
     "output_type": "stream",
     "text": [
      "[2.3032972190833458e-17, 2.3799873590376906e-10, 1.5810174268202238e-06, 0.0004497147954042127, 0.019225384780441952, 0.19692736132138264, 0.5231044763284638, 0.2555491967990066, 0.0047422847198752525]\n",
      "[7.351176475615182e-09, 0.00014636135310578625, 0.017025766312305384, 0.19227222693869797, 0.46183499800161, 0.2884083404080469, 0.039726788062046006, 0.0005854454124231425, 6.616058828053635e-08]\n"
     ]
    },
    {
     "data": {
      "text/plain": [
       "[<matplotlib.lines.Line2D at 0x1f61e14ceb8>]"
      ]
     },
     "execution_count": 77,
     "metadata": {},
     "output_type": "execute_result"
    },
    {
     "data": {
      "image/png": "[encoded data removed]",
      "text/plain": [
       "<Figure size 432x288 with 2 Axes>"
      ]
     },
     "metadata": {},
     "output_type": "display_data"
    }
   ],
   "source": [
    "fig, ax = plt.subplots(2, 1)\n",
    "\n",
    "ax[0].plot(ps, results_x)\n",
    "ax[0].grid(True, color='g', linestyle='-', linewidth=0.25)\n",
    "\n",
    "ax[1].plot(YpArray, results, color='r')\n",
    "ax[1].grid(True, color='g', linestyle='-', linewidth=0.25)\n",
    "\n",
    "y_new_posterior = [getProb(24, 34, xi, YpArray) for xi in YpArray]\n",
    "print(y_new_posterior)\n",
    "\n",
    "ax[1].plot(ps, y_new_posterior, linestyle='dashed', color='r')\n",
    "\n",
    "\n",
    "x_new_posterior = [getProb(16, 32, xi, ps) for xi in ps]\n",
    "print(x_new_posterior)\n",
    "\n",
    "ax[0].plot(YpArray, x_new_posterior, linestyle='dashed', color='b')\n",
    "\n",
    "#def getProb(numHeads, numFlips, Yp, YpArray):\n",
    " #   top_frac = n_choose_r(numFlips-1, numHeads-1)*(Yp**numHeads)*((1-Yp)**(numFlips-numHeads))*Yp\n",
    " #   bottom_frac = sum([(n_choose_r(numFlips-1, numHeads-1)*(Yi**numHeads)*((1-Yi)**(numFlips-numHeads))*Yi) for Yi in YpArray])\n",
    " #  return top_frac / bottom_frac\n",
    "\n",
    "#YpArray = [0.1, 0.2, 0.3, 0.4, 0.5, 0.6, 0.7, 0.8, 0.9]\n",
    "#results = [getProb(16, 32, Yval, YpArray) for Yval in YpArray]"
   ]
  },
  {
   "cell_type": "markdown",
   "metadata": {},
   "source": [
    "so the prior $Pr(P_y)$ = $\\{0.1, 0.2, ... 0.9\\}$\n",
    "\n",
    "and the prior $Pr(P_x)$ = $\\{\\frac{1}{9} \\space \\mid \\space e \\in \\hat{S}\\}$ where $\\hat{S}$ is the set of biases for $P_x$.\n",
    "\n",
    "\n",
    "so, then, what does it mean to switch these priors? \n",
    "it means to calcualte the P(Pr(Py=Px) for each value of Px)\n",
    "and to calcluate the P(Pr(Px=Py for each value of Py) and graph those, and you just end up graphing the other distribution.\n",
    "\n",
    "this is an interesting result!"
   ]
  },
  {
   "cell_type": "markdown",
   "metadata": {},
   "source": [
    "**Part E:**\n",
    "\n",
    "What is the name of the distribution that Stella's experiment is drawn from?"
   ]
  },
  {
   "cell_type": "markdown",
   "metadata": {},
   "source": [
    "The Negative Binomial Distribution. "
   ]
  },
  {
   "cell_type": "markdown",
   "metadata": {},
   "source": [
    "<br>\n",
    "\n",
    "---\n",
    "[Back to Problem 2](#p2)\n",
    "\n",
    "<a id='footnote'></a> Yeah yeah - fresh water versus salt water - I know, I know. But sharknadoes also are not real, so..."
   ]
  },
  {
   "cell_type": "code",
   "execution_count": null,
   "metadata": {},
   "outputs": [],
   "source": []
  }
 ],
 "metadata": {
  "kernelspec": {
   "display_name": "Python 3",
   "language": "python",
   "name": "python3"
  },
  "language_info": {
   "codemirror_mode": {
    "name": "ipython",
    "version": 3
   },
   "file_extension": ".py",
   "mimetype": "text/x-python",
   "name": "python",
   "nbconvert_exporter": "python",
   "pygments_lexer": "ipython3",
   "version": "3.6.5"
  }
 },
 "nbformat": 4,
 "nbformat_minor": 2
}
