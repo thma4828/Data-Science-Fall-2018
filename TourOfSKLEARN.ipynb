{
 "cells": [
  {
   "cell_type": "code",
   "execution_count": 3,
   "metadata": {},
   "outputs": [],
   "source": [
    "import sklearn"
   ]
  },
  {
   "cell_type": "code",
   "execution_count": 4,
   "metadata": {},
   "outputs": [],
   "source": [
    "from sklearn import datasets"
   ]
  },
  {
   "cell_type": "code",
   "execution_count": 5,
   "metadata": {},
   "outputs": [
    {
     "name": "stderr",
     "output_type": "stream",
     "text": [
      "C:\\Users\\tsmar\\Anaconda3\\lib\\site-packages\\sklearn\\cross_validation.py:41: DeprecationWarning: This module was deprecated in version 0.18 in favor of the model_selection module into which all the refactored classes and functions are moved. Also note that the interface of the new CV iterators are different from that of this module. This module will be removed in 0.20.\n",
      "  \"This module will be removed in 0.20.\", DeprecationWarning)\n"
     ]
    }
   ],
   "source": [
    "import numpy as np\n",
    "from sklearn.cross_validation import train_test_split"
   ]
  },
  {
   "cell_type": "code",
   "execution_count": 6,
   "metadata": {},
   "outputs": [],
   "source": [
    "iris = datasets.load_iris()\n",
    "X = iris.data[:, [2, 3]] #all rows, just 2nd and 3rd column. "
   ]
  },
  {
   "cell_type": "code",
   "execution_count": 7,
   "metadata": {},
   "outputs": [],
   "source": [
    "y = iris.target"
   ]
  },
  {
   "cell_type": "code",
   "execution_count": 8,
   "metadata": {},
   "outputs": [],
   "source": [
    "X_train, X_test, y_train, y_test = train_test_split(X, y, test_size=0.3, random_state=0)"
   ]
  },
  {
   "cell_type": "code",
   "execution_count": 9,
   "metadata": {},
   "outputs": [
    {
     "name": "stdout",
     "output_type": "stream",
     "text": [
      "misclassified: 18\n"
     ]
    },
    {
     "name": "stderr",
     "output_type": "stream",
     "text": [
      "C:\\Users\\tsmar\\Anaconda3\\lib\\site-packages\\sklearn\\linear_model\\stochastic_gradient.py:117: DeprecationWarning: n_iter parameter is deprecated in 0.19 and will be removed in 0.21. Use max_iter and tol instead.\n",
      "  DeprecationWarning)\n"
     ]
    }
   ],
   "source": [
    "from sklearn.linear_model import Perceptron\n",
    "ppn = Perceptron(n_iter=40, eta0=0.01, random_state=0)\n",
    "ppn.fit(X_train, y_train)\n",
    "\n",
    "y_pred = ppn.predict(X_test)\n",
    "print(\"misclassified: %d\" % (y_test != y_pred).sum())"
   ]
  },
  {
   "cell_type": "code",
   "execution_count": 10,
   "metadata": {},
   "outputs": [],
   "source": [
    "from sklearn.linear_model import LogisticRegression"
   ]
  },
  {
   "cell_type": "code",
   "execution_count": 11,
   "metadata": {},
   "outputs": [],
   "source": [
    "lr = LogisticRegression(C=1000.0, random_state=0)"
   ]
  },
  {
   "cell_type": "code",
   "execution_count": 12,
   "metadata": {},
   "outputs": [
    {
     "data": {
      "text/plain": [
       "LogisticRegression(C=1000.0, class_weight=None, dual=False,\n",
       "          fit_intercept=True, intercept_scaling=1, max_iter=100,\n",
       "          multi_class='ovr', n_jobs=1, penalty='l2', random_state=0,\n",
       "          solver='liblinear', tol=0.0001, verbose=0, warm_start=False)"
      ]
     },
     "execution_count": 12,
     "metadata": {},
     "output_type": "execute_result"
    }
   ],
   "source": [
    "lr.fit(X_train, y_train)"
   ]
  },
  {
   "cell_type": "code",
   "execution_count": 13,
   "metadata": {},
   "outputs": [],
   "source": [
    "ypred = lr.predict_proba(X_test)"
   ]
  },
  {
   "cell_type": "code",
   "execution_count": 14,
   "metadata": {},
   "outputs": [
    {
     "data": {
      "text/plain": [
       "array([[1.44574860e-10, 6.32270685e-02, 9.36772931e-01],\n",
       "       [4.20687692e-04, 9.99250541e-01, 3.28771647e-04],\n",
       "       [8.16882935e-01, 1.83117065e-01, 3.42844445e-12],\n",
       "       [3.15870868e-11, 4.14137823e-01, 5.85862177e-01],\n",
       "       [8.00134061e-01, 1.99865939e-01, 5.18163937e-12],\n",
       "       [1.46775577e-12, 1.38385364e-01, 8.61614636e-01],\n",
       "       [8.64639027e-01, 1.35360973e-01, 5.12367852e-12],\n",
       "       [7.03190231e-07, 7.23833724e-01, 2.76165572e-01],\n",
       "       [7.96625085e-07, 8.19816924e-01, 1.80182279e-01],\n",
       "       [9.49358797e-05, 9.94093318e-01, 5.81174591e-03],\n",
       "       [1.02479080e-08, 4.85099149e-01, 5.14900840e-01],\n",
       "       [2.26014903e-06, 8.26085012e-01, 1.73912728e-01],\n",
       "       [4.54171069e-06, 9.73824879e-01, 2.61705797e-02],\n",
       "       [1.26567621e-06, 7.78103161e-01, 2.21895573e-01],\n",
       "       [1.38198291e-06, 8.62393788e-01, 1.37604830e-01],\n",
       "       [7.63215978e-01, 2.36784022e-01, 2.26873618e-12],\n",
       "       [2.26014903e-06, 8.26085012e-01, 1.73912728e-01],\n",
       "       [2.00447531e-05, 9.91098674e-01, 8.88128169e-03],\n",
       "       [8.50189321e-01, 1.49810679e-01, 7.77412193e-12],\n",
       "       [8.92206821e-01, 1.07793179e-01, 1.15199391e-11],\n",
       "       [4.87533151e-09, 1.39008331e-01, 8.60991664e-01],\n",
       "       [2.26014903e-06, 8.26085012e-01, 1.73912728e-01],\n",
       "       [7.29616020e-01, 2.70383980e-01, 2.68252324e-11],\n",
       "       [8.16882935e-01, 1.83117065e-01, 3.42844445e-12],\n",
       "       [3.34042457e-08, 2.34230069e-01, 7.65769897e-01],\n",
       "       [8.76536608e-01, 1.23463392e-01, 6.49269524e-13],\n",
       "       [8.02818447e-01, 1.97181553e-01, 1.41123558e-10],\n",
       "       [1.98210030e-05, 9.84084645e-01, 1.58955338e-02],\n",
       "       [1.48952399e-02, 9.85076175e-01, 2.85847261e-05],\n",
       "       [8.51767558e-01, 1.48232442e-01, 4.04678702e-11],\n",
       "       [1.14230076e-09, 3.07732683e-01, 6.92267316e-01],\n",
       "       [2.26014903e-06, 8.26085012e-01, 1.73912728e-01],\n",
       "       [8.00134061e-01, 1.99865939e-01, 5.18163937e-12],\n",
       "       [1.97199056e-08, 2.35783869e-01, 7.64216112e-01],\n",
       "       [5.86101200e-11, 1.74544797e-01, 8.25455203e-01],\n",
       "       [1.02365680e-04, 9.88542458e-01, 1.13551758e-02],\n",
       "       [8.01990544e-01, 1.98009456e-01, 2.69714210e-11],\n",
       "       [3.05958413e-08, 3.96761079e-01, 6.03238890e-01],\n",
       "       [1.23376216e-05, 9.24168129e-01, 7.58195332e-02],\n",
       "       [1.52938301e-04, 9.97658076e-01, 2.18898603e-03],\n",
       "       [1.72520781e-10, 1.93260460e-01, 8.06739540e-01],\n",
       "       [8.32998957e-01, 1.67001043e-01, 2.26590066e-12],\n",
       "       [2.78830125e-10, 8.18886267e-02, 9.18111373e-01],\n",
       "       [9.05547210e-01, 9.44527896e-02, 2.05824723e-10],\n",
       "       [8.00134061e-01, 1.99865939e-01, 5.18163937e-12]])"
      ]
     },
     "execution_count": 14,
     "metadata": {},
     "output_type": "execute_result"
    }
   ],
   "source": [
    "ypred"
   ]
  },
  {
   "cell_type": "code",
   "execution_count": 15,
   "metadata": {},
   "outputs": [
    {
     "data": {
      "text/plain": [
       "SVC(C=1.0, cache_size=200, class_weight=None, coef0=0.0,\n",
       "  decision_function_shape='ovr', degree=3, gamma='auto', kernel='linear',\n",
       "  max_iter=-1, probability=False, random_state=0, shrinking=True,\n",
       "  tol=0.001, verbose=False)"
      ]
     },
     "execution_count": 15,
     "metadata": {},
     "output_type": "execute_result"
    }
   ],
   "source": [
    "from sklearn.svm import SVC\n",
    "svm = SVC(kernel='linear', C=1.0, random_state=0)\n",
    "svm.fit(X_train, y_train)"
   ]
  },
  {
   "cell_type": "code",
   "execution_count": 16,
   "metadata": {},
   "outputs": [],
   "source": [
    "y_pred = svm.predict(X_test)"
   ]
  },
  {
   "cell_type": "code",
   "execution_count": 17,
   "metadata": {},
   "outputs": [
    {
     "data": {
      "text/plain": [
       "array([2, 1, 0, 2, 0, 2, 0, 1, 1, 1, 2, 1, 1, 1, 1, 0, 1, 1, 0, 0, 2, 1,\n",
       "       0, 0, 2, 0, 0, 1, 1, 0, 2, 1, 0, 2, 2, 1, 0, 2, 1, 1, 2, 0, 2, 0,\n",
       "       0])"
      ]
     },
     "execution_count": 17,
     "metadata": {},
     "output_type": "execute_result"
    }
   ],
   "source": [
    "y_pred"
   ]
  },
  {
   "cell_type": "code",
   "execution_count": 18,
   "metadata": {},
   "outputs": [],
   "source": [
    "def accuracy_report(y_pred, y_actual):\n",
    "    val = [(y_pred[i] == y_actual[i]) for i in range(len(y_pred))]\n",
    "    return sum(val) / len(val)"
   ]
  },
  {
   "cell_type": "code",
   "execution_count": 19,
   "metadata": {},
   "outputs": [
    {
     "data": {
      "text/plain": [
       "0.9777777777777777"
      ]
     },
     "execution_count": 19,
     "metadata": {},
     "output_type": "execute_result"
    }
   ],
   "source": [
    "accuracy_report(y_pred, y_test)"
   ]
  },
  {
   "cell_type": "code",
   "execution_count": 20,
   "metadata": {},
   "outputs": [
    {
     "data": {
      "text/plain": [
       "<Figure size 640x480 with 1 Axes>"
      ]
     },
     "metadata": {},
     "output_type": "display_data"
    }
   ],
   "source": [
    "#create XOR dataset\n",
    "import matplotlib.pyplot as plt\n",
    "np.random.seed(0)\n",
    "X_xor = np.random.randn(200, 2)\n",
    "Y_xor = np.logical_xor(X_xor[:, 0] > 0, X_xor[:, 1] > 0)\n",
    "Y_xor = np.where(Y_xor, 1, -1)\n",
    "plt.scatter(X_xor[Y_xor==1, 0], X_xor[Y_xor==1, 1], c='b', marker='x', label='1')\n",
    "plt.scatter(X_xor[Y_xor==-1, 0], X_xor[Y_xor==-1, 1], c='r', marker='s', label='-1')\n",
    "plt.ylim(-3.0)\n",
    "plt.legend()\n",
    "plt.show()"
   ]
  },
  {
   "cell_type": "code",
   "execution_count": 24,
   "metadata": {},
   "outputs": [
    {
     "data": {
      "text/plain": [
       "SVC(C=10.0, cache_size=200, class_weight=None, coef0=0.0,\n",
       "  decision_function_shape='ovr', degree=3, gamma=0.1, kernel='rbf',\n",
       "  max_iter=-1, probability=False, random_state=0, shrinking=True,\n",
       "  tol=0.001, verbose=False)"
      ]
     },
     "execution_count": 24,
     "metadata": {},
     "output_type": "execute_result"
    }
   ],
   "source": [
    "svm2 = SVC(kernel='rbf', random_state=0, gamma=0.10, C=10.0)\n",
    "svm2.fit(X_xor, Y_xor)"
   ]
  },
  {
   "cell_type": "code",
   "execution_count": 21,
   "metadata": {},
   "outputs": [],
   "source": [
    "from sklearn.tree import DecisionTreeClassifier\n",
    "tree = DecisionTreeClassifier(criterion='entropy', max_depth=3, random_state=0)"
   ]
  },
  {
   "cell_type": "code",
   "execution_count": 22,
   "metadata": {},
   "outputs": [
    {
     "data": {
      "text/plain": [
       "DecisionTreeClassifier(class_weight=None, criterion='entropy', max_depth=3,\n",
       "            max_features=None, max_leaf_nodes=None,\n",
       "            min_impurity_decrease=0.0, min_impurity_split=None,\n",
       "            min_samples_leaf=1, min_samples_split=2,\n",
       "            min_weight_fraction_leaf=0.0, presort=False, random_state=0,\n",
       "            splitter='best')"
      ]
     },
     "execution_count": 22,
     "metadata": {},
     "output_type": "execute_result"
    }
   ],
   "source": [
    "tree.fit(X_train, y_train)"
   ]
  },
  {
   "cell_type": "code",
   "execution_count": 1,
   "metadata": {},
   "outputs": [],
   "source": [
    "import sklearn\n",
    "from sklearn.ensemble import RandomForestClassifier\n",
    "forest = RandomForestClassifier(criterion='entropy', n_estimators=100, random_state=1, n_jobs=2)\n",
    "#forest.fit(...)\n",
    "#forest.predict()\n",
    "#n is number of trees in the forest. \n",
    "#n_jobs uses  multiple processes to do the work."
   ]
  },
  {
   "cell_type": "code",
   "execution_count": 10,
   "metadata": {},
   "outputs": [
    {
     "data": {
      "text/plain": [
       "KNeighborsClassifier(algorithm='auto', leaf_size=30, metric='minkowski',\n",
       "           metric_params=None, n_jobs=1, n_neighbors=5, p=2,\n",
       "           weights='uniform')"
      ]
     },
     "execution_count": 10,
     "metadata": {},
     "output_type": "execute_result"
    }
   ],
   "source": [
    "#K NEAREST NEIGHBORS! SO EASY THAT IT HURTS\n",
    "from sklearn.neighbors import KNeighborsClassifier\n",
    "knn = KNeighborsClassifier(n_neighbors = 5, p=2, metric='minkowski') #uses Euclidian because thats what minkowski is at p=2\n",
    "knn.fit(X_train, y_train)"
   ]
  },
  {
   "cell_type": "code",
   "execution_count": 13,
   "metadata": {},
   "outputs": [],
   "source": [
    "yhat = knn.predict(X_test)"
   ]
  },
  {
   "cell_type": "code",
   "execution_count": 15,
   "metadata": {},
   "outputs": [
    {
     "data": {
      "text/plain": [
       "0.9777777777777777"
      ]
     },
     "execution_count": 15,
     "metadata": {},
     "output_type": "execute_result"
    }
   ],
   "source": [
    "sum([yhat[i] == y_test[i] for i in range(len(yhat))]) / len(yhat)"
   ]
  },
  {
   "cell_type": "code",
   "execution_count": 16,
   "metadata": {},
   "outputs": [],
   "source": [
    "#wowzers 97% accurate!"
   ]
  },
  {
   "cell_type": "code",
   "execution_count": null,
   "metadata": {},
   "outputs": [],
   "source": []
  },
  {
   "cell_type": "code",
   "execution_count": null,
   "metadata": {},
   "outputs": [],
   "source": []
  }
 ],
 "metadata": {
  "kernelspec": {
   "display_name": "Python 3",
   "language": "python",
   "name": "python3"
  },
  "language_info": {
   "codemirror_mode": {
    "name": "ipython",
    "version": 3
   },
   "file_extension": ".py",
   "mimetype": "text/x-python",
   "name": "python",
   "nbconvert_exporter": "python",
   "pygments_lexer": "ipython3",
   "version": "3.6.5"
  }
 },
 "nbformat": 4,
 "nbformat_minor": 2
}
