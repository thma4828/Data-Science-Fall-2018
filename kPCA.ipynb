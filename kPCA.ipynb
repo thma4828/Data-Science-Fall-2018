{
 "cells": [
  {
   "cell_type": "markdown",
   "metadata": {},
   "source": [
    "# Kernel PCA\n",
    "- $\\Phi(X)$ is nonlinear map, maps input samples from $R^{nxd} --> R^{nxk}$\n",
    "- avoid excessive dot products by calculating kernel K then apply\n",
    "- $\\frac{1}{n}K\\alpha = \\lambda\\alpha$\n",
    "- where **K** the kernel matrix, **K** = matrix of $k_{ij}$ = $e^{-\\Lambda||x^i = x^j}$ for i,j $\\epsilon$ **[0, N]X[0, N]**\n",
    "- **N = number of samples. **\n",
    "- once **K** is known, center K --> K'\n",
    "- collect top $\\kappa$ eigenvectors of K'\n",
    "- use these to form W to project data to lower dimensions"
   ]
  },
  {
   "cell_type": "code",
   "execution_count": 1,
   "metadata": {},
   "outputs": [],
   "source": [
    "from scipy.spatial.distance import pdist, squareform\n",
    "from scipy import exp\n",
    "from scipy.linalg import eigh\n",
    "import numpy as np"
   ]
  },
  {
   "cell_type": "code",
   "execution_count": null,
   "metadata": {},
   "outputs": [],
   "source": [
    "def rbf_kernel"
   ]
  }
 ],
 "metadata": {
  "kernelspec": {
   "display_name": "Python 3",
   "language": "python",
   "name": "python3"
  },
  "language_info": {
   "codemirror_mode": {
    "name": "ipython",
    "version": 3
   },
   "file_extension": ".py",
   "mimetype": "text/x-python",
   "name": "python",
   "nbconvert_exporter": "python",
   "pygments_lexer": "ipython3",
   "version": "3.6.5"
  }
 },
 "nbformat": 4,
 "nbformat_minor": 2
}
