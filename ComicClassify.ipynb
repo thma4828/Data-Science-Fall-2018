{
 "cells": [
  {
   "cell_type": "code",
   "execution_count": 1,
   "metadata": {},
   "outputs": [
    {
     "name": "stderr",
     "output_type": "stream",
     "text": [
      "C:\\Users\\tsmar\\Anaconda3\\lib\\site-packages\\h5py\\__init__.py:36: FutureWarning: Conversion of the second argument of issubdtype from `float` to `np.floating` is deprecated. In future, it will be treated as `np.float64 == np.dtype(float).type`.\n",
      "  from ._conv import register_converters as _register_converters\n"
     ]
    }
   ],
   "source": [
    "import tensorflow as tf\n",
    "import numpy as np\n",
    "import pandas as pd"
   ]
  },
  {
   "cell_type": "code",
   "execution_count": 2,
   "metadata": {},
   "outputs": [],
   "source": [
    "ComicDataRaw = pd.read_csv(\"C:/Users/tsmar/dc-wikia-data.csv\")"
   ]
  },
  {
   "cell_type": "code",
   "execution_count": 3,
   "metadata": {},
   "outputs": [],
   "source": [
    "ComicDataRaw.fillna(value=0, axis=0, inplace=True)"
   ]
  },
  {
   "cell_type": "code",
   "execution_count": 4,
   "metadata": {},
   "outputs": [],
   "source": [
    "ComicData2 = ComicDataRaw.drop(labels=['urlslug', 'page_id', 'GSM', 'FIRST APPEARANCE'], axis=1) #drop unwanted cols\n",
    "len(ComicData2)\n",
    "#ComicData3 = ComicData2.fillna(0, axis=0) #drop rows with NaN values.\n",
    "ComicAlignment = ComicDataRaw.iloc[:, 4]"
   ]
  },
  {
   "cell_type": "code",
   "execution_count": 5,
   "metadata": {},
   "outputs": [
    {
     "data": {
      "text/plain": [
       "6896"
      ]
     },
     "execution_count": 5,
     "metadata": {},
     "output_type": "execute_result"
    }
   ],
   "source": [
    "len(ComicAlignment)"
   ]
  },
  {
   "cell_type": "code",
   "execution_count": 6,
   "metadata": {},
   "outputs": [],
   "source": [
    "#we will be prediction the alignment of a superhero based on other data about them. "
   ]
  },
  {
   "cell_type": "code",
   "execution_count": 7,
   "metadata": {},
   "outputs": [
    {
     "data": {
      "text/plain": [
       "6896"
      ]
     },
     "execution_count": 7,
     "metadata": {},
     "output_type": "execute_result"
    }
   ],
   "source": [
    "ComicData = ComicDataRaw.drop(labels=['ALIGN', 'urlslug', 'page_id', 'GSM', 'FIRST APPEARANCE'], axis=1)\n",
    "ComicData = ComicData.fillna(value=0, axis=0)\n",
    "\n",
    "len(ComicData)"
   ]
  },
  {
   "cell_type": "code",
   "execution_count": 8,
   "metadata": {},
   "outputs": [
    {
     "data": {
      "text/plain": [
       "<bound method NDFrame.head of                                  name               ID         EYE  \\\n",
       "0                Batman (Bruce Wayne)  Secret Identity   Blue Eyes   \n",
       "1               Superman (Clark Kent)  Secret Identity   Blue Eyes   \n",
       "2          Green Lantern (Hal Jordan)  Secret Identity  Brown Eyes   \n",
       "3            James Gordon (New Earth)  Public Identity  Brown Eyes   \n",
       "4         Richard Grayson (New Earth)  Secret Identity   Blue Eyes   \n",
       "5         Wonder Woman (Diana Prince)  Public Identity   Blue Eyes   \n",
       "6              Aquaman (Arthur Curry)  Public Identity   Blue Eyes   \n",
       "7           Timothy Drake (New Earth)  Secret Identity   Blue Eyes   \n",
       "8      Dinah Laurel Lance (New Earth)  Public Identity   Blue Eyes   \n",
       "9                 Flash (Barry Allen)  Secret Identity   Blue Eyes   \n",
       "10                         GenderTest  Secret Identity   Blue Eyes   \n",
       "11             Alan Scott (New Earth)  Secret Identity   Blue Eyes   \n",
       "12         Barbara Gordon (New Earth)  Secret Identity   Blue Eyes   \n",
       "13          Jason Garrick (New Earth)  Public Identity   Blue Eyes   \n",
       "14              Lois Lane (New Earth)  Public Identity   Blue Eyes   \n",
       "15      Alfred Pennyworth (New Earth)  Public Identity   Blue Eyes   \n",
       "16            Carter Hall (New Earth)  Secret Identity   Blue Eyes   \n",
       "17            Kyle Rayner (New Earth)  Secret Identity  Green Eyes   \n",
       "18         Raymond Palmer (New Earth)  Public Identity  Brown Eyes   \n",
       "19       Alexander Luthor (New Earth)  Public Identity  Green Eyes   \n",
       "20             Roy Harper (New Earth)  Secret Identity  Green Eyes   \n",
       "21             Kara Zor-L (Earth-Two)  Secret Identity   Blue Eyes   \n",
       "22              Ted Grant (New Earth)  Secret Identity   Blue Eyes   \n",
       "23         Garfield Logan (New Earth)  Public Identity  Green Eyes   \n",
       "24            Guy Gardner (New Earth)  Public Identity   Blue Eyes   \n",
       "25           Victor Stone (New Earth)  Public Identity  Brown Eyes   \n",
       "26                 Kon-El (New Earth)  Secret Identity   Blue Eyes   \n",
       "27            Ralph Dibny (New Earth)  Public Identity   Blue Eyes   \n",
       "28            James Olsen (New Earth)  Public Identity  Green Eyes   \n",
       "29           John Stewart (New Earth)  Public Identity  Brown Eyes   \n",
       "...                               ...              ...         ...   \n",
       "6866         Baron Tyrano (New Earth)  Secret Identity   Blue Eyes   \n",
       "6867               Brains (New Earth)                0           0   \n",
       "6868              Cracker (New Earth)                0           0   \n",
       "6869            Hard Head (New Earth)                0           0   \n",
       "6870              Zig-Zag (New Earth)                0           0   \n",
       "6871            Dragonfly (New Earth)  Secret Identity           0   \n",
       "6872        Carl Bradford (New Earth)                0           0   \n",
       "6873           Donna Troy (New Earth)  Public Identity   Blue Eyes   \n",
       "6874    Bartholomew Magan (New Earth)                0           0   \n",
       "6875           James Moon (New Earth)                0           0   \n",
       "6876               Flash (Wally West)  Secret Identity  Green Eyes   \n",
       "6877         J'onn J'onzz (New Earth)  Public Identity    Red Eyes   \n",
       "6878        Dorothea Tane (New Earth)                0           0   \n",
       "6879                Dmane (Earth-Two)                0   Blue Eyes   \n",
       "6880  Maximillian O'Leary (New Earth)  Public Identity           0   \n",
       "6881           Doris Zuel (New Earth)  Secret Identity  Green Eyes   \n",
       "6882            Doris Lee (New Earth)  Public Identity  Brown Eyes   \n",
       "6883      Patrick O'Brian (New Earth)  Secret Identity   Blue Eyes   \n",
       "6884          Basil Karlo (New Earth)  Secret Identity  Black Eyes   \n",
       "6885           Catwoman (Selina Kyle)  Secret Identity  Green Eyes   \n",
       "6886             Bedivere (New Earth)                0           0   \n",
       "6887       Herbert Hoover (New Earth)  Public Identity           0   \n",
       "6888  William Howard Taft (New Earth)  Public Identity           0   \n",
       "6889    Frank Fitzsimmons (New Earth)  Public Identity           0   \n",
       "6890       James Garfield (New Earth)  Public Identity           0   \n",
       "6891          Nadine West (New Earth)  Public Identity           0   \n",
       "6892       Warren Harding (New Earth)  Public Identity           0   \n",
       "6893     William Harrison (New Earth)  Public Identity           0   \n",
       "6894     William McKinley (New Earth)  Public Identity           0   \n",
       "6895               Mookie (New Earth)  Public Identity   Blue Eyes   \n",
       "\n",
       "            HAIR                SEX                ALIVE  APPEARANCES    YEAR  \n",
       "0     Black Hair    Male Characters    Living Characters       3093.0  1939.0  \n",
       "1     Black Hair    Male Characters    Living Characters       2496.0  1986.0  \n",
       "2     Brown Hair    Male Characters    Living Characters       1565.0  1959.0  \n",
       "3     White Hair    Male Characters    Living Characters       1316.0  1987.0  \n",
       "4     Black Hair    Male Characters    Living Characters       1237.0  1940.0  \n",
       "5     Black Hair  Female Characters    Living Characters       1231.0  1941.0  \n",
       "6     Blond Hair    Male Characters    Living Characters       1121.0  1941.0  \n",
       "7     Black Hair    Male Characters    Living Characters       1095.0  1989.0  \n",
       "8     Blond Hair  Female Characters    Living Characters       1075.0  1969.0  \n",
       "9     Blond Hair    Male Characters    Living Characters       1028.0  1956.0  \n",
       "10    Blond Hair  Female Characters    Living Characters       1028.0  1956.0  \n",
       "11    Blond Hair    Male Characters  Deceased Characters        969.0  1940.0  \n",
       "12      Red Hair  Female Characters    Living Characters        951.0  1967.0  \n",
       "13    Brown Hair    Male Characters    Living Characters        951.0  1940.0  \n",
       "14    Black Hair  Female Characters    Living Characters        934.0  1938.0  \n",
       "15    Black Hair    Male Characters    Living Characters        930.0  1943.0  \n",
       "16    Brown Hair    Male Characters    Living Characters        803.0  1940.0  \n",
       "17    Black Hair    Male Characters    Living Characters        716.0  1994.0  \n",
       "18             0    Male Characters    Living Characters        706.0  1961.0  \n",
       "19             0    Male Characters    Living Characters        677.0  1986.0  \n",
       "20      Red Hair    Male Characters    Living Characters        654.0  1941.0  \n",
       "21    Blond Hair  Female Characters    Living Characters        635.0  1976.0  \n",
       "22    Black Hair    Male Characters    Living Characters        605.0  1942.0  \n",
       "23    Green Hair    Male Characters    Living Characters        595.0  1965.0  \n",
       "24      Red Hair    Male Characters    Living Characters        593.0  1968.0  \n",
       "25    Black Hair    Male Characters    Living Characters        584.0  1980.0  \n",
       "26    Black Hair    Male Characters    Living Characters        560.0  1993.0  \n",
       "27      Red Hair    Male Characters  Deceased Characters        558.0  1960.0  \n",
       "28      Red Hair    Male Characters    Living Characters        557.0  1986.0  \n",
       "29    Black Hair    Male Characters    Living Characters        549.0  1971.0  \n",
       "...          ...                ...                  ...          ...     ...  \n",
       "6866           0    Male Characters    Living Characters          0.0  1967.0  \n",
       "6867           0    Male Characters    Living Characters          0.0  1967.0  \n",
       "6868           0    Male Characters    Living Characters          0.0  1967.0  \n",
       "6869  Black Hair    Male Characters    Living Characters          0.0  1967.0  \n",
       "6870           0    Male Characters    Living Characters          0.0  1967.0  \n",
       "6871  Black Hair  Female Characters    Living Characters          0.0  1966.0  \n",
       "6872           0    Male Characters    Living Characters          0.0  1966.0  \n",
       "6873  Black Hair  Female Characters    Living Characters          0.0  1965.0  \n",
       "6874           0    Male Characters    Living Characters          0.0  1963.0  \n",
       "6875           0    Male Characters    Living Characters          0.0  1962.0  \n",
       "6876    Red Hair    Male Characters    Living Characters          0.0  1960.0  \n",
       "6877           0    Male Characters    Living Characters          0.0  1955.0  \n",
       "6878  Blond Hair  Female Characters    Living Characters          0.0  1948.0  \n",
       "6879           0    Male Characters    Living Characters          0.0  1946.0  \n",
       "6880  Black Hair    Male Characters    Living Characters          0.0  1946.0  \n",
       "6881    Red Hair  Female Characters    Living Characters          0.0  1944.0  \n",
       "6882  Brown Hair  Female Characters  Deceased Characters          0.0  1941.0  \n",
       "6883  Black Hair    Male Characters    Living Characters          0.0  1941.0  \n",
       "6884  Black Hair    Male Characters    Living Characters          0.0  1940.0  \n",
       "6885  Black Hair  Female Characters    Living Characters          0.0  1940.0  \n",
       "6886           0    Male Characters    Living Characters          0.0  1936.0  \n",
       "6887           0    Male Characters    Living Characters          0.0     0.0  \n",
       "6888           0    Male Characters    Living Characters          0.0     0.0  \n",
       "6889   Grey Hair    Male Characters    Living Characters          0.0     0.0  \n",
       "6890           0    Male Characters    Living Characters          0.0     0.0  \n",
       "6891           0  Female Characters    Living Characters          0.0     0.0  \n",
       "6892           0    Male Characters    Living Characters          0.0     0.0  \n",
       "6893           0    Male Characters    Living Characters          0.0     0.0  \n",
       "6894           0    Male Characters    Living Characters          0.0     0.0  \n",
       "6895  Blond Hair    Male Characters    Living Characters          0.0     0.0  \n",
       "\n",
       "[6896 rows x 8 columns]>"
      ]
     },
     "execution_count": 8,
     "metadata": {},
     "output_type": "execute_result"
    }
   ],
   "source": [
    "ComicData.head"
   ]
  },
  {
   "cell_type": "code",
   "execution_count": 9,
   "metadata": {},
   "outputs": [],
   "source": [
    "#now, this dataframe needs to be converted into numerical data so that machine learning can be run on it. \n",
    "#lets build some dictionaries!!!!\n",
    "eye_map = {'Blue Eyes' : 1, 'Green Eyes' : 2, 'Brown Eyes' : 3, 'Black Eyes' : 4, 'Red Eyes' : 5, 'White Eyes' : 6,\n",
    "           'Hazel Eyes' : 7,  'Yellow Eyes' : 8, 'Purple Eyes' : 9, 'Orange Eyes' : 10, 'Pink Eyes' : 11, 'Silver Eyes' : 12,\n",
    "           'Gold Eyes' : 13, 'Grey Eyes' : 14, 'Photocellular Eyes' : 15, 'Amber Eyes' : 16, 'Violet Eyes':17, 'Auburn Hair':20, 0:0}\n",
    "\n",
    "hair_map = {'Blue Hair' : 1, 'Green Hair' : 2, 'Brown Hair' : 3, 'Black Hair' : 4, 'Red Hair' : 5, 'White Hair' : 6,\n",
    "           'Hazel Hair' : 7,  'Yellow Hair' : 8, 'Purple Hair' : 9, 'Orange Hair' : 10, 'Pink Hair' : 11, 'Silver Hair' : 12, \n",
    "            'Blond Hair' : 13, 'Strawberry Blond Hair' : 14, 'Gold Hair' : 15, 'Grey Hair' : 16, 'Reddish Brown Hair':17, 'Violet Hair':18,\n",
    "            'Platinum Blond Hair':19, 'Auburn Hair':20, 0:0}"
   ]
  },
  {
   "cell_type": "code",
   "execution_count": 10,
   "metadata": {},
   "outputs": [],
   "source": [
    "id_map = {'Secret Identity' : 0, 'Public Identity' : 1, 'Identity Unknown': 2, 0:0}\n",
    "gender_map = {'Male Characters' : 0, 'Female Characters' : 1, 'Genderless Characters': 2, 'Transgender Characters': 3, 0:0}\n",
    "alive_map = {'Living Characters' : 0, 'Deceased Characters' : 1, 0:0}\n",
    "align_map = {'Good Characters' : 0, 'Neutral Characters' : 1, 'Bad Characters' : 2, 'Reformed Criminals' : 3, 0:4}"
   ]
  },
  {
   "cell_type": "code",
   "execution_count": null,
   "metadata": {},
   "outputs": [],
   "source": []
  },
  {
   "cell_type": "code",
   "execution_count": 11,
   "metadata": {},
   "outputs": [],
   "source": [
    "#I will predict if a character is aligned to Good or Evil or Reformed based on these following data items:\n",
    "    #1. Gender,\n",
    "    #2. Eye Color\n",
    "    #3. is Alive\n",
    "    #4. Number of Appearences\n",
    "    #5. Year\n",
    "    #6. simple hash of their name.\n",
    "    #7. hair color. "
   ]
  },
  {
   "cell_type": "code",
   "execution_count": null,
   "metadata": {},
   "outputs": [],
   "source": []
  },
  {
   "cell_type": "code",
   "execution_count": 12,
   "metadata": {},
   "outputs": [],
   "source": [
    "#first we will turn list of alignments into list of numbers: \n",
    "import math\n",
    "num_align = [align_map[d] for d in ComicAlignment] #these are our labels. \n",
    "num_gender = [gender_map[g[4]] for g in ComicData.values]\n",
    "num_eye_color = [eye_map[c[2]] for c in ComicData.values]\n",
    "num_isAlive = [alive_map[a[5]] for a in ComicData.values]\n",
    "num_hair = [hair_map[h[3]] for h in ComicData.values]\n",
    "num_id = [id_map[p[1]] for p in ComicData.values]\n",
    "num_name = [len(word[0]) for word in ComicData.values]"
   ]
  },
  {
   "cell_type": "code",
   "execution_count": 13,
   "metadata": {},
   "outputs": [
    {
     "data": {
      "text/plain": [
       "array(['Batman (Bruce Wayne)', 'Secret Identity', 'Blue Eyes',\n",
       "       'Black Hair', 'Male Characters', 'Living Characters', 3093.0,\n",
       "       1939.0], dtype=object)"
      ]
     },
     "execution_count": 13,
     "metadata": {},
     "output_type": "execute_result"
    }
   ],
   "source": [
    "ComicData.values[0]"
   ]
  },
  {
   "cell_type": "code",
   "execution_count": 14,
   "metadata": {},
   "outputs": [],
   "source": [
    "ComicData['ID'] = num_id\n",
    "ComicData['EYE'] = num_eye_color\n",
    "ComicData['ALIVE'] = num_isAlive\n",
    "ComicData['HAIR'] = num_hair\n",
    "ComicData['SEX'] = num_gender\n",
    "ComicData['name'] = num_name"
   ]
  },
  {
   "cell_type": "code",
   "execution_count": 15,
   "metadata": {},
   "outputs": [
    {
     "data": {
      "text/plain": [
       "<bound method NDFrame.head of       name  ID   EYE  HAIR  SEX  ALIVE  APPEARANCES    YEAR\n",
       "0     0.80   0  0.05  0.20    0      0      0.77325  0.9695\n",
       "1     0.84   0  0.05  0.20    0      0      0.62400  0.9930\n",
       "2     1.04   0  0.15  0.15    0      0      0.39125  0.9795\n",
       "3     0.96   1  0.15  0.30    0      0      0.32900  0.9935\n",
       "4     1.08   0  0.05  0.20    0      0      0.30925  0.9700\n",
       "5     1.08   1  0.05  0.20    1      0      0.30775  0.9705\n",
       "6     0.88   1  0.05  0.65    0      0      0.28025  0.9705\n",
       "7     1.00   0  0.05  0.20    0      0      0.27375  0.9945\n",
       "8     1.20   1  0.05  0.65    1      0      0.26875  0.9845\n",
       "9     0.76   0  0.05  0.65    0      0      0.25700  0.9780\n",
       "10    0.40   0  0.05  0.65    1      0      0.25700  0.9780\n",
       "11    0.88   0  0.05  0.65    0      1      0.24225  0.9700\n",
       "12    1.04   0  0.05  0.25    1      0      0.23775  0.9835\n",
       "13    1.00   1  0.05  0.15    0      0      0.23775  0.9700\n",
       "14    0.84   1  0.05  0.20    1      0      0.23350  0.9690\n",
       "15    1.16   1  0.05  0.20    0      0      0.23250  0.9715\n",
       "16    0.92   0  0.05  0.15    0      0      0.20075  0.9700\n",
       "17    0.92   0  0.10  0.20    0      0      0.17900  0.9970\n",
       "18    1.04   1  0.15  0.00    0      0      0.17650  0.9805\n",
       "19    1.12   1  0.10  0.00    0      0      0.16925  0.9930\n",
       "20    0.88   0  0.10  0.25    0      0      0.16350  0.9705\n",
       "21    0.88   0  0.05  0.65    1      0      0.15875  0.9880\n",
       "22    0.84   0  0.05  0.20    0      0      0.15125  0.9710\n",
       "23    1.04   1  0.10  0.10    0      0      0.14875  0.9825\n",
       "24    0.92   1  0.05  0.25    0      0      0.14825  0.9840\n",
       "25    0.96   1  0.15  0.20    0      0      0.14600  0.9900\n",
       "26    0.72   0  0.05  0.20    0      0      0.14000  0.9965\n",
       "27    0.92   1  0.05  0.25    0      1      0.13950  0.9800\n",
       "28    0.92   1  0.10  0.25    0      0      0.13925  0.9930\n",
       "29    0.96   1  0.15  0.20    0      0      0.13725  0.9855\n",
       "...    ...  ..   ...   ...  ...    ...          ...     ...\n",
       "6866  0.96   0  0.05  0.00    0      0      0.00000  0.9835\n",
       "6867  0.72   0  0.00  0.00    0      0      0.00000  0.9835\n",
       "6868  0.76   0  0.00  0.00    0      0      0.00000  0.9835\n",
       "6869  0.84   0  0.00  0.20    0      0      0.00000  0.9835\n",
       "6870  0.76   0  0.00  0.00    0      0      0.00000  0.9835\n",
       "6871  0.84   0  0.00  0.20    1      0      0.00000  0.9830\n",
       "6872  1.00   0  0.00  0.00    0      0      0.00000  0.9830\n",
       "6873  0.88   1  0.05  0.20    1      0      0.00000  0.9825\n",
       "6874  1.16   0  0.00  0.00    0      0      0.00000  0.9815\n",
       "6875  0.88   0  0.00  0.00    0      0      0.00000  0.9810\n",
       "6876  0.72   0  0.10  0.25    0      0      0.00000  0.9800\n",
       "6877  0.96   1  0.25  0.00    0      0      0.00000  0.9775\n",
       "6878  1.00   0  0.00  0.65    1      0      0.00000  0.9740\n",
       "6879  0.68   0  0.05  0.00    0      0      0.00000  0.9730\n",
       "6880  1.24   1  0.00  0.20    0      0      0.00000  0.9730\n",
       "6881  0.88   0  0.10  0.25    1      0      0.00000  0.9720\n",
       "6882  0.84   1  0.15  0.15    1      1      0.00000  0.9705\n",
       "6883  1.08   0  0.05  0.20    0      0      0.00000  0.9705\n",
       "6884  0.92   0  0.20  0.20    0      0      0.00000  0.9700\n",
       "6885  0.88   0  0.10  0.20    1      0      0.00000  0.9700\n",
       "6886  0.80   0  0.00  0.00    0      0      0.00000  0.9680\n",
       "6887  1.04   1  0.00  0.00    0      0      0.00000  0.0000\n",
       "6888  1.24   1  0.00  0.00    0      0      0.00000  0.0000\n",
       "6889  1.16   1  0.00  0.80    0      0      0.00000  0.0000\n",
       "6890  1.04   1  0.00  0.00    0      0      0.00000  0.0000\n",
       "6891  0.92   1  0.00  0.00    1      0      0.00000  0.0000\n",
       "6892  1.04   1  0.00  0.00    0      0      0.00000  0.0000\n",
       "6893  1.12   1  0.00  0.00    0      0      0.00000  0.0000\n",
       "6894  1.12   1  0.00  0.00    0      0      0.00000  0.0000\n",
       "6895  0.72   1  0.05  0.65    0      0      0.00000  0.0000\n",
       "\n",
       "[6896 rows x 8 columns]>"
      ]
     },
     "execution_count": 15,
     "metadata": {},
     "output_type": "execute_result"
    }
   ],
   "source": [
    "ComicData['APPEARANCES'] = ComicData['APPEARANCES'] / 4000\n",
    "ComicData['YEAR'] = ComicData['YEAR'] / 2000\n",
    "ComicData['name'] = ComicData['name'] /  25\n",
    "ComicData['EYE'] = ComicData['EYE'] / 20\n",
    "ComicData['HAIR'] = ComicData['HAIR'] / 20\n",
    "ComicData.head"
   ]
  },
  {
   "cell_type": "code",
   "execution_count": 16,
   "metadata": {},
   "outputs": [
    {
     "data": {
      "text/plain": [
       "6896"
      ]
     },
     "execution_count": 16,
     "metadata": {},
     "output_type": "execute_result"
    }
   ],
   "source": [
    "#so we have our labels: \n",
    "len(num_align)"
   ]
  },
  {
   "cell_type": "code",
   "execution_count": 17,
   "metadata": {},
   "outputs": [],
   "source": [
    "#Now the data is ready! we can go to work!\n",
    "#lets split up the data into training, validation, testing\n",
    "TrainSplit = 5/8\n",
    "ValidSplit = 1/8\n",
    "TestSplit = 2/8\n",
    "\n",
    "data_size = 6896\n",
    "train_len = int(data_size * TrainSplit)\n",
    "valid_len = int(data_size * ValidSplit)\n",
    "test_len = int(data_size * TestSplit)\n",
    "\n",
    "TrainSet = ComicData.values[:train_len]\n",
    "TrainLabels = num_align[:train_len]\n",
    "\n",
    "ValidationSet = ComicData.values[train_len+1:train_len+valid_len+1]\n",
    "ValidationLabels = num_align[train_len+1:train_len+valid_len+1]\n",
    "\n",
    "TestSet = ComicData.values[train_len + valid_len:]\n",
    "TestLabels = num_align[train_len + valid_len:]"
   ]
  },
  {
   "cell_type": "code",
   "execution_count": 18,
   "metadata": {},
   "outputs": [
    {
     "name": "stderr",
     "output_type": "stream",
     "text": [
      "Using TensorFlow backend.\n"
     ]
    }
   ],
   "source": [
    "from tensorflow import keras\n",
    "import matplotlib.pyplot as plt\n",
    "from keras.optimizers import Adam\n",
    "from keras.layers import Input, Dense, Activation, Dropout\n",
    "from keras.models import Sequential\n",
    "from keras.models import Model"
   ]
  },
  {
   "cell_type": "code",
   "execution_count": 19,
   "metadata": {},
   "outputs": [
    {
     "name": "stderr",
     "output_type": "stream",
     "text": [
      "C:\\Users\\tsmar\\Anaconda3\\lib\\site-packages\\ipykernel_launcher.py:2: UserWarning: Update your `Dense` call to the Keras 2 API: `Dense(64, input_dim=8, activation=\"relu\", kernel_initializer=\"uniform\")`\n",
      "  \n",
      "C:\\Users\\tsmar\\Anaconda3\\lib\\site-packages\\ipykernel_launcher.py:4: UserWarning: Update your `Dense` call to the Keras 2 API: `Dense(32, activation=\"relu\", kernel_initializer=\"uniform\")`\n",
      "  after removing the cwd from sys.path.\n",
      "C:\\Users\\tsmar\\Anaconda3\\lib\\site-packages\\ipykernel_launcher.py:6: UserWarning: Update your `Dense` call to the Keras 2 API: `Dense(16, activation=\"relu\", kernel_initializer=\"uniform\")`\n",
      "  \n",
      "C:\\Users\\tsmar\\Anaconda3\\lib\\site-packages\\ipykernel_launcher.py:8: UserWarning: Update your `Dense` call to the Keras 2 API: `Dense(8, activation=\"relu\", kernel_initializer=\"uniform\")`\n",
      "  \n",
      "C:\\Users\\tsmar\\Anaconda3\\lib\\site-packages\\ipykernel_launcher.py:9: UserWarning: Update your `Dense` call to the Keras 2 API: `Dense(5, activation=\"softmax\", kernel_initializer=\"uniform\")`\n",
      "  if __name__ == '__main__':\n"
     ]
    }
   ],
   "source": [
    "model = Sequential()\n",
    "model.add(Dense(64, input_dim=8, activation='relu', init='uniform'))\n",
    "model.add(Dropout(rate=0.125))\n",
    "model.add(Dense(32, activation='relu', init='uniform'))\n",
    "model.add(Dropout(rate=0.125))\n",
    "model.add(Dense(16, activation='relu', init='uniform'))\n",
    "model.add(Dropout(rate=0.125))\n",
    "model.add(Dense(8, activation='relu', init='uniform'))\n",
    "model.add(Dense(5, activation='softmax', init='uniform'))\n",
    "model.compile(optimizer=Adam(lr=0.001),loss='categorical_crossentropy',metrics=['accuracy'])"
   ]
  },
  {
   "cell_type": "code",
   "execution_count": 20,
   "metadata": {},
   "outputs": [
    {
     "data": {
      "text/plain": [
       "4310"
      ]
     },
     "execution_count": 20,
     "metadata": {},
     "output_type": "execute_result"
    }
   ],
   "source": [
    "len(TrainLabels)"
   ]
  },
  {
   "cell_type": "code",
   "execution_count": 21,
   "metadata": {},
   "outputs": [],
   "source": [
    "TrainSet = np.reshape(TrainSet, (train_len, 8))\n",
    "TrainLabelSet = []\n",
    "for t in TrainLabels:\n",
    "    if t == 0:\n",
    "        TrainLabelSet.append([1, 0, 0, 0, 0])\n",
    "    elif t == 1:\n",
    "        TrainLabelSet.append([0, 1, 0, 0, 0])\n",
    "    elif t == 2:\n",
    "        TrainLabelSet.append([0, 0, 1, 0, 0])\n",
    "    elif t == 3:\n",
    "        TrainLabelSet.append([0, 0, 0, 1, 0])\n",
    "    elif t == 4:\n",
    "        TrainLabelSet.append([0, 0, 0, 0, 1])\n",
    "ValidationSet = np.reshape(ValidationSet, (valid_len, 8))\n",
    "ValidLabelSet = []\n",
    "for t in ValidationLabels:\n",
    "    if t == 0:\n",
    "        ValidLabelSet.append([1, 0, 0, 0, 0])\n",
    "    elif t == 1:\n",
    "        ValidLabelSet.append([0, 1, 0, 0, 0])\n",
    "    elif t == 2:\n",
    "        ValidLabelSet.append([0, 0, 1, 0, 0])\n",
    "    elif t == 3:\n",
    "        ValidLabelSet.append([0, 0, 0, 1, 0])\n",
    "    elif t == 4:\n",
    "        ValidLabelSet.append([0, 0, 0, 0, 1])\n",
    "        \n",
    "TestSet = np.reshape(TestSet, (test_len, 8))\n",
    "TestLabelSet = []\n",
    "for t in TestLabels:\n",
    "    if t == 0:\n",
    "        TestLabelSet.append([1, 0, 0, 0, 0])\n",
    "    elif t == 1:\n",
    "        TestLabelSet.append([0, 1, 0, 0, 0])\n",
    "    elif t == 2:\n",
    "        TestLabelSet.append([0, 0, 1, 0, 0])\n",
    "    elif t == 3:\n",
    "        TestLabelSet.append([0, 0, 0, 1, 0])\n",
    "    elif t == 4:\n",
    "        TestLabelSet.append([0, 0, 0, 0, 1])"
   ]
  },
  {
   "cell_type": "code",
   "execution_count": 22,
   "metadata": {},
   "outputs": [
    {
     "name": "stdout",
     "output_type": "stream",
     "text": [
      "Epoch 1/100\n",
      "4310/4310 [==============================] - 3s 725us/step - loss: 1.3481 - acc: 0.4473\n",
      "Epoch 2/100\n",
      "4310/4310 [==============================] - 0s 74us/step - loss: 1.1559 - acc: 0.4680\n",
      "Epoch 3/100\n",
      "4310/4310 [==============================] - 0s 75us/step - loss: 1.1506 - acc: 0.4680\n",
      "Epoch 4/100\n",
      "4310/4310 [==============================] - 0s 71us/step - loss: 1.1511 - acc: 0.4680\n",
      "Epoch 5/100\n",
      "4310/4310 [==============================] - 0s 75us/step - loss: 1.1472 - acc: 0.4680\n",
      "Epoch 6/100\n",
      "4310/4310 [==============================] - 0s 71us/step - loss: 1.1510 - acc: 0.4543\n",
      "Epoch 7/100\n",
      "4310/4310 [==============================] - 0s 70us/step - loss: 1.1494 - acc: 0.4680\n",
      "Epoch 8/100\n",
      "4310/4310 [==============================] - 0s 78us/step - loss: 1.1482 - acc: 0.4680\n",
      "Epoch 9/100\n",
      "4310/4310 [==============================] - 0s 75us/step - loss: 1.1481 - acc: 0.4680\n",
      "Epoch 10/100\n",
      "4310/4310 [==============================] - 0s 73us/step - loss: 1.1488 - acc: 0.4680\n",
      "Epoch 11/100\n",
      "4310/4310 [==============================] - 0s 71us/step - loss: 1.1468 - acc: 0.4680\n",
      "Epoch 12/100\n",
      "4310/4310 [==============================] - 0s 80us/step - loss: 1.1484 - acc: 0.4680\n",
      "Epoch 13/100\n",
      "4310/4310 [==============================] - 0s 77us/step - loss: 1.1487 - acc: 0.4680\n",
      "Epoch 14/100\n",
      "4310/4310 [==============================] - 0s 75us/step - loss: 1.1467 - acc: 0.4680\n",
      "Epoch 15/100\n",
      "4310/4310 [==============================] - 0s 72us/step - loss: 1.1453 - acc: 0.4680\n",
      "Epoch 16/100\n",
      "4310/4310 [==============================] - 0s 65us/step - loss: 1.1470 - acc: 0.4680\n",
      "Epoch 17/100\n",
      "4310/4310 [==============================] - 0s 70us/step - loss: 1.1468 - acc: 0.4680\n",
      "Epoch 18/100\n",
      "4310/4310 [==============================] - 0s 72us/step - loss: 1.1455 - acc: 0.4680\n",
      "Epoch 19/100\n",
      "4310/4310 [==============================] - 0s 81us/step - loss: 1.1468 - acc: 0.4680\n",
      "Epoch 20/100\n",
      "4310/4310 [==============================] - 0s 83us/step - loss: 1.1453 - acc: 0.4682\n",
      "Epoch 21/100\n",
      "4310/4310 [==============================] - 0s 78us/step - loss: 1.1440 - acc: 0.4680\n",
      "Epoch 22/100\n",
      "4310/4310 [==============================] - 0s 81us/step - loss: 1.1462 - acc: 0.4680\n",
      "Epoch 23/100\n",
      "4310/4310 [==============================] - 0s 81us/step - loss: 1.1443 - acc: 0.4680\n",
      "Epoch 24/100\n",
      "4310/4310 [==============================] - 0s 79us/step - loss: 1.1431 - acc: 0.4680\n",
      "Epoch 25/100\n",
      "4310/4310 [==============================] - 0s 73us/step - loss: 1.1444 - acc: 0.4698: 0s - loss: 1.1667 - acc: 0\n",
      "Epoch 26/100\n",
      "4310/4310 [==============================] - 0s 74us/step - loss: 1.1445 - acc: 0.4680\n",
      "Epoch 27/100\n",
      "4310/4310 [==============================] - 0s 80us/step - loss: 1.1429 - acc: 0.4691\n",
      "Epoch 28/100\n",
      "4310/4310 [==============================] - 0s 74us/step - loss: 1.1405 - acc: 0.4671\n",
      "Epoch 29/100\n",
      "4310/4310 [==============================] - 0s 62us/step - loss: 1.1420 - acc: 0.4694\n",
      "Epoch 30/100\n",
      "4310/4310 [==============================] - 0s 75us/step - loss: 1.1399 - acc: 0.4703\n",
      "Epoch 31/100\n",
      "4310/4310 [==============================] - 0s 78us/step - loss: 1.1384 - acc: 0.4770\n",
      "Epoch 32/100\n",
      "4310/4310 [==============================] - 0s 79us/step - loss: 1.1365 - acc: 0.4780\n",
      "Epoch 33/100\n",
      "4310/4310 [==============================] - 0s 75us/step - loss: 1.1338 - acc: 0.4898\n",
      "Epoch 34/100\n",
      "4310/4310 [==============================] - 0s 68us/step - loss: 1.1350 - acc: 0.4870\n",
      "Epoch 35/100\n",
      "4310/4310 [==============================] - 0s 79us/step - loss: 1.1302 - acc: 0.4796: 0s - loss: 1.1571 - acc: \n",
      "Epoch 36/100\n",
      "4310/4310 [==============================] - 0s 73us/step - loss: 1.1301 - acc: 0.4875\n",
      "Epoch 37/100\n",
      "4310/4310 [==============================] - 0s 71us/step - loss: 1.1251 - acc: 0.5084\n",
      "Epoch 38/100\n",
      "4310/4310 [==============================] - 0s 70us/step - loss: 1.1250 - acc: 0.4988\n",
      "Epoch 39/100\n",
      "4310/4310 [==============================] - 0s 69us/step - loss: 1.1218 - acc: 0.5077\n",
      "Epoch 40/100\n",
      "4310/4310 [==============================] - 0s 77us/step - loss: 1.1194 - acc: 0.5046\n",
      "Epoch 41/100\n",
      "4310/4310 [==============================] - 0s 66us/step - loss: 1.1167 - acc: 0.5109\n",
      "Epoch 42/100\n",
      "4310/4310 [==============================] - 0s 80us/step - loss: 1.1167 - acc: 0.5070\n",
      "Epoch 43/100\n",
      "4310/4310 [==============================] - 0s 74us/step - loss: 1.1128 - acc: 0.5090\n",
      "Epoch 44/100\n",
      "4310/4310 [==============================] - 0s 75us/step - loss: 1.1121 - acc: 0.5128\n",
      "Epoch 45/100\n",
      "4310/4310 [==============================] - 0s 75us/step - loss: 1.1095 - acc: 0.5179\n",
      "Epoch 46/100\n",
      "4310/4310 [==============================] - 0s 73us/step - loss: 1.1067 - acc: 0.5153\n",
      "Epoch 47/100\n",
      "4310/4310 [==============================] - 0s 76us/step - loss: 1.1048 - acc: 0.5162\n",
      "Epoch 48/100\n",
      "4310/4310 [==============================] - 0s 84us/step - loss: 1.1053 - acc: 0.5204\n",
      "Epoch 49/100\n",
      "4310/4310 [==============================] - 0s 72us/step - loss: 1.1021 - acc: 0.5237\n",
      "Epoch 50/100\n",
      "4310/4310 [==============================] - 0s 70us/step - loss: 1.1010 - acc: 0.5232\n",
      "Epoch 51/100\n",
      "4310/4310 [==============================] - 0s 77us/step - loss: 1.0991 - acc: 0.5262\n",
      "Epoch 52/100\n",
      "4310/4310 [==============================] - 0s 72us/step - loss: 1.0988 - acc: 0.5318\n",
      "Epoch 53/100\n",
      "4310/4310 [==============================] - 0s 80us/step - loss: 1.0974 - acc: 0.5323\n",
      "Epoch 54/100\n",
      "4310/4310 [==============================] - 0s 68us/step - loss: 1.0949 - acc: 0.5336\n",
      "Epoch 55/100\n",
      "4310/4310 [==============================] - 0s 69us/step - loss: 1.0932 - acc: 0.5350\n",
      "Epoch 56/100\n",
      "4310/4310 [==============================] - 0s 66us/step - loss: 1.0955 - acc: 0.5265\n",
      "Epoch 57/100\n",
      "4310/4310 [==============================] - 0s 65us/step - loss: 1.0942 - acc: 0.5292\n",
      "Epoch 58/100\n",
      "4310/4310 [==============================] - 0s 75us/step - loss: 1.0902 - acc: 0.5320\n",
      "Epoch 59/100\n",
      "4310/4310 [==============================] - 0s 66us/step - loss: 1.0919 - acc: 0.5357\n",
      "Epoch 60/100\n",
      "4310/4310 [==============================] - 0s 71us/step - loss: 1.0922 - acc: 0.5371\n",
      "Epoch 61/100\n",
      "4310/4310 [==============================] - 0s 71us/step - loss: 1.0881 - acc: 0.5392\n",
      "Epoch 62/100\n",
      "4310/4310 [==============================] - 0s 70us/step - loss: 1.0904 - acc: 0.5346\n",
      "Epoch 63/100\n",
      "4310/4310 [==============================] - 0s 78us/step - loss: 1.0901 - acc: 0.5374\n",
      "Epoch 64/100\n",
      "4310/4310 [==============================] - 0s 78us/step - loss: 1.0880 - acc: 0.5374\n",
      "Epoch 65/100\n",
      "4310/4310 [==============================] - 0s 73us/step - loss: 1.0905 - acc: 0.5355\n",
      "Epoch 66/100\n",
      "4310/4310 [==============================] - 0s 70us/step - loss: 1.0878 - acc: 0.5357\n",
      "Epoch 67/100\n",
      "4310/4310 [==============================] - 0s 75us/step - loss: 1.0877 - acc: 0.5443\n",
      "Epoch 68/100\n",
      "4310/4310 [==============================] - 0s 76us/step - loss: 1.0870 - acc: 0.5390\n",
      "Epoch 69/100\n",
      "4310/4310 [==============================] - 0s 69us/step - loss: 1.0875 - acc: 0.5390\n",
      "Epoch 70/100\n",
      "4310/4310 [==============================] - 0s 78us/step - loss: 1.0895 - acc: 0.5364\n",
      "Epoch 71/100\n",
      "4310/4310 [==============================] - 0s 77us/step - loss: 1.0865 - acc: 0.5320\n",
      "Epoch 72/100\n",
      "4310/4310 [==============================] - 0s 68us/step - loss: 1.0884 - acc: 0.5399: 0s - loss: 1.1195 - acc: 0\n",
      "Epoch 73/100\n",
      "4310/4310 [==============================] - 0s 76us/step - loss: 1.0828 - acc: 0.5392\n",
      "Epoch 74/100\n",
      "4310/4310 [==============================] - 0s 68us/step - loss: 1.0838 - acc: 0.5397\n",
      "Epoch 75/100\n",
      "4310/4310 [==============================] - 0s 66us/step - loss: 1.0878 - acc: 0.5306\n",
      "Epoch 76/100\n",
      "4310/4310 [==============================] - 0s 66us/step - loss: 1.0872 - acc: 0.5357: 0s - loss: 1.0615 - acc: 0\n",
      "Epoch 77/100\n",
      "4310/4310 [==============================] - 0s 66us/step - loss: 1.0861 - acc: 0.5401\n",
      "Epoch 78/100\n",
      "4310/4310 [==============================] - 0s 74us/step - loss: 1.0869 - acc: 0.5357\n",
      "Epoch 79/100\n",
      "4310/4310 [==============================] - 0s 73us/step - loss: 1.0824 - acc: 0.5404\n",
      "Epoch 80/100\n",
      "4310/4310 [==============================] - 0s 75us/step - loss: 1.0872 - acc: 0.5297\n",
      "Epoch 81/100\n",
      "4310/4310 [==============================] - 0s 80us/step - loss: 1.0850 - acc: 0.5371\n",
      "Epoch 82/100\n",
      "4310/4310 [==============================] - 0s 73us/step - loss: 1.0832 - acc: 0.5413\n",
      "Epoch 83/100\n",
      "4310/4310 [==============================] - 0s 69us/step - loss: 1.0834 - acc: 0.5425\n",
      "Epoch 84/100\n",
      "4310/4310 [==============================] - 0s 80us/step - loss: 1.0863 - acc: 0.5381\n",
      "Epoch 85/100\n",
      "4310/4310 [==============================] - 0s 74us/step - loss: 1.0852 - acc: 0.5459\n",
      "Epoch 86/100\n",
      "4310/4310 [==============================] - 0s 75us/step - loss: 1.0834 - acc: 0.5432\n",
      "Epoch 87/100\n",
      "4310/4310 [==============================] - 0s 72us/step - loss: 1.0825 - acc: 0.5413\n",
      "Epoch 88/100\n",
      "4310/4310 [==============================] - 0s 85us/step - loss: 1.0830 - acc: 0.5420\n",
      "Epoch 89/100\n",
      "4310/4310 [==============================] - 0s 85us/step - loss: 1.0842 - acc: 0.5441\n",
      "Epoch 90/100\n",
      "4310/4310 [==============================] - 0s 69us/step - loss: 1.0820 - acc: 0.5436\n",
      "Epoch 91/100\n",
      "4310/4310 [==============================] - 0s 75us/step - loss: 1.0839 - acc: 0.5473: 0s - loss: 1.0846 - acc: 0.546\n",
      "Epoch 92/100\n",
      "4310/4310 [==============================] - 0s 74us/step - loss: 1.0810 - acc: 0.5408\n",
      "Epoch 93/100\n",
      "4310/4310 [==============================] - 0s 75us/step - loss: 1.0861 - acc: 0.5434\n",
      "Epoch 94/100\n",
      "4310/4310 [==============================] - 0s 70us/step - loss: 1.0816 - acc: 0.5374\n",
      "Epoch 95/100\n",
      "4310/4310 [==============================] - 0s 68us/step - loss: 1.0853 - acc: 0.5408\n",
      "Epoch 96/100\n",
      "4310/4310 [==============================] - 0s 68us/step - loss: 1.0826 - acc: 0.5397: 0s - loss: 1.0687 - acc: 0\n",
      "Epoch 97/100\n",
      "4310/4310 [==============================] - 0s 72us/step - loss: 1.0842 - acc: 0.5339\n",
      "Epoch 98/100\n",
      "4310/4310 [==============================] - 0s 73us/step - loss: 1.0823 - acc: 0.5387\n",
      "Epoch 99/100\n",
      "4310/4310 [==============================] - 0s 71us/step - loss: 1.0839 - acc: 0.5374\n",
      "Epoch 100/100\n",
      "4310/4310 [==============================] - 0s 70us/step - loss: 1.0803 - acc: 0.5420\n"
     ]
    },
    {
     "data": {
      "text/plain": [
       "<keras.callbacks.History at 0x1e7301bd438>"
      ]
     },
     "execution_count": 22,
     "metadata": {},
     "output_type": "execute_result"
    }
   ],
   "source": [
    "model.fit(TrainSet, np.array(TrainLabelSet), epochs=100, verbose=1)"
   ]
  },
  {
   "cell_type": "code",
   "execution_count": 58,
   "metadata": {},
   "outputs": [
    {
     "name": "stdout",
     "output_type": "stream",
     "text": [
      "Epoch 1/30\n",
      "862/862 [==============================] - 0s 62us/step - loss: 1.1332 - acc: 0.5104\n",
      "Epoch 2/30\n",
      "862/862 [==============================] - 0s 84us/step - loss: 1.1288 - acc: 0.5139\n",
      "Epoch 3/30\n",
      "862/862 [==============================] - 0s 84us/step - loss: 1.1171 - acc: 0.5174\n",
      "Epoch 4/30\n",
      "862/862 [==============================] - 0s 72us/step - loss: 1.1208 - acc: 0.5220\n",
      "Epoch 5/30\n",
      "862/862 [==============================] - 0s 83us/step - loss: 1.1190 - acc: 0.5139\n",
      "Epoch 6/30\n",
      "862/862 [==============================] - 0s 86us/step - loss: 1.1252 - acc: 0.5244\n",
      "Epoch 7/30\n",
      "862/862 [==============================] - 0s 96us/step - loss: 1.1203 - acc: 0.5360\n",
      "Epoch 8/30\n",
      "862/862 [==============================] - 0s 78us/step - loss: 1.1316 - acc: 0.5093\n",
      "Epoch 9/30\n",
      "862/862 [==============================] - 0s 76us/step - loss: 1.1217 - acc: 0.5244\n",
      "Epoch 10/30\n",
      "862/862 [==============================] - 0s 83us/step - loss: 1.1217 - acc: 0.5278\n",
      "Epoch 11/30\n",
      "862/862 [==============================] - 0s 87us/step - loss: 1.1257 - acc: 0.5255\n",
      "Epoch 12/30\n",
      "862/862 [==============================] - 0s 94us/step - loss: 1.1201 - acc: 0.5267\n",
      "Epoch 13/30\n",
      "862/862 [==============================] - 0s 102us/step - loss: 1.1222 - acc: 0.5186\n",
      "Epoch 14/30\n",
      "862/862 [==============================] - 0s 86us/step - loss: 1.1191 - acc: 0.5209\n",
      "Epoch 15/30\n",
      "862/862 [==============================] - 0s 84us/step - loss: 1.1260 - acc: 0.5139\n",
      "Epoch 16/30\n",
      "862/862 [==============================] - 0s 93us/step - loss: 1.1228 - acc: 0.5290\n",
      "Epoch 17/30\n",
      "862/862 [==============================] - 0s 80us/step - loss: 1.1212 - acc: 0.5186\n",
      "Epoch 18/30\n",
      "862/862 [==============================] - 0s 103us/step - loss: 1.1181 - acc: 0.5186\n",
      "Epoch 19/30\n",
      "862/862 [==============================] - 0s 74us/step - loss: 1.1192 - acc: 0.5162\n",
      "Epoch 20/30\n",
      "862/862 [==============================] - 0s 76us/step - loss: 1.1155 - acc: 0.5255\n",
      "Epoch 21/30\n",
      "862/862 [==============================] - 0s 82us/step - loss: 1.1117 - acc: 0.5325\n",
      "Epoch 22/30\n",
      "862/862 [==============================] - 0s 78us/step - loss: 1.1240 - acc: 0.5046\n",
      "Epoch 23/30\n",
      "862/862 [==============================] - 0s 67us/step - loss: 1.1188 - acc: 0.5290\n",
      "Epoch 24/30\n",
      "862/862 [==============================] - 0s 100us/step - loss: 1.1193 - acc: 0.5278\n",
      "Epoch 25/30\n",
      "862/862 [==============================] - 0s 84us/step - loss: 1.1255 - acc: 0.5232\n",
      "Epoch 26/30\n",
      "862/862 [==============================] - 0s 74us/step - loss: 1.1156 - acc: 0.5290\n",
      "Epoch 27/30\n",
      "862/862 [==============================] - 0s 75us/step - loss: 1.1200 - acc: 0.5267\n",
      "Epoch 28/30\n",
      "862/862 [==============================] - 0s 100us/step - loss: 1.1146 - acc: 0.5267\n",
      "Epoch 29/30\n",
      "862/862 [==============================] - 0s 83us/step - loss: 1.1186 - acc: 0.5220\n",
      "Epoch 30/30\n",
      "862/862 [==============================] - 0s 93us/step - loss: 1.1246 - acc: 0.5186\n"
     ]
    },
    {
     "data": {
      "text/plain": [
       "<keras.callbacks.History at 0x220cf2cf320>"
      ]
     },
     "execution_count": 58,
     "metadata": {},
     "output_type": "execute_result"
    }
   ],
   "source": [
    "model.fit(ValidationSet, np.array(ValidLabelSet), epochs=30, verbose=1)"
   ]
  },
  {
   "cell_type": "code",
   "execution_count": 23,
   "metadata": {},
   "outputs": [
    {
     "name": "stdout",
     "output_type": "stream",
     "text": [
      "1724/1724 [==============================] - 0s 167us/step\n",
      "\n",
      "acc: 53.19%\n"
     ]
    }
   ],
   "source": [
    "scores = model.evaluate(TestSet, np.array(TestLabelSet))\n",
    "print(\"\\n%s: %.2f%%\" % (model.metrics_names[1], scores[1]*100))"
   ]
  },
  {
   "cell_type": "code",
   "execution_count": 43,
   "metadata": {},
   "outputs": [
    {
     "data": {
      "text/plain": [
       "RandomForestClassifier(bootstrap=True, class_weight=None, criterion='entropy',\n",
       "            max_depth=None, max_features='auto', max_leaf_nodes=None,\n",
       "            min_impurity_decrease=0.0, min_impurity_split=None,\n",
       "            min_samples_leaf=1, min_samples_split=2,\n",
       "            min_weight_fraction_leaf=0.0, n_estimators=100, n_jobs=2,\n",
       "            oob_score=False, random_state=1, verbose=0, warm_start=False)"
      ]
     },
     "execution_count": 43,
     "metadata": {},
     "output_type": "execute_result"
    }
   ],
   "source": [
    "#now lets try a randomforest\n",
    "import sklearn\n",
    "from sklearn.ensemble import RandomForestClassifier\n",
    "forest = RandomForestClassifier(criterion='entropy', n_estimators=100, random_state=1, n_jobs=2)\n",
    "forest.fit(TrainSet, TrainLabelSet)"
   ]
  },
  {
   "cell_type": "code",
   "execution_count": 44,
   "metadata": {},
   "outputs": [],
   "source": [
    "yhat = forest.predict(TestSet)"
   ]
  },
  {
   "cell_type": "code",
   "execution_count": 45,
   "metadata": {},
   "outputs": [],
   "source": [
    "def label_match(yh, ya):\n",
    "    for i in range(len(yh)):\n",
    "        if yh[i] - ya[i] != 0.0:\n",
    "            return False\n",
    "    return True"
   ]
  },
  {
   "cell_type": "code",
   "execution_count": 46,
   "metadata": {},
   "outputs": [],
   "source": [
    "res = [label_match(yhat[i], np.array(TestLabelSet[i])) for i in range(len(yhat))]"
   ]
  },
  {
   "cell_type": "code",
   "execution_count": 47,
   "metadata": {},
   "outputs": [
    {
     "data": {
      "text/plain": [
       "0.3874709976798144"
      ]
     },
     "execution_count": 47,
     "metadata": {},
     "output_type": "execute_result"
    }
   ],
   "source": [
    "sum(res) / len(res)"
   ]
  },
  {
   "cell_type": "code",
   "execution_count": null,
   "metadata": {},
   "outputs": [],
   "source": []
  }
 ],
 "metadata": {
  "kernelspec": {
   "display_name": "Python 3",
   "language": "python",
   "name": "python3"
  },
  "language_info": {
   "codemirror_mode": {
    "name": "ipython",
    "version": 3
   },
   "file_extension": ".py",
   "mimetype": "text/x-python",
   "name": "python",
   "nbconvert_exporter": "python",
   "pygments_lexer": "ipython3",
   "version": "3.6.5"
  }
 },
 "nbformat": 4,
 "nbformat_minor": 2
}
