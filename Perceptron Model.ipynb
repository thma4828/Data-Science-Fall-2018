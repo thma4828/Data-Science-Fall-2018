{
 "cells": [
  {
   "cell_type": "code",
   "execution_count": 2,
   "metadata": {},
   "outputs": [],
   "source": [
    "import numpy as np\n",
    "\n",
    "class Perceptron(object):\n",
    "    #eta is the learning rate. \n",
    "    #n_iter is the number of passes over the training data set. \n",
    "    #w_ 1d-array of weights after fitting. \n",
    "    #errors_ number of misclassifications in each epoch. (stored as a list)\n",
    "    def __init__(self, eta=0.01, n_iter=10):\n",
    "        self.eta = eta\n",
    "        self.n_iter = n_iter\n",
    "        \n",
    "    def fit(self, X, y):\n",
    "        #X is a matrix of n_samples by n_features\n",
    "        #y is a list of n_samples length of targets AKA LABELS. \n",
    "        self.w_ = np.zeros(1 + X.shape[1]) #initial weights of length 1 greater than the number of features. weights are 0 init.\n",
    "        self.errors_ = []\n",
    "        for _ in range(self.n_iter):\n",
    "            #each pass over the data set X\n",
    "            errors = 0\n",
    "            for xi, target in zip(X, y): #zip function is MLG\n",
    "                update = self.eta * (target - self.predict(xi)) \n",
    "                self.w_[1:] += update * xi #this bit is because we differentiate between updating the weight and the bias.\n",
    "                self.w_[0] += update #updating the bias is not dependent on any given weight value. \n",
    "                errors += int(update != 0.0) #if we predicted wrong add 1 to the error count\n",
    "            self.errors_.append(errors)\n",
    "        return self\n",
    "    \n",
    "    def net_input(self, X):\n",
    "        return np.dot(X, self.w_[1:]) + self.w_[0] #we have w0 as a bias so we take w1 --- wn and just add w0 at the end\n",
    "    \n",
    "    def predict(self, X):\n",
    "        return np.where(self.net_input(X) >= 0.0, 1, -1) #vectorized where"
   ]
  },
  {
   "cell_type": "code",
   "execution_count": null,
   "metadata": {},
   "outputs": [],
   "source": []
  }
 ],
 "metadata": {
  "kernelspec": {
   "display_name": "Python 3",
   "language": "python",
   "name": "python3"
  },
  "language_info": {
   "codemirror_mode": {
    "name": "ipython",
    "version": 3
   },
   "file_extension": ".py",
   "mimetype": "text/x-python",
   "name": "python",
   "nbconvert_exporter": "python",
   "pygments_lexer": "ipython3",
   "version": "3.6.5"
  }
 },
 "nbformat": 4,
 "nbformat_minor": 2
}
