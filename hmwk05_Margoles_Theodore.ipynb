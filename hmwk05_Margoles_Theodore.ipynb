{
 "cells": [
  {
   "cell_type": "markdown",
   "metadata": {},
   "source": [
    "<a id='top'></a>\n",
    "\n",
    "# Homework 5: Confidence intervals and other things\n",
    "***\n",
    "\n",
    "**Name**: **Theodore Margoles**\n",
    "\n",
    "***\n",
    "\n",
    "This assignment is due on Moodle by **5 PM on Friday November 9**. Your solutions to theoretical questions should be done in Markdown/MathJax directly below the associated question.  Your solutions to computational questions should include any specified Python code and results as well as written commentary on your conclusions.  Remember that you are encouraged to discuss the problems with your instructors and classmates, but **you must write all code and solutions on your own**.  \n",
    "\n",
    "**NOTES**: \n",
    "\n",
    "- Do **NOT** load or use any Python packages that are not available in Anaconda 3.6. \n",
    "- Some problems with code may be autograded.  If we provide a function API **do not** change it.  If we do not provide a function API then you're free to structure your code however you like. \n",
    "- Because you can technically evaluate notebook cells is a non-linear order, it's a good idea to do Cell $\\rightarrow$ Run All as a check before submitting your solutions.  That way if we need to run your code you will know that it will work as expected. \n",
    "- Submit only this Jupyter notebook to Moodle.  Do not compress it using tar, rar, zip, etc. \n",
    "- This should go without saying, but... For any question that asks you to calculate something, you **must show all work to receive credit**. Sparse or nonexistent work will receive sparse or nonexistent credit.\n",
    "\n",
    "---\n",
    "**Shortcuts:**  [Problem 1](#p1) | [Problem 2](#p2) | [Problem 3](#p3) | [Problem 4](#p4)\n",
    "\n",
    "---"
   ]
  },
  {
   "cell_type": "code",
   "execution_count": 1,
   "metadata": {
    "scrolled": true
   },
   "outputs": [],
   "source": [
    "import numpy as np\n",
    "import matplotlib.pyplot as plt\n",
    "import pandas as pd\n",
    "from pandas import Series\n",
    "import scipy.stats as stats\n",
    "import datetime\n",
    "from matplotlib import dates\n",
    "%matplotlib inline"
   ]
  },
  {
   "cell_type": "markdown",
   "metadata": {},
   "source": [
    "---\n",
    "\n",
    "<a id='p1'></a>\n",
    "[Back to top](#top)\n",
    "\n",
    "### [30 points] Problem 1 - Sea-level rise, schmee-level rise!\n",
    "\n",
    "You have been contacted by the local government of Key West, Florida, to assess whether there is statistical evidence for sea-level rise in the area. You obtain from the University of Hawaii Sea Level Center's [gigantic repository of sea-level data](https://uhslc.soest.hawaii.edu/data/?rq) the daily mean sea levels file [linked here](https://piazza.com/class_profile/get_resource/jhaqogsdelf76h/jixzm0rl5dp6y4) and below.\n",
    "\n",
    "In this problem, you will:\n",
    "1. practice calculating confidence intervals, \n",
    "1. practice wrangling a real-life data set into a form where you can actually compute these confidence intervals, because life will rarely be so kind as to simply hand you a nicely packaged and cleaned set of data, and\n",
    "1. save Key West from a watery fate?"
   ]
  },
  {
   "cell_type": "code",
   "execution_count": 2,
   "metadata": {},
   "outputs": [],
   "source": [
    "# Local and web paths to the data; pick which works for you.\n",
    "local_path = \"data/sealevel_keywest.csv\"\n",
    "web_path   = \"https://raw.githubusercontent.com/dblarremore/csci3022/master/homework/homework5/data/sealevel_keywest.csv\"\n",
    "file_path  = local_path\n",
    "\n",
    "dfSL = pd.read_csv(file_path, header=None)\n",
    "dfSL.rename(columns={0 : 'Year', 1 : 'Month', 2 : 'Day', 3 : 'SL'}, inplace=True)"
   ]
  },
  {
   "cell_type": "markdown",
   "metadata": {},
   "source": [
    "**Part A:**  Write a function `clean_data` to:\n",
    "1. take in a single argument of a raw sea level data frame (e.g., `dfSL` above),\n",
    "2. compute the fill-value used to replace missing sea level (SL) data (**not** hard-coded!),\n",
    "3. use the Pandas `DataFrame.dropna` method to remove all missing rows of data, \n",
    "4. select only the data point on the second day of each month, and\n",
    "4. return a cleaned Pandas data frame.\n",
    "\n",
    "Use your shiny new function to clean the `dfSL` data frame and save the results in a new data frame.\n",
    "\n",
    "There is a very specific reason to sample only one daily data point per month. We will talk about it later."
   ]
  },
  {
   "cell_type": "code",
   "execution_count": 28,
   "metadata": {},
   "outputs": [
    {
     "data": {
      "text/html": [
       "<div>\n",
       "<style scoped>\n",
       "    .dataframe tbody tr th:only-of-type {\n",
       "        vertical-align: middle;\n",
       "    }\n",
       "\n",
       "    .dataframe tbody tr th {\n",
       "        vertical-align: top;\n",
       "    }\n",
       "\n",
       "    .dataframe thead th {\n",
       "        text-align: right;\n",
       "    }\n",
       "</style>\n",
       "<table border=\"1\" class=\"dataframe\">\n",
       "  <thead>\n",
       "    <tr style=\"text-align: right;\">\n",
       "      <th></th>\n",
       "      <th>Year</th>\n",
       "      <th>Month</th>\n",
       "      <th>Day</th>\n",
       "      <th>SL</th>\n",
       "    </tr>\n",
       "  </thead>\n",
       "  <tbody>\n",
       "    <tr>\n",
       "      <th>0</th>\n",
       "      <td>1913</td>\n",
       "      <td>1</td>\n",
       "      <td>20</td>\n",
       "      <td>1453</td>\n",
       "    </tr>\n",
       "    <tr>\n",
       "      <th>1</th>\n",
       "      <td>1913</td>\n",
       "      <td>1</td>\n",
       "      <td>21</td>\n",
       "      <td>1439</td>\n",
       "    </tr>\n",
       "    <tr>\n",
       "      <th>2</th>\n",
       "      <td>1913</td>\n",
       "      <td>1</td>\n",
       "      <td>22</td>\n",
       "      <td>1444</td>\n",
       "    </tr>\n",
       "    <tr>\n",
       "      <th>3</th>\n",
       "      <td>1913</td>\n",
       "      <td>1</td>\n",
       "      <td>23</td>\n",
       "      <td>1489</td>\n",
       "    </tr>\n",
       "    <tr>\n",
       "      <th>4</th>\n",
       "      <td>1913</td>\n",
       "      <td>1</td>\n",
       "      <td>24</td>\n",
       "      <td>1474</td>\n",
       "    </tr>\n",
       "  </tbody>\n",
       "</table>\n",
       "</div>"
      ],
      "text/plain": [
       "   Year  Month  Day    SL\n",
       "0  1913      1   20  1453\n",
       "1  1913      1   21  1439\n",
       "2  1913      1   22  1444\n",
       "3  1913      1   23  1489\n",
       "4  1913      1   24  1474"
      ]
     },
     "execution_count": 28,
     "metadata": {},
     "output_type": "execute_result"
    }
   ],
   "source": [
    "def clean_data(df): #clean the data\n",
    "    meanSeaLevel = sum(df[\"SL\"]) / len(df[\"SL\"]) #calculate whatever the mean sea level is\n",
    "    for index, sl in enumerate(iter(df[\"SL\"])): \n",
    "        if sl == -32767:\n",
    "            df[\"SL\"][index] = meanSeaLevel\n",
    "    df = df.dropna()\n",
    "    \n",
    "    dfClean = df\n",
    "    \n",
    "    return dfClean\n",
    "\n",
    "dfClean = clean_data(dfSL)\n",
    "dfClean.head()"
   ]
  },
  {
   "cell_type": "markdown",
   "metadata": {},
   "source": [
    "**Part B:**  Plot the cleaned time series of sea levels. Be sure to label your axes, including units. The UHSLC data portal includes a link to the metadata accompanying our data set; if you are not sure about units, that would be a good place to start looking. For the $x$-axis, place the $x$ tick marks on January 2 of each year that is divisible by 10 (i.e., 1920, 1930, ...), and label with that year. You may need to do additional processing in order to grab these indices. \n",
    "\n",
    "**Bonus challenge (0 points):**  Why do we choose to work with the second day of each month instead of the first?  You may need to look at the original data set to answer this."
   ]
  },
  {
   "cell_type": "code",
   "execution_count": 29,
   "metadata": {},
   "outputs": [
    {
     "data": {
      "image/png": "[encoded data removed]",
      "text/plain": [
       "<Figure size 576x288 with 1 Axes>"
      ]
     },
     "metadata": {},
     "output_type": "display_data"
    }
   ],
   "source": [
    "arrayOfTimes = [ (str(dfClean['Year'][i]) + ' ' +  str(dfClean['Month'][i]) + ' ' + str(dfClean['Day'][i])).split(' ') for i in range(len(dfClean['Day']))]\n",
    "dateTimeList = [i for i in range(len(arrayOfTimes))]\n",
    "for index, timeList in enumerate(iter(arrayOfTimes)):\n",
    "    dateTimeList[index] = datetime.date(int(timeList[0]), int(timeList[1]), int(timeList[2])) #does anyone else like the way I coded this? :)\n",
    "dateList = dates.date2num(dateTimeList)\n",
    "fig, ax = plt.subplots(figsize=(8,4))\n",
    "ax.xaxis_date()\n",
    "ax.plot_date(dateList, np.array(dfClean['SL']), color='purple')\n",
    "plt.xlabel('date', fontsize=18)\n",
    "plt.ylabel('sea level', fontsize=18)\n",
    "isXTickArray = [i for i in range(len(arrayOfTimes))] #boolean array for, for a given date, are we january 2nd or not...\n",
    "for index, timeList in enumerate(iter(arrayOfTimes)):    \n",
    "    if int(timeList[1]) == 1 and int(timeList[2]) == 2:\n",
    "          isXTickArray[index] = 1\n",
    "    else:\n",
    "          isXTickArray[index] = 0\n",
    "\n",
    "\n",
    "#plt.plot_date(locs, lables)\n",
    "plt.show()\n",
    "\n"
   ]
  },
  {
   "cell_type": "markdown",
   "metadata": {},
   "source": [
    "**Part C:** Use your cleaned sea levels data frame to create two new Pandas data frames or series:\n",
    "1. one object to contain the sea levels between (and including) the years 1986 and 1995, and\n",
    "2. another object to contain the sea levels between (and including) the years 2006 and 2015.\n",
    "\n",
    "Then, create a single-panel figure that includes density histograms of each decade of sea levels. Be sure to label everything appropriately.\n",
    "\n",
    "Finally, based on the data in front of you, formulate and state a hypothesis about how the mean sea level in the decade 2006-2015 compares to the mean sea level in the decade 1986-1995."
   ]
  },
  {
   "cell_type": "code",
   "execution_count": 41,
   "metadata": {},
   "outputs": [
    {
     "name": "stdout",
     "output_type": "stream",
     "text": [
      "       Year  Month  Day    SL\n",
      "26644  1986      1    1  1608\n",
      "26645  1986      1    2  1592\n",
      "26646  1986      1    3  1600\n",
      "26647  1986      1    4  1630\n",
      "26648  1986      1    5  1585\n",
      "       Year  Month  Day    SL\n",
      "33949  2006      1    1  1561\n",
      "33950  2006      1    2  1564\n",
      "33951  2006      1    3  1556\n",
      "33952  2006      1    4  1568\n",
      "33953  2006      1    5  1602\n"
     ]
    }
   ],
   "source": [
    "def inBounds(lo, hi, yearString):\n",
    "    val = int(yearString)\n",
    "    if val >= lo and val <= hi:\n",
    "        return True\n",
    "    else:\n",
    "        return False\n",
    "\n",
    "indexrange1 = []\n",
    "for index, dataItem in enumerate(iter(dfClean.values)):\n",
    "    if dataItem[0] >= 1986 and dataItem[0] <= 1995:\n",
    "        indexrange1.append(index)\n",
    "minVal1 = min(indexrange1)\n",
    "maxVal1 = max(indexrange1) #find the min and max index of the dataframe we want to keep...\n",
    "\n",
    "indexrange2 = []\n",
    "for index, dataItem in enumerate(iter(dfClean.values)):\n",
    "    if dataItem[0] >= 2006 and dataItem[0] <=2015:\n",
    "        indexrange2.append(index)\n",
    "minVal2 = min(indexrange2) #thanks built in min functions\n",
    "maxVal2 = max(indexrange2)\n",
    "\n",
    "#my name formate is df<last 2 digits of the min year adjoined with last 2 digits of the max year>    \n",
    "df8695 = dfClean[['Year', 'Month', 'Day', 'SL']][minVal1:maxVal1 + 1] #array[start:end-1]\n",
    "df0615 = dfClean[['Year', 'Month', 'Day', 'SL']][minVal2:maxVal2 + 1] #same process for other dataframe we want\n",
    "print(df8695.head())\n",
    "print(df0615.head())"
   ]
  },
  {
   "cell_type": "markdown",
   "metadata": {},
   "source": []
  },
  {
   "cell_type": "markdown",
   "metadata": {},
   "source": [
    "**Part D:** Compute a 99.9% confidence interval for each of (1) the mean sea level in the 1986-1995 decade ($\\mu_{1986-1995}$) and (2) the mean sea level in the 2006-2015 decade ($\\mu_{2006-2015}$).  You may use Python for arithmetic operations and executing the calculations, but the relevant steps/set-up should be displayed in Markdown/MathJax.\n",
    "\n",
    "Based on these two confidence intervals, do you think there is sufficient evidence to conclude that there is or is not a significant difference in the mean sea level between 1986-1995 and 2006-2015? Justify your answer. "
   ]
  },
  {
   "cell_type": "code",
   "execution_count": 61,
   "metadata": {},
   "outputs": [],
   "source": [
    "\n",
    "\n",
    "Za = stats.norm.ppf(1-(0.001/2))\n",
    "\n",
    "\n",
    "meanValue1 = sum(df8695['SL'])/len(df8695['SL'])\n",
    "\n",
    "upper = meanValue1 + (Za * np.std(df8695['SL'])/np.sqrt(len(df8695['SL'])))\n",
    "lower = meanValue1 - (Za * np.std(df8695['SL'])/np.sqrt(len(df8695['SL'])))\n",
    "\n",
    "\n",
    "meanValue2 = sum(df0615['SL'])/len(df0615['SL'])\n",
    "\n",
    "upper2 = meanValue2 + (Za * np.std(df0615['SL'])/np.sqrt(len(df0615['SL'])))\n",
    "lower2 = meanValue2 - (Za * np.std(df0615['SL'])/np.sqrt(len(df0615['SL'])))"
   ]
  },
  {
   "cell_type": "markdown",
   "metadata": {},
   "source": [
    "for years $[1986, 1995]$ we are $99.9%$ conf the mean in sea levels is in range $[ 1653.0528008614085 1666.3957204967512 ]$\n",
    "for years $[2006, 2015]$ we are $99.9%$ conf the mean in sea levels is in range $[ 1711.6095682654563 1726.0612970138427 ]$\n",
    "Therefore, based on the data, \n",
    " to say that we are $99.9%$ confident that the sea level has changed is non-controversal \n",
    " because the upper bound of the CI for the first interval is $1666 $\n",
    " and the lower bound of the second interval is $1711$. \n",
    " Therefore the sea level must have risen on average by:  $45$ \n",
    " at least in these time ranges"
   ]
  },
  {
   "cell_type": "markdown",
   "metadata": {},
   "source": [
    "**Part E:**  Compute a 99.9% confidence interval for the ***difference in mean sea level*** between the 2006-2015 and the 1986-1995 decades ($\\mu_{2006-2015} - \\mu_{1986-1995}$. Based on this, make a conclusion regarding your hypothesis from **Part C**, and compare to what your results in **Part D** implied. You may use Python for arithmetic operations and executing the calculations, but the relevant steps/set-up should be displayed in Markdown/MathJax."
   ]
  },
  {
   "cell_type": "markdown",
   "metadata": {},
   "source": [
    "For a confidence interval of the difference in mean sea level... \n",
    "the expected value is:\n",
    "\n",
    "[sample mean 2] - [sample mean 1] = $\\mu_2 - \\mu_1 $\n",
    "\n",
    "and then the standard deviation is $\\sqrt{Var(X) + Var(Y)}$\n",
    "\n",
    "==$\\sigma$ =  $\\sqrt{\\frac{\\sigma_1^2}{m} + \\frac{\\sigma_2^2}{n}}$ = 2.0364\n",
    "\n",
    "the expected value $\\mu_2 - \\mu_1 $ expected value is  59.1112\n",
    "\n",
    "so we can comptue the confidence interval as 59.1112 $+$ or $-$ $Z_{\\frac{0.001}{2}} x 2.0364$\n",
    "\n",
    "\n",
    "therefore the 99.9% CI for difference in mean sea levels is: $[ 52.410289454058905,$  $65.81205446708043 ]$ as verified by my python calculations below as well (below)\n",
    "\n",
    "\n",
    "\n"
   ]
  },
  {
   "cell_type": "code",
   "execution_count": 70,
   "metadata": {},
   "outputs": [
    {
     "name": "stdout",
     "output_type": "stream",
     "text": [
      "mu2-mu1 59.11117196056966\n",
      "stDev for CI:  2.0364163713912693\n",
      "99.9% conf the difference of mean sea levels in \n",
      " between periods [1986-1995] and [2006, 2015 is [ 52.410289454058905 65.81205446708043 ]\n"
     ]
    }
   ],
   "source": [
    "print(\"mu2-mu1\", meanValue2-meanValue1)\n",
    "expMu = meanValue2 - meanValue1\n",
    "expSig = np.sqrt(( (np.std(df8695['SL'])**2)/len(df8695['SL']) )+( (np.std(df0615['SL']))/len(df0615['SL']) ))\n",
    "print(\"stDev for CI: \", np.sqrt(( (np.std(df8695['SL'])**2)/len(df8695['SL']) )+( (np.std(df0615['SL']))/len(df0615['SL']) )))\n",
    "\n",
    "lo = expMu - stats.norm.ppf(1-(0.001/2))*expSig\n",
    "hi = expMu + stats.norm.ppf(1-(0.001/2))*expSig\n",
    "\n",
    "print(\"99.9% conf the difference of mean sea levels in \\n between periods [1986-1995] and [2006, 2015 is [\", lo, hi, ']')\n",
    "\n"
   ]
  },
  {
   "cell_type": "markdown",
   "metadata": {},
   "source": [
    "**Part F:**  The confidence intervals from **Parts D** and **E** were derived using the Central Limit Theorem.  Which assumption of the Central Limit Theorem would likely be violated if we took more than one measurement per month to form our samples, and why?"
   ]
  },
  {
   "cell_type": "markdown",
   "metadata": {},
   "source": [
    "if we take more than one measuremeant per month to form our samples,\n",
    "then likely the distribution would not be that closeto as bell shaped as it actually is;\n",
    "the distribution will look like the normal multiplied by some constant"
   ]
  },
  {
   "cell_type": "markdown",
   "metadata": {},
   "source": [
    "---\n",
    "\n",
    "<a id='p2'></a>\n",
    "[Back to top](#top)\n",
    "\n",
    "### [25 points] Problem 2 - Quality of Red vs White Wine \n",
    "\n",
    "**Part A:** Load the data in [`winequalityred.csv`](https://piazza.com/class_profile/get_resource/jhaqogsdelf76h/jixzm1ebc6q6ye) and [`winequalitywhite.csv`](https://piazza.com/class_profile/get_resource/jhaqogsdelf76h/jixzm17x9pu6y9) into Pandas DataFrames.  They are available under Resources on Piazza, and linked here and below.  A description of this dataset can be found on [UC Irvine's Machine Learning Repository](https://archive.ics.uci.edu/ml/datasets/Wine+Quality). The quantity of interest for this problem is the quality of the wine.\n",
    "\n",
    "Are we justified in using the Central Limit Theorem in our analysis of estimates of the mean and proportions of the data?  Justify your response. "
   ]
  },
  {
   "cell_type": "code",
   "execution_count": 73,
   "metadata": {},
   "outputs": [
    {
     "data": {
      "text/html": [
       "<div>\n",
       "<style scoped>\n",
       "    .dataframe tbody tr th:only-of-type {\n",
       "        vertical-align: middle;\n",
       "    }\n",
       "\n",
       "    .dataframe tbody tr th {\n",
       "        vertical-align: top;\n",
       "    }\n",
       "\n",
       "    .dataframe thead th {\n",
       "        text-align: right;\n",
       "    }\n",
       "</style>\n",
       "<table border=\"1\" class=\"dataframe\">\n",
       "  <thead>\n",
       "    <tr style=\"text-align: right;\">\n",
       "      <th></th>\n",
       "      <th>fixed acidity</th>\n",
       "      <th>volatile acidity</th>\n",
       "      <th>citric acid</th>\n",
       "      <th>residual sugar</th>\n",
       "      <th>chlorides</th>\n",
       "      <th>free sulfur dioxide</th>\n",
       "      <th>total sulfur dioxide</th>\n",
       "      <th>density</th>\n",
       "      <th>pH</th>\n",
       "      <th>sulphates</th>\n",
       "      <th>alcohol</th>\n",
       "      <th>quality</th>\n",
       "    </tr>\n",
       "  </thead>\n",
       "  <tbody>\n",
       "    <tr>\n",
       "      <th>0</th>\n",
       "      <td>7.0</td>\n",
       "      <td>0.27</td>\n",
       "      <td>0.36</td>\n",
       "      <td>20.7</td>\n",
       "      <td>0.045</td>\n",
       "      <td>45.0</td>\n",
       "      <td>170.0</td>\n",
       "      <td>1.0010</td>\n",
       "      <td>3.00</td>\n",
       "      <td>0.45</td>\n",
       "      <td>8.8</td>\n",
       "      <td>6</td>\n",
       "    </tr>\n",
       "    <tr>\n",
       "      <th>1</th>\n",
       "      <td>6.3</td>\n",
       "      <td>0.30</td>\n",
       "      <td>0.34</td>\n",
       "      <td>1.6</td>\n",
       "      <td>0.049</td>\n",
       "      <td>14.0</td>\n",
       "      <td>132.0</td>\n",
       "      <td>0.9940</td>\n",
       "      <td>3.30</td>\n",
       "      <td>0.49</td>\n",
       "      <td>9.5</td>\n",
       "      <td>6</td>\n",
       "    </tr>\n",
       "    <tr>\n",
       "      <th>2</th>\n",
       "      <td>8.1</td>\n",
       "      <td>0.28</td>\n",
       "      <td>0.40</td>\n",
       "      <td>6.9</td>\n",
       "      <td>0.050</td>\n",
       "      <td>30.0</td>\n",
       "      <td>97.0</td>\n",
       "      <td>0.9951</td>\n",
       "      <td>3.26</td>\n",
       "      <td>0.44</td>\n",
       "      <td>10.1</td>\n",
       "      <td>6</td>\n",
       "    </tr>\n",
       "    <tr>\n",
       "      <th>3</th>\n",
       "      <td>7.2</td>\n",
       "      <td>0.23</td>\n",
       "      <td>0.32</td>\n",
       "      <td>8.5</td>\n",
       "      <td>0.058</td>\n",
       "      <td>47.0</td>\n",
       "      <td>186.0</td>\n",
       "      <td>0.9956</td>\n",
       "      <td>3.19</td>\n",
       "      <td>0.40</td>\n",
       "      <td>9.9</td>\n",
       "      <td>6</td>\n",
       "    </tr>\n",
       "    <tr>\n",
       "      <th>4</th>\n",
       "      <td>7.2</td>\n",
       "      <td>0.23</td>\n",
       "      <td>0.32</td>\n",
       "      <td>8.5</td>\n",
       "      <td>0.058</td>\n",
       "      <td>47.0</td>\n",
       "      <td>186.0</td>\n",
       "      <td>0.9956</td>\n",
       "      <td>3.19</td>\n",
       "      <td>0.40</td>\n",
       "      <td>9.9</td>\n",
       "      <td>6</td>\n",
       "    </tr>\n",
       "  </tbody>\n",
       "</table>\n",
       "</div>"
      ],
      "text/plain": [
       "   fixed acidity  volatile acidity  citric acid  residual sugar  chlorides  \\\n",
       "0            7.0              0.27         0.36            20.7      0.045   \n",
       "1            6.3              0.30         0.34             1.6      0.049   \n",
       "2            8.1              0.28         0.40             6.9      0.050   \n",
       "3            7.2              0.23         0.32             8.5      0.058   \n",
       "4            7.2              0.23         0.32             8.5      0.058   \n",
       "\n",
       "   free sulfur dioxide  total sulfur dioxide  density    pH  sulphates  \\\n",
       "0                 45.0                 170.0   1.0010  3.00       0.45   \n",
       "1                 14.0                 132.0   0.9940  3.30       0.49   \n",
       "2                 30.0                  97.0   0.9951  3.26       0.44   \n",
       "3                 47.0                 186.0   0.9956  3.19       0.40   \n",
       "4                 47.0                 186.0   0.9956  3.19       0.40   \n",
       "\n",
       "   alcohol  quality  \n",
       "0      8.8        6  \n",
       "1      9.5        6  \n",
       "2     10.1        6  \n",
       "3      9.9        6  \n",
       "4      9.9        6  "
      ]
     },
     "execution_count": 73,
     "metadata": {},
     "output_type": "execute_result"
    }
   ],
   "source": [
    "# read either local or web file version; pick whichever works for you\n",
    "local_file_white = \"data/winequality-white.csv\"\n",
    "local_file_red   = \"data/winequality-red.csv\"\n",
    "web_file_white = \"https://raw.githubusercontent.com/dblarremore/csci3022/master/homework/homework5/data/winequality-white.csv\"\n",
    "web_file_red   = \"https://raw.githubusercontent.com/dblarremore/csci3022/master/homework/homework5/data/winequality-red.csv\"\n",
    "\n",
    "dfRed   = pd.read_csv(local_file_red, delimiter=';')\n",
    "dfWhite = pd.read_csv(local_file_white, delimiter=';')\n",
    "\n",
    "dfWhite.head()"
   ]
  },
  {
   "cell_type": "code",
   "execution_count": 78,
   "metadata": {},
   "outputs": [
    {
     "name": "stdout",
     "output_type": "stream",
     "text": [
      "4898 and 1599  is bigger than 30, by a factor of  163.26666666666668  and  53.3 so the sample size should be big enough to apply the central limit theorem. \n"
     ]
    }
   ],
   "source": [
    "print(len(dfWhite), 'and', len(dfRed), \" is bigger than 30, by a factor of \", int(len(dfWhite))/30, ' and ', int(len(dfRed))/30,  \"so the sample size should be big enough to apply the central limit theorem. \")\n"
   ]
  },
  {
   "cell_type": "markdown",
   "metadata": {},
   "source": [
    "**Part B:** Let $X$ be a random variable denoting the quality of a bottle of wine, and let $C$ be a random variable denoting its color (either red ($r$) or white ($w$)). For the remainder of this problem, we are concerned with probabilities such as \"If I buy a random bottle of red wine, what is the probability that its quality is at least a 7?\". We could write that probability as $P(X \\geq 7 \\mid C=r)$, for example, and consider it the ***proportion*** of the population of red wines that are at least a 7 in quality. Calculate and report estimates of $P(X \\geq 7 \\mid C=r)$ and $P(X \\geq 7 \\mid C=w)$.\n",
    "\n",
    "Obtain 95% confidence intervals for the proportion of red and white wines that are **at least** a 7 in quality (obtain one CI for each color).  Based on your results, if you are interested in buying many high quality bottles of wine but are buying totally at random, is one color a better bet than the other? Fully justify your answer.\n",
    "\n",
    "Calculations may be executed in Python, but you need to set up your work (*what* it is you are calculating) in Markdown/MathJax."
   ]
  },
  {
   "cell_type": "markdown",
   "metadata": {},
   "source": [
    "$P(X \\ge 7 \\mid C = r )$ = the proportion of red wines that are greater than 7 in quality.\n",
    "\n",
    "so we can just sum up the number of red wines with quality greater than or equal to 7, \n",
    "\n",
    "and the number of red wines with quality less than 7 and then calulate $\\frac{numGreater7}{TotalRedWines}$, this gets us our estimate of our proportion and also its expected value that it will take on, now we have to calculate $Z_a$ = $Z_{0.05/2}$ = 1.96\n",
    "\n",
    "then we will calculate the 2 conf intervals:\n",
    "# CI red:\n",
    " - for the first CI (red, quality > 7) we have:\n",
    " - estimate: 0.1357098\n",
    " - $Z_a$ = 1.96\n",
    " - sample std (red) = 0.34248\n",
    " - SO: Therefore the lower bound for our CI should be: $0.1357 - \\frac{(1.96)(0.34248^2)}{1599}$ = 0.1355562\n",
    " - and the upper bound for our CI should be: $0.1357 + \\frac{(1.96)(0.34248^2)}{1599}$ = 0.1358437\n",
    " - 95% CI for red proportion wines > 7 [0.1355562, 0.1358437]\n",
    " \n",
    "\n",
    "# CI white:\n",
    "- estimate: 0.2164\n",
    "- $Z_a$ = 1.96\n",
    "- sample std (white) = 0.4118\n",
    "- Lower bound: $0.2164 - 1.96\\frac{0.4118^2}{4898}$ = 0.2163\n",
    "- Upper bound: $0.2164 + 1.96\\frac{0.4418^2}{4898}$ = 0.2164\n",
    "- 95% CI for white proportion wines > 7  [.2163, .2164]\n",
    " \n",
    " \n",
    " \n",
    " # Conclusion(s):\n",
    " - if I want to buy a lot of high quality bottles it would be better to buy random white bottles than random red bottles because the lower bound of the white CI is greater than the upper bound of the red CI. "
   ]
  },
  {
   "cell_type": "code",
   "execution_count": 118,
   "metadata": {},
   "outputs": [
    {
     "name": "stdout",
     "output_type": "stream",
     "text": [
      "estimate for P(X >= 7 | C = R):  0.1357098186366479\n",
      "estimage for P(X >= 7 | C = W):  0.21641486320947326\n",
      "stdev red:  0.34248016550196897\n",
      "CI for proportion of red wine greater than 7 in quality: [ 0.13556604790705143 0.1358535893662444 ]\n",
      "len phat:  1599\n",
      "stdev white:  0.41180027949419634\n",
      "CI for prop of white wine greater than 7 in quality: [ 0.21634700497058132 0.2164827214483652 ]\n",
      "len phat2:  4898\n"
     ]
    }
   ],
   "source": [
    "phat = [0 for i in range(len(dfRed['quality']))]\n",
    "for index, dataItem in enumerate(iter(dfRed['quality'].values)):\n",
    "    if dataItem >= 7:\n",
    "        phat[index] = 1\n",
    "print(\"estimate for P(X >= 7 | C = R): \", sum(phat)/len(phat)) #prop greater than 7 given red\n",
    "\n",
    "phat2 = [0 for i in range(len(dfWhite['quality']))]\n",
    "for index, datum in enumerate(iter(dfWhite['quality'].values)):\n",
    "    if datum >= 7:\n",
    "        phat2[index] = 1\n",
    "print(\"estimage for P(X >= 7 | C = W): \", sum(phat2)/len(phat2)) #prop greater than 7 given whit\n",
    "Za = stats.norm.ppf(1-(0.05/2))\n",
    "#we will use the estimated proportions as the expected value of the proportion \n",
    "e = sum(phat)/len(phat)\n",
    "lo = e - (Za*(np.std(phat)**2)/(len(phat)))\n",
    "hi = e + (Za*(np.std(phat)**2)/(len(phat)))\n",
    "print(\"stdev red: \", np.std(phat))\n",
    "print(\"CI for proportion of red wine greater than 7 in quality: [\", lo, hi, ']')\n",
    "print(\"len phat: \", len(phat))\n",
    "e2 = sum(phat2)/len(phat2)\n",
    "lo2 = e2 - (Za*(np.std(phat2)**2)/(len(phat2)))\n",
    "hi2 = e2 + (Za*(np.std(phat2)**2)/(len(phat2)))\n",
    "print(\"stdev white: \", np.std(phat2))\n",
    "\n",
    "print(\"CI for prop of white wine greater than 7 in quality: [\", lo2, hi2, ']')\n",
    "print(\"len phat2: \", len(phat2))\n"
   ]
  },
  {
   "cell_type": "markdown",
   "metadata": {},
   "source": [
    "**Part C:** Now, as college students (and teachers), we might not be super concerned with buying a really high quality bottle of wine.  Let's focus instead on making sure we do *not* buy a really disgusting bottle of wine.  Calculate and report estimates of $P(X \\geq 5 \\mid C=r)$ and $P(X \\geq 5 \\mid C=w)$.\n",
    "\n",
    "Obtain 95% confidence intervals for the proportion of red and white wines that are **at least** a 5 in quality, that is, $P(X \\geq 5 \\mid C)$.  Based on your results - and what you saw in Problem 1 - if you are interested in buying bottles of wine that are at least a 5 in quality, but are again buying wine totally randomly, can you conclude that you are better off buying one color over the other? Fully justify your answer."
   ]
  },
  {
   "cell_type": "code",
   "execution_count": 126,
   "metadata": {},
   "outputs": [
    {
     "name": "stdout",
     "output_type": "stream",
     "text": [
      "estimate for P(X >= 5 | C = R):  0.9606003752345216\n",
      "estimage for P(X >= 5 | C = W):  0.9626378113515721\n",
      "95% CI for reds proportion of wines greater than 5 in quality : [ 0.9603619100254943 0.9608388404435488 ]\n",
      "95% CI for whites proportion of wines greater than 5 in quality : [ 0.96256192129035 0.9627137014127942 ]\n"
     ]
    }
   ],
   "source": [
    "phat3 = [0 for i in range(len(dfRed['quality']))]\n",
    "for index, dataItem in enumerate(iter(dfRed['quality'].values)):\n",
    "    if dataItem >= 5:\n",
    "        phat3[index] = 1\n",
    "print(\"estimate for P(X >= 5 | C = R): \", sum(phat3)/len(phat3))\n",
    "prop1 = sum(phat3)/len(phat3)\n",
    "\n",
    "phat4 = [0 for i in range(len(dfWhite['quality']))]\n",
    "for index, datum in enumerate(iter(dfWhite['quality'].values)):\n",
    "    if datum >= 5:\n",
    "        phat4[index] = 1\n",
    "print(\"estimage for P(X >= 5 | C = W): \", sum(phat4)/len(phat4))\n",
    "prop2 = sum(phat4)/len(phat4)\n",
    "\n",
    "\n",
    "lowerOne = prop1 - (1.96*(np.std(phat3))/len(phat3))\n",
    "upperOne = prop1 + (1.96*(np.std(phat3))/len(phat3))\n",
    "\n",
    "\n",
    "lowerTwo = prop2 - (1.96*(np.std(phat4))/len(phat4))\n",
    "upperTwo = prop2 + (1.96*(np.std(phat4))/len(phat4))\n",
    "\n",
    "print(\"95% CI for reds proportion of wines greater than 5 in quality : [\", lowerOne, upperOne, ']')\n",
    "print(\"95% CI for whites proportion of wines greater than 5 in quality : [\", lowerTwo, upperTwo, ']')\n",
    "\n"
   ]
  },
  {
   "cell_type": "markdown",
   "metadata": {},
   "source": [
    "To calculate this CI (as I have done above with python)\n",
    "we simply calculate the sample proportion, $\\hat{p}$ for both red and white. \n",
    "\n",
    "then we calculate the standard deviation of both proportion arrays, (the standard deviation in proportion)\n",
    "and we multiply that times the value $Z_a$ == $1.96$ then multiplied by $\\frac{1}{n}$"
   ]
  },
  {
   "cell_type": "markdown",
   "metadata": {},
   "source": [
    "**Part D:** Compute a 95% confidence interval for the difference in proportions of red and white wines that are at least a 5 in quality.\n",
    "\n",
    "the difference of red wines >= 5 to num of white wines >=5 we get the value\n",
    "\n",
    "$0.002038$ \n",
    "\n",
    "and what we want to obtain is a $95%$ CI for this value, that is,\n",
    "\n",
    "are we $95%$ confident that we can reject the idea\n",
    "\n",
    "\n",
    "that $p_1 - p_2$ is 0, that is, can we reject the idea that there is no difference in red and white on average for having proportion of quality greater than 5. \n",
    "\n",
    "$H_0:$ $p_2 - p_1$ == $0$, \n",
    "\n",
    "$H_1:$ $p_2 - p_1$  $\\ne$ $0$\n",
    "\n",
    "\n",
    "to calculate the $95%$ CI we calculate:\n",
    "\n",
    "$\\mu_1 - \\mu_2$ $+-$ $1.96\\sqrt{\\frac{\\sigma_1^2}{m} + \\frac{\\sigma_2^2}{n}}$\n",
    "\n",
    "$\\mu_1 - \\mu_2$ = $0.00204$\n",
    "\n",
    "\n",
    "$Z_a$ = $1.96$\n",
    "\n",
    "\n",
    "$\\sqrt{\\frac{\\sigma_1^2}{m} + \\frac{\\sigma_2^2}{n}}$ = $0.00557$\n",
    "\n",
    "\n",
    "so we have: lower  =  $0.00204$ - $1.96(0.00557)$ = 0.01295\n",
    "            upper = 0.00204$ + $1.96(0.00557)$ = -0.0088768\n",
    "            \n",
    " so the $95%$ CI for difference in proportions is: $[-0.0088768, 0.01295]$ so we cannot reject the null hypothesis,\n",
    " at the 95 CI level we cannot conclude the proportion of red wines - white wines > 7 is not 0.\n",
    " \n",
    " the range of this CI is: $0.0185$"
   ]
  },
  {
   "cell_type": "code",
   "execution_count": 125,
   "metadata": {},
   "outputs": [
    {
     "name": "stdout",
     "output_type": "stream",
     "text": [
      "the diff in proportion I have is:  0.0020379999999999843\n",
      "Z alpha:  1.959963984540054\n",
      "Sigma:  0.005568877949036346\n",
      "lower:  -0.008876800214410537\n",
      "upper:  0.012952800214410505\n",
      "sigma for stdev in red prop:  0.19454381083400707\n",
      "sigma for stdev in white prop:  0.18964771421724863\n",
      "sqrt(sigma1^2/m + sigma2^2/n) ==  0.005568877949036346\n"
     ]
    }
   ],
   "source": [
    "print(\"the diff in proportion I have is: \", -1*(0.960600 - 0.962638))\n",
    "diff = -1*(0.960600 - 0.962638)\n",
    "#note I use the sample standard deviation...\n",
    "sigma = np.sqrt( ((np.std(phat3)**2)/len(phat3)) + ((np.std(phat4)**2)/len(phat4)) )\n",
    "Zalpha = stats.norm.ppf(1-(0.05/2))\n",
    "print(\"Z alpha: \", Zalpha)\n",
    "lower = diff - (Zalpha*sigma)\n",
    "upper = diff + (Zalpha*sigma)\n",
    "print(\"Sigma: \", sigma)\n",
    "print(\"lower: \", lower)\n",
    "print(\"upper: \", upper)\n",
    "\n",
    "print(\"sigma for stdev in red prop: \", np.std(phat3))\n",
    "print(\"sigma for stdev in white prop: \", np.std(phat4))\n",
    "print(\"sqrt(sigma1^2/m + sigma2^2/n) == \", np.sqrt( ((np.std(phat3)**2)/len(phat3)) + ((np.std(phat4)**2)/len(phat4)) ))"
   ]
  },
  {
   "cell_type": "markdown",
   "metadata": {},
   "source": [
    "**Part E:**  Now, we have many more observations of white wines than red. This certainly contributes to the width of the 95% confidence interval for the proportion of red wines that are at least a 5 in quality, which you should have found in **Part C** to be wider than the corresponding confidence interval for white wines. \n",
    "\n",
    "How large would our sample size of red wines need to be in order to guarantee that this 95% confidence interval width is at most 0.01? Note that we are hypothetically adding more samples, so we do not know the precise value of $\\hat{p}$."
   ]
  },
  {
   "cell_type": "code",
   "execution_count": 132,
   "metadata": {},
   "outputs": [
    {
     "name": "stdout",
     "output_type": "stream",
     "text": [
      "0.9603619100254943 0.9608388404435488 0.00047693041805452197\n"
     ]
    }
   ],
   "source": [
    "\n",
    "\n",
    "#we are hypothetically adding more samples.... (bootstap?)\n",
    "#we can at least keep our estimation of phat without bootstrapping. \n",
    "val = abs(lowerOne - upperOne)\n",
    "o_size = len(dfRed['quality'])\n",
    "while(val > 0.01):\n",
    "    phat3 = [0 for i in range(len(dfRed['quality']))]\n",
    "    for index, dataItem in enumerate(iter(dfRed['quality'].values)):\n",
    "        if dataItem >= 5:\n",
    "            phat3[index] = 1\n",
    "    print(\"estimate for P(X >= 5 | C = R): \", sum(phat3)/len(phat3))\n",
    "    prop1 = sum(phat3)/len(phat3)\n",
    "\n",
    "    phat4 = [0 for i in range(len(dfWhite['quality']))]\n",
    "    for index, datum in enumerate(iter(dfWhite['quality'].values)):\n",
    "        if datum >= 5:\n",
    "            phat4[index] = 1\n",
    "    print(\"estimage for P(X >= 5 | C = W): \", sum(phat4)/len(phat4))\n",
    "    prop2 = sum(phat4)/len(phat4)\n",
    "\n",
    "\n",
    "    lowerOne = prop1 - (1.96*(np.std(phat3))/o_size)\n",
    "    upperOne = prop1 + (1.96*(np.std(phat3))/o_size)\n",
    "    print(\"95% CI for reds proportion of wines greater than 5 in quality : [\", lowerOne, upperOne, ']')\n",
    "    val = abs(lowerOne - upperOne)\n",
    "    o_size += 1\n",
    "    \n",
    "print(lowerOne, upperOne, upperOne - lowerOne)\n",
    "\n"
   ]
  },
  {
   "cell_type": "markdown",
   "metadata": {},
   "source": []
  },
  {
   "cell_type": "markdown",
   "metadata": {},
   "source": [
    "---\n",
    "\n",
    "<a id='p3'></a>\n",
    "[Back to top](#top)\n",
    "\n",
    "### [30 points] Problem 3 - Exploring Confidence Intervals \n",
    "\n",
    "The [Gumbel](https://en.wikipedia.org/wiki/Gumbel_distribution) distribution is one of several distributions frequently used to model environmental extremes (for example, extreme temperatures and sea levels).  It is also fairly asymmetric, and thus interesting for investigating confidence intervals.  It is implemented in scipy.stats as [gumbel_r](https://docs.scipy.org/doc/scipy/reference/generated/scipy.stats.gumbel_r.html), where the appendix \"\\_r\" denotes the right-skewed version of the Gumbel distribution (as opposed to the left-skewed)."
   ]
  },
  {
   "cell_type": "markdown",
   "metadata": {},
   "source": [
    "**Part A**: Complete the following code cell to plot a histogram of 100 realizations from the Gumbel distribution with parameters $\\mu=8$ and $\\beta=2$.  Be sure to leave this cell executed before turning in your assignment! Make your histogram grey with gold edges."
   ]
  },
  {
   "cell_type": "code",
   "execution_count": null,
   "metadata": {},
   "outputs": [],
   "source": [
    "mu = 8\n",
    "beta = 2\n",
    "n_sample = 100\n",
    "# your code here"
   ]
  },
  {
   "cell_type": "markdown",
   "metadata": {},
   "source": [
    "**Part B:** Look up the analytical mean and variance of the Gumbel distribution with parameters $\\mu=8$ and $\\beta=2$ and calculate them here by hand.  Note that the Euler–Mascheroni constant can be accessed via `np.euler_gamma`. \n",
    "\n",
    "Use the empirical mean from your sample in **Part A**, and the true variance of the Gumbel distribution to compute by hand a 95% confidence interval for the mean."
   ]
  },
  {
   "cell_type": "markdown",
   "metadata": {},
   "source": []
  },
  {
   "cell_type": "code",
   "execution_count": null,
   "metadata": {},
   "outputs": [],
   "source": []
  },
  {
   "cell_type": "markdown",
   "metadata": {},
   "source": [
    "**Part C:  A theoretical interlude.** When Stella O'Flaherty (the famous octopus) ran her solution code for **Part B**, she obtained a 95% confidence interval of $[8.81, 9.82]$ for the mean of the $Gum(\\mu=8, \\beta=2)$ distribution. For each of the following, explain why or why not the situation described is correct, given the technical definition of a 95% confidence interval we went over in class.\n",
    "\n",
    "**(i)** If you had no other evidence regarding true mean of the $Gum(\\mu=8, \\beta=2)$ distribution, you could say there is a 95% chance that its true mean falls between 8.81 and 9.82.\n",
    "\n",
    "**(ii)** If a class of 100 students all construct 95% confidence intervals for the mean of the $Gum(\\mu=8, \\beta=2)$ distribution, then we expect about 95 of their CIs to contain the true mean, and about 5 of them to miss the true mean.\n",
    "\n",
    "**(iii)** There is a 95% probability that any given random variable sampled from $Gum(\\mu=8, \\beta=2)$ will be between 8.81 and 9.82."
   ]
  },
  {
   "cell_type": "markdown",
   "metadata": {},
   "source": []
  },
  {
   "cell_type": "markdown",
   "metadata": {},
   "source": [
    "**Part D:** In this part you'll write a function to investigate the _coverage properties_ of a confidence interval for the mean of the Gumbel distribution. Complete the following function to randomly sample $m=500$ sample means with sample size $n=100$ for the Gumbel distribution with parameters $\\mu=8$ and $\\beta=2$.  For each random sample, compute the 66% confidence interval for the mean. Note that you actually know that the variance for the true population distribution is, $\\sigma^2$.  Your function should do two things: \n",
    "\n",
    "1. Report the proportion of confidence intervals that successfully cover the true mean of the distribution \n",
    "2. Make a plot of 50 randomly selected confidence intervals. Overlay the intervals on the line $y=\\textrm{True mean}$ (from **Part B**). Color confidence intervals black if they cover the true mean, and red if they don't.  \n",
    "\n",
    "Be sure to leave this cell executed before turning in your assignment!"
   ]
  },
  {
   "cell_type": "code",
   "execution_count": null,
   "metadata": {
    "scrolled": false
   },
   "outputs": [],
   "source": [
    "def confidence_intervals(m=500, n=100):\n",
    "    mu = 8\n",
    "    beta = 2\n",
    "    # Your code here\n",
    "    proportion_CIs_covering_mean = 0\n",
    "    print(\"proportion covering mean: {:.3f}\".format(proportion_CIs_covering_mean))\n",
    "    \n",
    "    \n",
    "confidence_intervals()"
   ]
  },
  {
   "cell_type": "markdown",
   "metadata": {},
   "source": [
    "**Part E:** Does the proportion of confidence intervals that cover the true mean of the distribution agree with the theory described in class?  Justify your conclusion. "
   ]
  },
  {
   "cell_type": "markdown",
   "metadata": {},
   "source": []
  },
  {
   "cell_type": "markdown",
   "metadata": {
    "collapsed": true
   },
   "source": [
    "---\n",
    "\n",
    "<a id='p4'></a>\n",
    "[Back to top](#top)\n",
    "\n",
    "### [15 points] Problem 4 - Freethrows\n",
    "***\n",
    "\n",
    "Keep your skills sharp by answering these straightforward questions."
   ]
  },
  {
   "cell_type": "markdown",
   "metadata": {},
   "source": [
    "**Part A**: <font color='green'>You are driving through the paint toward the basket when Steph Curry fouls you. You step to the line to sink this freethrow shot, which is delivered in the form of a CSCI3022 problem:</font>\n",
    "\n",
    "You have a shuffled deck of cards. It includes the usual 52 cards AND three special additional Octopus cards. You flip over the cards one by one, without replacing them in the deck. You count how many cards you'll have to flip until you flip over the second Octopus.  You repeat this many times. Simulate this process. Plot a histogram with binsize=1 of the outcomes, in lightgrey with white outline. Compute the mean, median, and mode for this dataset, indicate them on the plot too, using linstyles of green dashed, pink dotted, and black solid, respectively. Look up how to do a legend in MatPlotLib, and label your histogram, mean, median.\n",
    "***"
   ]
  },
  {
   "cell_type": "code",
   "execution_count": null,
   "metadata": {},
   "outputs": [],
   "source": []
  },
  {
   "cell_type": "markdown",
   "metadata": {},
   "source": [
    "**Part B**: <font color='green'>You sink your first free throw and immediately get dap from your teammates, Oscar O'Flaherty and Octavia O'Flaherty. You prepare to take another shot, which—and you're not going to believe this—is another CSCI3022 problem:</font>\n",
    "\n",
    "In general, which is wider: a 95% confidence interval or a 99% confidence interval? How would you explain this to your younger sibling, who is not a statistician?\n",
    "***"
   ]
  },
  {
   "cell_type": "code",
   "execution_count": null,
   "metadata": {},
   "outputs": [],
   "source": []
  },
  {
   "cell_type": "markdown",
   "metadata": {},
   "source": [
    "**Part C**: <font color='green'>The crowd is silent. Everything is slow motion. You're literally in the air, releasing what looks to be a perfect shot to tie the match. As you release the ball, a hand appears to block it. It is Kevin Durant. :( \n",
    "\n",
    "Luckily, his fingertips also brush against your arm. That's a foul, and everyone saw it. Back to the line. Back to CSCI3022:</font>\n",
    "\n",
    "Let $X$ be a normally-distributed random variable. You draw from it and get these values, stored in the numpy array **durant**, below. Compute a 95% confidence interval for the _standard deviation_.\n",
    "***"
   ]
  },
  {
   "cell_type": "code",
   "execution_count": null,
   "metadata": {},
   "outputs": [],
   "source": [
    "durant = np.array([3.7778,3.9459,3.8248,4.1111,4.0180,4.0898,4.0380,3.9273,3.9614,3.8387])"
   ]
  },
  {
   "cell_type": "code",
   "execution_count": null,
   "metadata": {},
   "outputs": [],
   "source": []
  },
  {
   "cell_type": "markdown",
   "metadata": {},
   "source": [
    "**Part D**: <font color='green'>\"Draymond Green has it all, in spite of living in the Bay Area,\" you think to yourself. \"But he doesn't have this shot...\" You're all over him, and he's going to have to pass. You can see the irritation in his eyes. Then you realize that it's not irritation, and he's not being distracted by your superb defense. He's being distracted by this CSCI3022 problem:</font>\n",
    "\n",
    "If you're doing quality control for the average strength of carbon fiber that will be used in airplane construction, and your alternative hypothesis is that the strength of the carbon is below tolerance, and therefore unsafe, would you rather have a low Type I error rate or a low Type II error rate? Explain.\n",
    "\n",
    "***"
   ]
  },
  {
   "cell_type": "markdown",
   "metadata": {},
   "source": []
  },
  {
   "cell_type": "markdown",
   "metadata": {},
   "source": [
    "**Part E**: <font color='green'>You are watching tape footage at halftime with your personal trainer, Stella O'Flaherty. You gotta focus up if you're going to match Klay Thompson's speed in the second half. You take a sip of Gatorade and Dr. O'Flaherty suggests that you do the following CSCI3022 problem:</font>\n",
    "\n",
    "You measure 53 suckers from baby reef octopuses and find that they are, on average, 45.2 mm wide, with a standard devaition of 30.4mm. \n",
    "\n",
    "Then you measure 41 suckers from from baby dumbo octopuses and find that they are, on average, 52.8 mm wide, with a standard deviation of 22.8 mm. \n",
    "\n",
    "Is there statistical evidence at the 0.05 significance level that the true mean of baby dumbo octopus sucker width exceeds the true mean of baby reef octopus sucker width by more than 6 mm?  Use a test of your choice.\n",
    "\n",
    "***"
   ]
  },
  {
   "cell_type": "code",
   "execution_count": null,
   "metadata": {},
   "outputs": [],
   "source": []
  },
  {
   "cell_type": "markdown",
   "metadata": {},
   "source": []
  }
 ],
 "metadata": {
  "kernelspec": {
   "display_name": "Python 3",
   "language": "python",
   "name": "python3"
  },
  "language_info": {
   "codemirror_mode": {
    "name": "ipython",
    "version": 3
   },
   "file_extension": ".py",
   "mimetype": "text/x-python",
   "name": "python",
   "nbconvert_exporter": "python",
   "pygments_lexer": "ipython3",
   "version": "3.6.5"
  }
 },
 "nbformat": 4,
 "nbformat_minor": 2
}
